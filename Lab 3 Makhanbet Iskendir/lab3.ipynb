{
 "cells": [
  {
   "cell_type": "markdown",
   "id": "3d86ff7b-8603-47e6-ac32-421aa8bbbcf2",
   "metadata": {},
   "source": [
    "PYTHON FUNCTIONS 1"
   ]
  },
  {
   "cell_type": "markdown",
   "id": "73b7ffe9-8fd3-4b81-b22b-7d46e461e918",
   "metadata": {},
   "source": [
    "Task 1:"
   ]
  },
  {
   "cell_type": "code",
   "execution_count": 80,
   "id": "98424959-7964-4af1-bcdc-8dd379a750a9",
   "metadata": {},
   "outputs": [
    {
     "name": "stdout",
     "output_type": "stream",
     "text": [
      "14174.76155\n"
     ]
    }
   ],
   "source": [
    "def func(grams):\n",
    "    ounces = 28.3495231 * grams\n",
    "    print(ounces)\n",
    "func(500)\n",
    "    "
   ]
  },
  {
   "cell_type": "markdown",
   "id": "9c14ed5f-f1f1-479b-8a1f-aa6d6eaf2d66",
   "metadata": {},
   "source": [
    "Task 2:"
   ]
  },
  {
   "cell_type": "code",
   "execution_count": 1,
   "id": "6ab18ff6-86f2-4eda-84fd-e98cb1af9cf9",
   "metadata": {},
   "outputs": [
    {
     "name": "stdin",
     "output_type": "stream",
     "text": [
      " 100\n"
     ]
    },
    {
     "name": "stdout",
     "output_type": "stream",
     "text": [
      "37.77777777777778\n"
     ]
    }
   ],
   "source": [
    "def Fahrenheit_to_Celcius(fa):\n",
    "    return (5 / 9) * (fa - 32)\n",
    "\n",
    "def main():\n",
    "    fa = float(input())\n",
    "    print(Fahrenheit_to_Celcius(fa))\n",
    "\n",
    "main()"
   ]
  },
  {
   "cell_type": "markdown",
   "id": "7831b77e-479f-4c66-b0b1-47ae2b1de653",
   "metadata": {},
   "source": [
    "Task 3:"
   ]
  },
  {
   "cell_type": "code",
   "execution_count": 3,
   "id": "209374d1-a417-4773-bb71-1df84e2e0488",
   "metadata": {},
   "outputs": [
    {
     "name": "stdin",
     "output_type": "stream",
     "text": [
      " 35\n",
      " 94\n"
     ]
    },
    {
     "name": "stdout",
     "output_type": "stream",
     "text": [
      "Куриц: 23, Кроликов: 12\n"
     ]
    }
   ],
   "source": [
    "def golovolomka(numheads, numlegs):\n",
    "    for chickens in range(numheads + 1):\n",
    "        rabbits = numheads - chickens\n",
    "        if chickens * 2 + rabbits * 4 == numlegs:\n",
    "            return chickens, rabbits\n",
    "    return None\n",
    "\n",
    "numheads = int(input())\n",
    "numlegs = int(input())\n",
    "result = golovolomka(numheads, numlegs)\n",
    "if result:\n",
    "    print(f\"Куриц: {result[0]}, Кроликов: {result[1]}\")\n",
    "else:\n",
    "    print(\"Решения нет\")"
   ]
  },
  {
   "cell_type": "markdown",
   "id": "90c00145-bd6e-4230-9938-b51a13d7a83d",
   "metadata": {},
   "source": [
    "Task 4:"
   ]
  },
  {
   "cell_type": "code",
   "execution_count": 11,
   "id": "be9d756d-5980-4812-96f2-8d1ad5e57dd2",
   "metadata": {},
   "outputs": [
    {
     "name": "stdin",
     "output_type": "stream",
     "text": [
      " 5 4 9 7\n"
     ]
    },
    {
     "name": "stdout",
     "output_type": "stream",
     "text": [
      "[5, 7]\n"
     ]
    }
   ],
   "source": [
    "def filter_prime(num):\n",
    "    if num <= 1:\n",
    "        return False\n",
    "    for i in range(2, int(num ** 0.5) + 1):\n",
    "        if num % i == 0:\n",
    "            return False\n",
    "    return True\n",
    "\n",
    "def main(numbers):\n",
    "    return [num for num in numbers if filter_prime(num)]\n",
    "\n",
    "numbers = list(map(int, input().split()))\n",
    "print(main(numbers))"
   ]
  },
  {
   "cell_type": "markdown",
   "id": "01b8d7fd-1210-43d4-b42e-1887db93b2f5",
   "metadata": {},
   "source": [
    "Task 5:"
   ]
  },
  {
   "cell_type": "code",
   "execution_count": 5,
   "id": "6ec59d2f-92cf-48b8-ae0b-12fd0fafece7",
   "metadata": {},
   "outputs": [
    {
     "name": "stdin",
     "output_type": "stream",
     "text": [
      " sop\n"
     ]
    },
    {
     "name": "stdout",
     "output_type": "stream",
     "text": [
      "sop\n",
      "spo\n",
      "osp\n",
      "ops\n",
      "pso\n",
      "pos\n"
     ]
    }
   ],
   "source": [
    "import itertools\n",
    "\n",
    "def permutations():\n",
    "    string = input()\n",
    "    permutations = itertools.permutations(string)\n",
    "    for perm in permutations:\n",
    "        print(''.join(perm))\n",
    "\n",
    "permutations()"
   ]
  },
  {
   "cell_type": "markdown",
   "id": "887b24d7-a726-4718-bd72-bda288b89f97",
   "metadata": {},
   "source": [
    "Task 6:"
   ]
  },
  {
   "cell_type": "code",
   "execution_count": 7,
   "id": "9fc58341-1376-42a6-8b8a-baa8c9e4dca0",
   "metadata": {},
   "outputs": [
    {
     "name": "stdin",
     "output_type": "stream",
     "text": [
      " we are ready\n"
     ]
    },
    {
     "data": {
      "text/plain": [
       "'ready are we'"
      ]
     },
     "execution_count": 7,
     "metadata": {},
     "output_type": "execute_result"
    }
   ],
   "source": [
    "def reverse_words():\n",
    "    sentence = input()\n",
    "    words = sentence.split()\n",
    "    reversed_sentence = ' '.join(reversed(words))\n",
    "    return reversed_sentence\n",
    "\n",
    "reverse_words()"
   ]
  },
  {
   "cell_type": "markdown",
   "id": "7ec16d51-c344-45d0-8c81-002e434e559f",
   "metadata": {},
   "source": [
    "Task 7:"
   ]
  },
  {
   "cell_type": "code",
   "execution_count": 13,
   "id": "8a6a45b3-8f87-4874-95f4-6f7e8e2cf9e7",
   "metadata": {},
   "outputs": [
    {
     "name": "stdin",
     "output_type": "stream",
     "text": [
      " 1 2 4 5 8 3 3 4\n"
     ]
    },
    {
     "data": {
      "text/plain": [
       "True"
      ]
     },
     "execution_count": 13,
     "metadata": {},
     "output_type": "execute_result"
    }
   ],
   "source": [
    "def has_33(nums):\n",
    "    for i in range(len(nums) - 1):\n",
    "        if nums[i] == 3 and nums[i + 1] == 3:\n",
    "            return True\n",
    "    return False\n",
    "\n",
    "nums = list(map(int, input().split()))\n",
    "\n",
    "has_33(nums)"
   ]
  },
  {
   "cell_type": "markdown",
   "id": "281cd476-cea8-4689-ae97-36a8095f642e",
   "metadata": {},
   "source": [
    "Task 8:"
   ]
  },
  {
   "cell_type": "code",
   "execution_count": 17,
   "id": "20cea929-c736-4315-89c4-2de168acda56",
   "metadata": {},
   "outputs": [
    {
     "name": "stdin",
     "output_type": "stream",
     "text": [
      " 1 4 5 6 0 0 7\n"
     ]
    },
    {
     "data": {
      "text/plain": [
       "True"
      ]
     },
     "execution_count": 17,
     "metadata": {},
     "output_type": "execute_result"
    }
   ],
   "source": [
    "def spy_game(nums):\n",
    "    numbers = [0, 0, 7]\n",
    "    for i in range(len(nums) - 2):\n",
    "        if nums[i:i+3] == numbers:\n",
    "            return True\n",
    "    return False\n",
    "\n",
    "nums = list(map(int, input().split()))\n",
    "spy_game(nums)"
   ]
  },
  {
   "cell_type": "markdown",
   "id": "62d5ea75-5a07-4786-8b9b-3c1d6b79bda6",
   "metadata": {},
   "source": [
    "Task 9:"
   ]
  },
  {
   "cell_type": "code",
   "execution_count": 19,
   "id": "7dc89023-dca0-4c04-8739-0476d543176b",
   "metadata": {},
   "outputs": [
    {
     "name": "stdin",
     "output_type": "stream",
     "text": [
      " 12\n"
     ]
    },
    {
     "data": {
      "text/plain": [
       "7238.229473870882"
      ]
     },
     "execution_count": 19,
     "metadata": {},
     "output_type": "execute_result"
    }
   ],
   "source": [
    "import math\n",
    "\n",
    "def volume(radius):\n",
    "    volume = (4/3) * math.pi * radius**3\n",
    "    return volume\n",
    "\n",
    "\n",
    "radius = float(input())\n",
    "volume(radius)"
   ]
  },
  {
   "cell_type": "markdown",
   "id": "9f5239e6-9d3d-4929-a1e5-dee6413e6398",
   "metadata": {},
   "source": [
    "Task 10:"
   ]
  },
  {
   "cell_type": "code",
   "execution_count": 21,
   "id": "35339a03-7762-42da-9ed5-9aeda5c31667",
   "metadata": {},
   "outputs": [
    {
     "name": "stdin",
     "output_type": "stream",
     "text": [
      " 4 4 2 3 6 6 7 7\n"
     ]
    },
    {
     "name": "stdout",
     "output_type": "stream",
     "text": [
      "[4, 2, 3, 6, 7]\n"
     ]
    }
   ],
   "source": [
    "def unique_elements(lst):\n",
    "    unique = []\n",
    "    for item in lst:\n",
    "        if item not in unique:\n",
    "            unique.append(item)\n",
    "    return unique\n",
    "\n",
    "\n",
    "numbers = list(map(int, input().split()))\n",
    "print(unique_elements(numbers)) "
   ]
  },
  {
   "cell_type": "markdown",
   "id": "46aed296-170e-4ba2-b08e-17af10378fd2",
   "metadata": {},
   "source": [
    "Task 11:"
   ]
  },
  {
   "cell_type": "code",
   "execution_count": 27,
   "id": "bcf2f6a7-97e7-489e-895c-74dfa3b8339d",
   "metadata": {},
   "outputs": [
    {
     "name": "stdin",
     "output_type": "stream",
     "text": [
      " madam\n"
     ]
    },
    {
     "name": "stdout",
     "output_type": "stream",
     "text": [
      "its palindrome\n"
     ]
    }
   ],
   "source": [
    "def palindrome(s):\n",
    "    s = ''\n",
    "    return s == s[::-1]\n",
    "\n",
    "word = input()\n",
    "if palindrome(word):\n",
    "    print(\"its palindrome\")\n",
    "else:\n",
    "    print(\"not polindrome\")"
   ]
  },
  {
   "cell_type": "markdown",
   "id": "1a4141fd-e532-4317-85c4-5fbd5407c42d",
   "metadata": {},
   "source": [
    "Task 12:"
   ]
  },
  {
   "cell_type": "code",
   "execution_count": 41,
   "id": "1fb2ce1d-8fb1-4394-b437-8028d2da528c",
   "metadata": {},
   "outputs": [
    {
     "name": "stdin",
     "output_type": "stream",
     "text": [
      " 4 5\n"
     ]
    },
    {
     "name": "stdout",
     "output_type": "stream",
     "text": [
      "****\n",
      "*****\n"
     ]
    }
   ],
   "source": [
    "def histogram(lst):\n",
    "    for num in lst:\n",
    "        print('*' * num)\n",
    "numbers = list(map(int, input().split()))\n",
    "histogram(numbers)"
   ]
  },
  {
   "cell_type": "markdown",
   "id": "94f18c5e-2b5b-4b4b-8e4c-327fed6f6287",
   "metadata": {},
   "source": [
    "Task 13:"
   ]
  },
  {
   "cell_type": "code",
   "execution_count": 29,
   "id": "6fb1aa2c-ced0-445a-aea0-77d285a1e077",
   "metadata": {},
   "outputs": [
    {
     "name": "stdout",
     "output_type": "stream",
     "text": [
      "Hello! What is your name?\n"
     ]
    },
    {
     "name": "stdin",
     "output_type": "stream",
     "text": [
      " 3\n"
     ]
    },
    {
     "name": "stdout",
     "output_type": "stream",
     "text": [
      "Well, 3, I am thinking of a number between 1 and 20.\n",
      "Take a guess.\n"
     ]
    },
    {
     "name": "stdin",
     "output_type": "stream",
     "text": [
      " 4\n"
     ]
    },
    {
     "name": "stdout",
     "output_type": "stream",
     "text": [
      "Your guess is too low.\n",
      "Take a guess.\n"
     ]
    },
    {
     "name": "stdin",
     "output_type": "stream",
     "text": [
      " 7\n"
     ]
    },
    {
     "name": "stdout",
     "output_type": "stream",
     "text": [
      "Your guess is too low.\n",
      "Take a guess.\n"
     ]
    },
    {
     "name": "stdin",
     "output_type": "stream",
     "text": [
      " 7\n"
     ]
    },
    {
     "name": "stdout",
     "output_type": "stream",
     "text": [
      "Your guess is too low.\n",
      "Take a guess.\n"
     ]
    },
    {
     "name": "stdin",
     "output_type": "stream",
     "text": [
      " 1\n"
     ]
    },
    {
     "name": "stdout",
     "output_type": "stream",
     "text": [
      "Your guess is too low.\n",
      "Take a guess.\n"
     ]
    },
    {
     "name": "stdin",
     "output_type": "stream",
     "text": [
      " 9\n"
     ]
    },
    {
     "name": "stdout",
     "output_type": "stream",
     "text": [
      "Your guess is too low.\n",
      "Take a guess.\n"
     ]
    },
    {
     "name": "stdin",
     "output_type": "stream",
     "text": [
      " 18\n"
     ]
    },
    {
     "name": "stdout",
     "output_type": "stream",
     "text": [
      "Your guess is too low.\n",
      "Take a guess.\n"
     ]
    },
    {
     "name": "stdin",
     "output_type": "stream",
     "text": [
      " 19\n"
     ]
    },
    {
     "name": "stdout",
     "output_type": "stream",
     "text": [
      "Good job, 3! You guessed my number in 7 guesses!\n"
     ]
    }
   ],
   "source": [
    "import random\n",
    "def game():\n",
    "    num = random.randint(1, 21)\n",
    "    print(f\"Hello! What is your name?\")\n",
    "    name = input()\n",
    "    print(f\"Well, {name}, I am thinking of a number between 1 and 20.\")\n",
    "    \n",
    "    attempts = 0\n",
    "    while True:\n",
    "        print(\"Take a guess.\")\n",
    "        guess = int(input())\n",
    "        attempts += 1\n",
    "\n",
    "        if guess < num:\n",
    "            print(\"Your guess is too low.\")\n",
    "        elif guess > num:\n",
    "            print(\"Your guess is too high.\")\n",
    "        else:\n",
    "            print(f\"Good job, {name}! You guessed my number in {attempts} guesses!\")\n",
    "            break   \n",
    "game()"
   ]
  },
  {
   "cell_type": "markdown",
   "id": "c6428ac1-ef71-4592-b58a-470b2093643a",
   "metadata": {},
   "source": [
    "FUNCTION 2"
   ]
  },
  {
   "cell_type": "code",
   "execution_count": 32,
   "id": "ed175131-a6b0-4353-92a0-f5d8bc9b708b",
   "metadata": {},
   "outputs": [
    {
     "name": "stdout",
     "output_type": "stream",
     "text": [
      "True\n",
      "[{'name': 'Usual Suspects', 'imdb': 7.0, 'category': 'Thriller'}, {'name': 'Hitman', 'imdb': 6.3, 'category': 'Action'}, {'name': 'Dark Knight', 'imdb': 9.0, 'category': 'Adventure'}, {'name': 'The Help', 'imdb': 8.0, 'category': 'Drama'}, {'name': 'The Choice', 'imdb': 6.2, 'category': 'Romance'}, {'name': 'Colonia', 'imdb': 7.4, 'category': 'Romance'}, {'name': 'Love', 'imdb': 6.0, 'category': 'Romance'}, {'name': 'Joking muck', 'imdb': 7.2, 'category': 'Comedy'}, {'name': 'What is the name', 'imdb': 9.2, 'category': 'Suspense'}, {'name': 'Detective', 'imdb': 7.0, 'category': 'Suspense'}, {'name': 'We Two', 'imdb': 7.2, 'category': 'Romance'}]\n",
      "[{'name': 'The Choice', 'imdb': 6.2, 'category': 'Romance'}, {'name': 'Colonia', 'imdb': 7.4, 'category': 'Romance'}, {'name': 'Love', 'imdb': 6.0, 'category': 'Romance'}, {'name': 'Bride Wars', 'imdb': 5.4, 'category': 'Romance'}, {'name': 'We Two', 'imdb': 7.2, 'category': 'Romance'}]\n",
      "Avg imdb score: 6.486666666666666\n",
      "Avg imdb score romance: 6.44\n"
     ]
    }
   ],
   "source": [
    "import random\n",
    "\n",
    "def anyMovie(movies):\n",
    "    movie = random.choice(movies)\n",
    "    return movie.get(\"imdb\", 0) > 5.5\n",
    "\n",
    "def badMovie(movies):\n",
    "    return [movie for movie in movies if movie.get(\"imdb\", 0) > 5.5]\n",
    "\n",
    "def category(movies, category_name):\n",
    "    return [movie for movie in movies if movie.get(\"category\") == category_name]\n",
    "\n",
    "def average_imdb_score(movies):\n",
    "    total_score = sum(movie.get(\"imdb\", 0) for movie in movies)\n",
    "    return total_score / len(movies) \n",
    "\n",
    "def average_imdb_by_category(movies, category_name):\n",
    "    category = [movie for movie in movies if movie.get(\"category\") == category_name]\n",
    "    \n",
    "    total_score = sum(movie.get(\"imdb\", 0) for movie in category)\n",
    "    return total_score / len(category)\n",
    "\n",
    "\n",
    "\n",
    "movies = [\n",
    "{\n",
    "\"name\": \"Usual Suspects\", \n",
    "\"imdb\": 7.0,\n",
    "\"category\": \"Thriller\"\n",
    "},\n",
    "{\n",
    "\"name\": \"Hitman\",\n",
    "\"imdb\": 6.3,\n",
    "\"category\": \"Action\"\n",
    "},\n",
    "{\n",
    "\"name\": \"Dark Knight\",\n",
    "\"imdb\": 9.0,\n",
    "\"category\": \"Adventure\"\n",
    "},\n",
    "{\n",
    "\"name\": \"The Help\",\n",
    "\"imdb\": 8.0,\n",
    "\"category\": \"Drama\"\n",
    "},\n",
    "{\n",
    "\"name\": \"The Choice\",\n",
    "\"imdb\": 6.2,\n",
    "\"category\": \"Romance\"\n",
    "},\n",
    "{\n",
    "\"name\": \"Colonia\",\n",
    "\"imdb\": 7.4,\n",
    "\"category\": \"Romance\"\n",
    "},\n",
    "{\n",
    "\"name\": \"Love\",\n",
    "\"imdb\": 6.0,\n",
    "\"category\": \"Romance\"\n",
    "},\n",
    "{\n",
    "\"name\": \"Bride Wars\",\n",
    "\"imdb\": 5.4,\n",
    "\"category\": \"Romance\"\n",
    "},\n",
    "{\n",
    "\"name\": \"AlphaJet\",\n",
    "\"imdb\": 3.2,\n",
    "\"category\": \"War\"\n",
    "},\n",
    "{\n",
    "\"name\": \"Ringing Crime\",\n",
    "\"imdb\": 4.0,\n",
    "\"category\": \"Crime\"\n",
    "},\n",
    "{\n",
    "\"name\": \"Joking muck\",\n",
    "\"imdb\": 7.2,\n",
    "\"category\": \"Comedy\"\n",
    "},\n",
    "{\n",
    "\"name\": \"What is the name\",\n",
    "\"imdb\": 9.2,\n",
    "\"category\": \"Suspense\"\n",
    "},\n",
    "{\n",
    "\"name\": \"Detective\",\n",
    "\"imdb\": 7.0,\n",
    "\"category\": \"Suspense\"\n",
    "},\n",
    "{\n",
    "\"name\": \"Exam\",\n",
    "\"imdb\": 4.2,\n",
    "\"category\": \"Thriller\"\n",
    "},\n",
    "{\n",
    "\"name\": \"We Two\",\n",
    "\"imdb\": 7.2,\n",
    "\"category\": \"Romance\"\n",
    "}\n",
    "]\n",
    "\n",
    "print(anyMovie(movies))\n",
    "print(badMovie(movies))\n",
    "print(category(movies, \"Romance\"))\n",
    "print(f\"Avg imdb score: {average_imdb_score(movies)}\")\n",
    "print(f\"Avg imdb score romance: {average_imdb_by_category(movies, \"Romance\")}\")"
   ]
  },
  {
   "cell_type": "markdown",
   "id": "7692bee4-2849-49bb-8b08-6dfe815ada84",
   "metadata": {},
   "source": [
    "PYTHON CLASSES"
   ]
  },
  {
   "cell_type": "markdown",
   "id": "51b138b5-d841-4f18-8c1f-1cd8b4af5b0c",
   "metadata": {},
   "source": [
    "Task 1"
   ]
  },
  {
   "cell_type": "code",
   "execution_count": 36,
   "id": "3525d4d6-0326-4f46-ac1a-300b28212e0c",
   "metadata": {},
   "outputs": [
    {
     "name": "stdin",
     "output_type": "stream",
     "text": [
      " My name is Iskendir\n"
     ]
    },
    {
     "name": "stdout",
     "output_type": "stream",
     "text": [
      "MY NAME IS ISKENDIR\n"
     ]
    }
   ],
   "source": [
    "class String:\n",
    "    def __init__(self):\n",
    "        self.text = \"\"\n",
    "    \n",
    "    def getString(self):\n",
    "        self.text = input()\n",
    "    \n",
    "    def printString(self):\n",
    "        print(self.text.upper())\n",
    "\n",
    "def main():\n",
    "    obj = String()\n",
    "    obj.getString()\n",
    "    obj.printString()\n",
    "\n",
    "main()"
   ]
  },
  {
   "cell_type": "markdown",
   "id": "bb99ba78-495e-45e6-8bd1-6fd35e472ad9",
   "metadata": {},
   "source": [
    "Task 2:"
   ]
  },
  {
   "cell_type": "code",
   "execution_count": 41,
   "id": "4e0a2610-018e-4499-86a1-35a98082ce92",
   "metadata": {},
   "outputs": [
    {
     "name": "stdin",
     "output_type": "stream",
     "text": [
      " 36\n"
     ]
    },
    {
     "name": "stdout",
     "output_type": "stream",
     "text": [
      "1296\n",
      "0\n"
     ]
    }
   ],
   "source": [
    "class Shape:\n",
    "    def area(self):\n",
    "        return 0\n",
    "    \n",
    "class Square(Shape):\n",
    "    def __init__(self, length):\n",
    "        self.length = length\n",
    "\n",
    "    def area(self):\n",
    "        return self.length ** 2\n",
    "    \n",
    "length = int(input())\n",
    "square = Square(length)\n",
    "print(square.area())\n",
    "shape = Shape()\n",
    "print(shape.area())"
   ]
  },
  {
   "cell_type": "markdown",
   "id": "7dff8587-a670-4110-8eec-050f7ec3c709",
   "metadata": {},
   "source": [
    "Task 3:"
   ]
  },
  {
   "cell_type": "code",
   "execution_count": 44,
   "id": "bc96210b-8364-47cb-99f3-670c8c030e94",
   "metadata": {},
   "outputs": [
    {
     "name": "stdin",
     "output_type": "stream",
     "text": [
      " 20\n",
      " 0\n"
     ]
    },
    {
     "name": "stdout",
     "output_type": "stream",
     "text": [
      "0\n",
      "0\n"
     ]
    }
   ],
   "source": [
    "class Shape:\n",
    "    def area(self):\n",
    "        return 0\n",
    "    \n",
    "class Rectangle(Shape):\n",
    "    def __init__ (self, length, width):\n",
    "        self.length = length\n",
    "        self.width = width\n",
    "\n",
    "    def area(self):\n",
    "        return self.length * self.width\n",
    "\n",
    "length = int(input())\n",
    "width = int(input())\n",
    "\n",
    "rectangle = Rectangle(length, width)\n",
    "print(rectangle.area())\n",
    "\n",
    "shape = Shape()\n",
    "print(shape.area())"
   ]
  },
  {
   "cell_type": "markdown",
   "id": "57455899-5f49-4b67-8df9-0ed2baba6f9f",
   "metadata": {},
   "source": [
    "Task 4:"
   ]
  },
  {
   "cell_type": "code",
   "execution_count": 49,
   "id": "9ad07ee6-609f-4080-af9c-8b0bea91f9ac",
   "metadata": {},
   "outputs": [
    {
     "name": "stdin",
     "output_type": "stream",
     "text": [
      " 20 30\n",
      " 50 60\n"
     ]
    },
    {
     "name": "stdout",
     "output_type": "stream",
     "text": [
      "20 30\n",
      "50 60\n",
      "42.42640687119285\n"
     ]
    },
    {
     "name": "stdin",
     "output_type": "stream",
     "text": [
      " 30 40\n"
     ]
    },
    {
     "name": "stdout",
     "output_type": "stream",
     "text": [
      "30 40\n"
     ]
    }
   ],
   "source": [
    "class Point:\n",
    "    def __init__(self, x, y):\n",
    "        self.x, self.y = x, y\n",
    "\n",
    "    def show(self):\n",
    "        print(self.x, self.y)\n",
    "\n",
    "    def move(self, new_x, new_y):\n",
    "        self.x, self.y = new_x, new_y\n",
    "\n",
    "    def dist(self, other):\n",
    "        return ((self.x - other.x) ** 2 + (self.y - other.y) ** 2) ** 0.5\n",
    "    \n",
    "x1, y1 = map(int, input().split())\n",
    "x2, y2 = map(int, input().split())\n",
    "\n",
    "p1 = Point(x1,y1)\n",
    "p2 = Point(x2,y2)\n",
    "p1.show()\n",
    "p2.show()\n",
    "print(p1.dist(p2))\n",
    "new_x, new_y = map(int, input().split())\n",
    "p1.move(new_x, new_y)\n",
    "p1.show()"
   ]
  },
  {
   "cell_type": "markdown",
   "id": "738a99cd-8809-4e60-845f-ddbd6c280521",
   "metadata": {},
   "source": [
    "Task 5:"
   ]
  },
  {
   "cell_type": "code",
   "execution_count": 57,
   "id": "086bf114-9b16-4439-b101-26200ef58bcd",
   "metadata": {},
   "outputs": [
    {
     "name": "stdin",
     "output_type": "stream",
     "text": [
      "Имя владельца:  Iskendir\n",
      "Сумма на балансе:  150000\n",
      "deposit or snyatie or exit? deposit\n",
      "Сумма вноса:  150000\n"
     ]
    },
    {
     "name": "stdout",
     "output_type": "stream",
     "text": [
      "Пополнение: 150000.0, Новый Баланс = 300000.0\n"
     ]
    },
    {
     "name": "stdin",
     "output_type": "stream",
     "text": [
      "deposit or snyatie or exit? exit\n"
     ]
    }
   ],
   "source": [
    "class Bank:\n",
    "    def __init__ (self, owner, balance):\n",
    "        self.owner = owner\n",
    "        self.balance = balance\n",
    "\n",
    "    def deposit(self, sum):\n",
    "        if sum > 0:\n",
    "            self.balance += sum\n",
    "            print(f\"Пополнение: {sum}, Новый Баланс = {self.balance}\")\n",
    "        else:\n",
    "            print(\"Сумма должна быть позитивной\")\n",
    "    def snyatie(self, sum):\n",
    "        if sum > 0 and sum <= self.balance:\n",
    "            self.balance -= sum\n",
    "            print(f\"Снялось: {sum}, Остаток: {self.balance}\")\n",
    "        elif sum > self.balance:\n",
    "            print(\"Не хватает средств\")\n",
    "owner = input(\"Имя владельца: \")\n",
    "balance = float(input(\"Сумма на балансе: \"))\n",
    "\n",
    "account = Bank(owner, balance)\n",
    "\n",
    "while True:\n",
    "    choose = input(\"deposit or snyatie or exit?\")\n",
    "    if choose == \"deposit\":\n",
    "        sum = float(input(\"Сумма вноса: \"))\n",
    "        account.deposit(sum)\n",
    "    elif choose == \"snatie\":\n",
    "        sum = float(input(\"Сумма снятия: \"))\n",
    "        account.snyatie(sum)\n",
    "    elif choose == \"exit\":\n",
    "        break\n",
    "    "
   ]
  },
  {
   "cell_type": "markdown",
   "id": "c65a91ca-e704-4929-a82f-0cc6a3b6de19",
   "metadata": {},
   "source": [
    "Task 6:"
   ]
  },
  {
   "cell_type": "code",
   "execution_count": 59,
   "id": "f460d5bf-d970-4fb2-91f5-98a2bdcd029a",
   "metadata": {},
   "outputs": [
    {
     "name": "stdin",
     "output_type": "stream",
     "text": [
      " 1 4 9 5 7\n"
     ]
    },
    {
     "name": "stdout",
     "output_type": "stream",
     "text": [
      "[5, 7]\n"
     ]
    }
   ],
   "source": [
    "def is_prime(n):\n",
    "    return n > 1 and all(n % i != 0 for i in range(2, int(n ** 0.5) + 1))\n",
    "\n",
    "numbers = list(map(int, input().split()))\n",
    "\n",
    "prime_numbers = list(filter(lambda x: is_prime(x), numbers))\n",
    "\n",
    "print(prime_numbers)"
   ]
  },
  {
   "cell_type": "code",
   "execution_count": null,
   "id": "d4cd4daa-7c2c-4bf6-932f-ecb5a1e4803b",
   "metadata": {},
   "outputs": [],
   "source": []
  }
 ],
 "metadata": {
  "kernelspec": {
   "display_name": "Python [conda env:base] *",
   "language": "python",
   "name": "conda-base-py"
  },
  "language_info": {
   "codemirror_mode": {
    "name": "ipython",
    "version": 3
   },
   "file_extension": ".py",
   "mimetype": "text/x-python",
   "name": "python",
   "nbconvert_exporter": "python",
   "pygments_lexer": "ipython3",
   "version": "3.12.7"
  }
 },
 "nbformat": 4,
 "nbformat_minor": 5
}

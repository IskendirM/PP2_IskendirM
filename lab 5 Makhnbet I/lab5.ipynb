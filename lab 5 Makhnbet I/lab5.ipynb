{
 "cells": [
  {
   "cell_type": "markdown",
   "id": "c3624fdc-2a81-4210-9365-a571b1dede36",
   "metadata": {},
   "source": [
    "examples, lecture notes:"
   ]
  },
  {
   "cell_type": "code",
   "execution_count": 9,
   "id": "a501e15f-c429-4bc9-bdc6-eff062715b0c",
   "metadata": {},
   "outputs": [
    {
     "name": "stdout",
     "output_type": "stream",
     "text": [
      "['y', 'n', 'a', 'm', 'e', 'i', 's', 'a', 'k', 'h', 'a', 'n', 'b', 'e', 't', 's', 'k', 'e', 'n', 'd', 'i', 'r']\n"
     ]
    }
   ],
   "source": [
    "import re\n",
    "sen = \"My name is Makhanbet Iskendir\"\n",
    "x = re.findall(\"[a-z]\",sen)\n",
    "print(x)"
   ]
  },
  {
   "cell_type": "code",
   "execution_count": 27,
   "id": "fea279bb-073a-40aa-a577-73e0813169b3",
   "metadata": {
    "jupyter": {
     "source_hidden": true
    }
   },
   "outputs": [
    {
     "name": "stdout",
     "output_type": "stream",
     "text": [
      "['1', '8']\n"
     ]
    },
    {
     "name": "stderr",
     "output_type": "stream",
     "text": [
      "<>:3: SyntaxWarning: invalid escape sequence '\\d'\n",
      "<>:3: SyntaxWarning: invalid escape sequence '\\d'\n",
      "C:\\Users\\Lenovo\\AppData\\Local\\Temp\\ipykernel_9028\\1672820327.py:3: SyntaxWarning: invalid escape sequence '\\d'\n",
      "  x = re.findall(\"\\d\", sen)\n"
     ]
    }
   ],
   "source": [
    "import re\n",
    "sen = \"I am 18 years old\"\n",
    "x = re.findall(\"\\d\", sen)\n",
    "print(x)"
   ]
  },
  {
   "cell_type": "code",
   "execution_count": 33,
   "id": "08f471c1-d2dc-4c50-87e6-83971e6934ff",
   "metadata": {},
   "outputs": [
    {
     "name": "stdout",
     "output_type": "stream",
     "text": [
      "['Makhanbet']\n"
     ]
    }
   ],
   "source": [
    "import re\n",
    "sen = \"My name is Makhanbet Iskendir\"\n",
    "x = re.findall(\"Ma......t\", sen)\n",
    "print(x)"
   ]
  },
  {
   "cell_type": "code",
   "execution_count": 35,
   "id": "889a6a89-2910-41ee-9a15-0a418d939e63",
   "metadata": {},
   "outputs": [
    {
     "name": "stdout",
     "output_type": "stream",
     "text": [
      "Yes, the sen starts with My!\n"
     ]
    }
   ],
   "source": [
    "import re\n",
    "sen = \"My name is Makhanbet Iskendir\"\n",
    "x = re.findall(\"^My\", sen)\n",
    "if x:\n",
    "    print(\"Yes, the sen starts with My!\")\n",
    "else:\n",
    "    print(\"No, the sen doesn't start with My!\")"
   ]
  },
  {
   "cell_type": "code",
   "execution_count": 37,
   "id": "c803a61c-de2b-4394-860b-8469ad79ac37",
   "metadata": {},
   "outputs": [
    {
     "name": "stdout",
     "output_type": "stream",
     "text": [
      "Yes, the sen ends with Iskendir!\n"
     ]
    }
   ],
   "source": [
    "import re\n",
    "sen = \"My name is Makhanbet Iskendir\"\n",
    "x = re.findall(\"Iskendir$\", sen)\n",
    "if x:\n",
    "    print(\"Yes, the sen ends with Iskendir!\")\n",
    "else:\n",
    "    print(\"No, the sen doesn't end with Iskendir!\")"
   ]
  },
  {
   "cell_type": "code",
   "execution_count": 39,
   "id": "ad73576b-41df-4a28-bb34-0351641e8aad",
   "metadata": {},
   "outputs": [
    {
     "name": "stdout",
     "output_type": "stream",
     "text": [
      "['Makhanbet']\n"
     ]
    }
   ],
   "source": [
    "import re\n",
    "sen = \"My name is Makhanbet Iskendir\"\n",
    "x = re.findall(\"Ma.*t\", sen)\n",
    "print(x)"
   ]
  },
  {
   "cell_type": "code",
   "execution_count": 41,
   "id": "35273038-d1ab-433f-9ca6-5267813a23d8",
   "metadata": {},
   "outputs": [
    {
     "name": "stdout",
     "output_type": "stream",
     "text": [
      "[]\n"
     ]
    }
   ],
   "source": [
    "import re\n",
    "sen = \"My name is Makhanbet Iskendir\"\n",
    "x = re.findall(\"Ma.?t\", sen)\n",
    "print(x)"
   ]
  },
  {
   "cell_type": "code",
   "execution_count": 43,
   "id": "79c9f14f-cb83-4ad2-8d9c-e508ea9b53b0",
   "metadata": {},
   "outputs": [
    {
     "name": "stdout",
     "output_type": "stream",
     "text": [
      "['Makhanbet']\n"
     ]
    }
   ],
   "source": [
    "import re\n",
    "sen = \"My name is Makhanbet Iskendir\"\n",
    "x = re.findall(\"Ma.+t\", sen)\n",
    "print(x)"
   ]
  },
  {
   "cell_type": "code",
   "execution_count": 45,
   "id": "239e873e-2c8d-416d-a837-782f55c1336f",
   "metadata": {},
   "outputs": [
    {
     "name": "stdout",
     "output_type": "stream",
     "text": [
      "['Makhanbet']\n"
     ]
    }
   ],
   "source": [
    "import re\n",
    "sen = \"My name is Makhanbet Iskendir\"\n",
    "x = re.findall(\"Ma.{6}t\", sen)\n",
    "print(x)"
   ]
  },
  {
   "cell_type": "code",
   "execution_count": 47,
   "id": "d0eef5a9-860f-4e2e-9c37-ed0ab83c7f20",
   "metadata": {},
   "outputs": [
    {
     "name": "stdout",
     "output_type": "stream",
     "text": [
      "['name']\n",
      "Match\n"
     ]
    }
   ],
   "source": [
    "import re\n",
    "sen = \"My name is Makhanbet Iskendir\"\n",
    "x = re.findall(\"name|lastname\", sen)\n",
    "print(x)\n",
    "if x:\n",
    "    print(\"Match\")\n",
    "else:\n",
    "    print(\"No match\")"
   ]
  },
  {
   "cell_type": "markdown",
   "id": "0ea522ea-9e32-459a-a04e-ce5fa0f9ea9f",
   "metadata": {},
   "source": [
    "LAB 5"
   ]
  },
  {
   "cell_type": "markdown",
   "id": "e326d231-cebf-4419-bd93-b32522cc1dd0",
   "metadata": {},
   "source": [
    "Task 1:"
   ]
  },
  {
   "cell_type": "code",
   "execution_count": 97,
   "id": "fae15c8a-57d4-474b-96ba-4217801ad871",
   "metadata": {},
   "outputs": [
    {
     "name": "stdout",
     "output_type": "stream",
     "text": [
      "True\n"
     ]
    }
   ],
   "source": [
    "import re\n",
    "def func(stringi):\n",
    "    vb = r\"ab*\"\n",
    "    if re.fullmatch(vb, stringi):\n",
    "        return True\n",
    "    return False\n",
    "test_stringa = ['abbbb']\n",
    "for test in test_stringa:\n",
    "    print(func(test))"
   ]
  },
  {
   "cell_type": "markdown",
   "id": "ac002469-5289-4985-a34f-048c968b4753",
   "metadata": {},
   "source": [
    "Task 2:"
   ]
  },
  {
   "cell_type": "code",
   "execution_count": 106,
   "id": "1c6098b0-7096-4c10-9a07-a4aa235a0218",
   "metadata": {},
   "outputs": [
    {
     "name": "stdout",
     "output_type": "stream",
     "text": [
      "False\n"
     ]
    }
   ],
   "source": [
    "import re\n",
    "def func(stringi):\n",
    "    vb = r\"a{1}b{2,3}\"\n",
    "    if re.fullmatch(vb, stringi):\n",
    "        return True\n",
    "    return False\n",
    "test_stringa = ['ab']\n",
    "for test in test_stringa:\n",
    "    print(func(test))"
   ]
  },
  {
   "cell_type": "markdown",
   "id": "10f8ec94-b97d-4f70-a128-c7ea3d5ccf3f",
   "metadata": {},
   "source": [
    "Task 3:"
   ]
  },
  {
   "cell_type": "code",
   "execution_count": 143,
   "id": "96efbbad-f304-4d09-a19d-363587eb9af3",
   "metadata": {},
   "outputs": [
    {
     "name": "stdout",
     "output_type": "stream",
     "text": [
      "a_b\n"
     ]
    }
   ],
   "source": [
    "import re\n",
    "\n",
    "text = \"a_b\"\n",
    "vb = r'\\b[a-z]+(?:_[a-z]+)+\\b'\n",
    "so = re.findall(vb, text)\n",
    "for match in so:\n",
    "    print(match)"
   ]
  },
  {
   "cell_type": "markdown",
   "id": "6a8b2ae7-ae1c-4900-b00d-b82662842614",
   "metadata": {},
   "source": [
    "Task 4:"
   ]
  },
  {
   "cell_type": "code",
   "execution_count": 146,
   "id": "2a0c546f-6b46-4cb6-91ee-02b6fcdb0c30",
   "metadata": {},
   "outputs": [
    {
     "name": "stdout",
     "output_type": "stream",
     "text": [
      "Ab\n",
      "Ac\n"
     ]
    }
   ],
   "source": [
    "import re\n",
    "\n",
    "text = \"Ab, bA, bb, Ac\"\n",
    "vb = r'\\b[A-Z][a-z]+\\b'\n",
    "os = re.findall(vb, text)\n",
    "for match in os:\n",
    "    print(match)"
   ]
  },
  {
   "cell_type": "markdown",
   "id": "26323de8-bcb1-4f3b-84f6-c58d1f9d4cb8",
   "metadata": {},
   "source": [
    "Task 5:"
   ]
  },
  {
   "cell_type": "code",
   "execution_count": 159,
   "id": "d9207f2b-af4b-4e44-9f0e-e49e37dcc9f0",
   "metadata": {},
   "outputs": [
    {
     "name": "stdout",
     "output_type": "stream",
     "text": [
      "a_b, a$&#b, adkb\n"
     ]
    }
   ],
   "source": [
    "import re\n",
    "text = \"a_b, a$&#b, adkb\"\n",
    "vb = r'a.*b'\n",
    "tak = re.findall(vb, text)\n",
    "for match in tak:\n",
    "    print(match)\n"
   ]
  },
  {
   "cell_type": "markdown",
   "id": "8c6246f5-b53a-4441-be33-343a1dddfd37",
   "metadata": {},
   "source": [
    "Task 6:"
   ]
  },
  {
   "cell_type": "code",
   "execution_count": 162,
   "id": "36c1bcba-4da7-431e-8528-42008629f86a",
   "metadata": {},
   "outputs": [
    {
     "name": "stdout",
     "output_type": "stream",
     "text": [
      "My:name::is:Iskendir:\n"
     ]
    }
   ],
   "source": [
    "import re\n",
    "text = \"My name, is Iskendir.\"\n",
    "vb = r'[ ,.]'\n",
    "output = re.sub(vb, ':', text)\n",
    "print(output)\n"
   ]
  },
  {
   "cell_type": "markdown",
   "id": "f49089ef-1150-4e56-a9e7-5f61a637b4d2",
   "metadata": {},
   "source": [
    "Task 7:"
   ]
  },
  {
   "cell_type": "code",
   "execution_count": 173,
   "id": "778d6b68-2953-4619-91fc-32ade764b827",
   "metadata": {},
   "outputs": [
    {
     "name": "stdout",
     "output_type": "stream",
     "text": [
      "MyNameIsIskendir\n"
     ]
    }
   ],
   "source": [
    "def snake_to_camel(snaki):\n",
    "    \n",
    "    words = snaki.split('_')\n",
    "    camelsi = words[0] + ''.join(word.capitalize() for word in words[1:])\n",
    "    return camelsi\n",
    "    \n",
    "snaki = \"My_name_is_iskendir\"\n",
    "camelsi = snake_to_camel(snaki)\n",
    "print(camelsi)\n"
   ]
  },
  {
   "cell_type": "markdown",
   "id": "db70908b-6611-4efe-9e8f-9738a4319c8d",
   "metadata": {},
   "source": [
    "Task 8:"
   ]
  },
  {
   "cell_type": "code",
   "execution_count": 178,
   "id": "5f47b9f7-ae55-4dc2-82c9-0853e18b55ba",
   "metadata": {},
   "outputs": [
    {
     "name": "stdout",
     "output_type": "stream",
     "text": [
      "['', 'Makhanbet', 'Iskendir', 'Almatbekuly']\n"
     ]
    }
   ],
   "source": [
    "import re\n",
    "string = \"MakhanbetIskendirAlmatbekuly\"\n",
    "vb = r'(?=[A-Z])'\n",
    "result = re.split(vb, string)\n",
    "print(result)\n"
   ]
  },
  {
   "cell_type": "markdown",
   "id": "bbe6f5b4-c5c2-4325-834d-58189c273c76",
   "metadata": {},
   "source": [
    "Task 9:"
   ]
  },
  {
   "cell_type": "code",
   "execution_count": 183,
   "id": "dc5026e8-a451-45ef-930e-d51068131fd5",
   "metadata": {},
   "outputs": [
    {
     "name": "stdout",
     "output_type": "stream",
     "text": [
      "Makhanbet Iskendir Almatbekuly\n"
     ]
    }
   ],
   "source": [
    "import re\n",
    "string = \"MakhanbetIskendirAlmatbekuly\"\n",
    "vb = r'(?=[A-Z])'\n",
    "result = re.sub(vb, ' ', string).strip()\n",
    "print(result)\n"
   ]
  },
  {
   "cell_type": "markdown",
   "id": "265b446e-016b-4ac9-a9e1-c39af79b2043",
   "metadata": {},
   "source": [
    "Task 10:"
   ]
  },
  {
   "cell_type": "code",
   "execution_count": 194,
   "id": "a1988620-a8a3-45f7-b8cf-705af9aaa5da",
   "metadata": {},
   "outputs": [
    {
     "name": "stdout",
     "output_type": "stream",
     "text": [
      "makhanbet_iskendir_almatbekuly\n"
     ]
    }
   ],
   "source": [
    "import re\n",
    "def camel_to_snake(camelsi):\n",
    "    snaki = re.sub(r'(?<!^)(?=[A-Z])', '_', camelsi).lower()\n",
    "    return snaki\n",
    "camelsi = \"MakhanbetIskendirAlmatbekuly\"\n",
    "snaki = camel_to_snake(camelsi)\n",
    "print(snaki)\n"
   ]
  },
  {
   "cell_type": "code",
   "execution_count": null,
   "id": "18e134c2-5746-4dca-ae4d-901d0e45da35",
   "metadata": {},
   "outputs": [],
   "source": []
  }
 ],
 "metadata": {
  "kernelspec": {
   "display_name": "Python [conda env:base] *",
   "language": "python",
   "name": "conda-base-py"
  },
  "language_info": {
   "codemirror_mode": {
    "name": "ipython",
    "version": 3
   },
   "file_extension": ".py",
   "mimetype": "text/x-python",
   "name": "python",
   "nbconvert_exporter": "python",
   "pygments_lexer": "ipython3",
   "version": "3.12.7"
  }
 },
 "nbformat": 4,
 "nbformat_minor": 5
}

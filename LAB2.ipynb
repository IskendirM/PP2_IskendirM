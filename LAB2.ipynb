{
 "cells": [
  {
   "cell_type": "markdown",
   "id": "bbe5caa4-fc49-48d7-be9e-bccc2b34499c",
   "metadata": {},
   "source": [
    "PYTHON BOOLEANS"
   ]
  },
  {
   "cell_type": "markdown",
   "id": "d74fffa0-c7a7-4037-8039-4dff3704d1e2",
   "metadata": {},
   "source": [
    "ex 1:"
   ]
  },
  {
   "cell_type": "code",
   "execution_count": 9,
   "id": "b31cc325-3bc0-4055-b510-2185a27b37f8",
   "metadata": {},
   "outputs": [
    {
     "name": "stdout",
     "output_type": "stream",
     "text": [
      "True\n",
      "False\n",
      "False\n"
     ]
    }
   ],
   "source": [
    "print(15 > 8)\n",
    "print (11 == 12)\n",
    "print( 18 < 9)"
   ]
  },
  {
   "cell_type": "markdown",
   "id": "68493658-fd2a-4415-b349-830c3d267080",
   "metadata": {},
   "source": [
    "ex 2:"
   ]
  },
  {
   "cell_type": "code",
   "execution_count": 12,
   "id": "464ffb0d-7871-408f-ba3e-6ce494b967f0",
   "metadata": {},
   "outputs": [
    {
     "name": "stdout",
     "output_type": "stream",
     "text": [
      "y is a bit greater than x\n"
     ]
    }
   ],
   "source": [
    "x = 185\n",
    "y = 192\n",
    "if x > y:\n",
    "    print(\"x is a bit greater than y\")\n",
    "else:\n",
    "    print(\"y is a bit greater than x\")"
   ]
  },
  {
   "cell_type": "markdown",
   "id": "b8203d2b-ae93-4d4b-b7c2-6f9597477e57",
   "metadata": {},
   "source": [
    "ex 3:"
   ]
  },
  {
   "cell_type": "code",
   "execution_count": 25,
   "id": "db0cf02f-c48d-454b-a535-1ec2981f2c9f",
   "metadata": {},
   "outputs": [
    {
     "name": "stdout",
     "output_type": "stream",
     "text": [
      "True\n",
      "True\n"
     ]
    }
   ],
   "source": [
    "print(bool(\"C++\"))\n",
    "print(bool(1545))"
   ]
  },
  {
   "cell_type": "markdown",
   "id": "ee02a791-7c63-443e-a699-3d54db79d488",
   "metadata": {},
   "source": [
    "ex 4:"
   ]
  },
  {
   "cell_type": "code",
   "execution_count": 28,
   "id": "e84ccccb-8253-4fa3-94d4-bca747621241",
   "metadata": {},
   "outputs": [
    {
     "name": "stdout",
     "output_type": "stream",
     "text": [
      "True\n",
      "True\n"
     ]
    }
   ],
   "source": [
    "a = \"Iskendir\"\n",
    "b = 261265\n",
    "\n",
    "print(bool(a))\n",
    "print(bool(b))"
   ]
  },
  {
   "cell_type": "markdown",
   "id": "23d00d45-6c27-40f5-bc3a-ec5bd68992d3",
   "metadata": {},
   "source": [
    "ex 5:"
   ]
  },
  {
   "cell_type": "code",
   "execution_count": 31,
   "id": "66144a35-af55-4c58-92a0-1960cb1b9267",
   "metadata": {},
   "outputs": [
    {
     "data": {
      "text/plain": [
       "True"
      ]
     },
     "execution_count": 31,
     "metadata": {},
     "output_type": "execute_result"
    }
   ],
   "source": [
    "bool(\"Hi\")\n",
    "bool(12883)\n",
    "bool([\"Python\", \"C++\", \"Java\"])"
   ]
  },
  {
   "cell_type": "markdown",
   "id": "728603b8-25d0-4f35-bc75-e7953e155a1f",
   "metadata": {},
   "source": [
    "ex 6:\n"
   ]
  },
  {
   "cell_type": "code",
   "execution_count": 36,
   "id": "d30d92f8-4e54-472d-883b-227b6efb10dc",
   "metadata": {},
   "outputs": [
    {
     "data": {
      "text/plain": [
       "False"
      ]
     },
     "execution_count": 36,
     "metadata": {},
     "output_type": "execute_result"
    }
   ],
   "source": [
    "bool(False)\n",
    "bool(None)\n",
    "bool(0)\n",
    "bool(())\n",
    "bool([])\n",
    "bool({})"
   ]
  },
  {
   "cell_type": "markdown",
   "id": "f4b8c1c5-e9f0-4241-a0ea-94924ed62252",
   "metadata": {},
   "source": [
    "ex 7:"
   ]
  },
  {
   "cell_type": "code",
   "execution_count": 39,
   "id": "89d3dff5-b41e-4547-9b2d-ca90f2e8201c",
   "metadata": {},
   "outputs": [
    {
     "name": "stdout",
     "output_type": "stream",
     "text": [
      "False\n"
     ]
    }
   ],
   "source": [
    "class myclass():\n",
    "  def __len__(self):\n",
    "    return 0\n",
    "\n",
    "myobj = myclass()\n",
    "print(bool(myobj))\n"
   ]
  },
  {
   "cell_type": "markdown",
   "id": "67ad92f6-7449-4e01-b1c3-8e28d1085e9b",
   "metadata": {},
   "source": [
    "ex 8:"
   ]
  },
  {
   "cell_type": "code",
   "execution_count": 44,
   "id": "9fc1089c-5b1b-425b-9346-5c436731ed04",
   "metadata": {},
   "outputs": [
    {
     "name": "stdout",
     "output_type": "stream",
     "text": [
      "True\n"
     ]
    }
   ],
   "source": [
    "def func():\n",
    "    return True\n",
    "print(func())"
   ]
  },
  {
   "cell_type": "markdown",
   "id": "a6438476-93bf-4361-b45e-fbcd5859a905",
   "metadata": {},
   "source": [
    "ex 9:"
   ]
  },
  {
   "cell_type": "code",
   "execution_count": 51,
   "id": "e84d0c6b-2f97-4248-a716-a2c0ad787374",
   "metadata": {},
   "outputs": [
    {
     "name": "stdout",
     "output_type": "stream",
     "text": [
      "Exactly Yes!\n"
     ]
    }
   ],
   "source": [
    "def func2():\n",
    "    return True\n",
    "\n",
    "if func2():\n",
    "    print(\"Exactly Yes!\")\n",
    "else:\n",
    "    print(\"Absolutely Nope!\")"
   ]
  },
  {
   "cell_type": "code",
   "execution_count": 55,
   "id": "ff0138a0-208c-4bd9-b3fe-78dc1e512f1f",
   "metadata": {},
   "outputs": [
    {
     "name": "stdout",
     "output_type": "stream",
     "text": [
      "True\n"
     ]
    }
   ],
   "source": [
    "a = 15555\n",
    "print(isinstance(a, int))"
   ]
  },
  {
   "cell_type": "markdown",
   "id": "8a08db76-a658-4943-a21c-154c01462aa4",
   "metadata": {},
   "source": [
    "PYTHON OPERATORS"
   ]
  },
  {
   "cell_type": "markdown",
   "id": "4733407d-e1c8-41cb-8fb5-b61834356f53",
   "metadata": {},
   "source": [
    "ex 1:"
   ]
  },
  {
   "cell_type": "code",
   "execution_count": 2,
   "id": "f7ab439d-036e-498b-bc0a-20e40aa3cdf1",
   "metadata": {},
   "outputs": [
    {
     "name": "stdout",
     "output_type": "stream",
     "text": [
      "15\n"
     ]
    }
   ],
   "source": [
    "print(10+5)"
   ]
  },
  {
   "cell_type": "markdown",
   "id": "0ec8ed85-dca4-450c-92cc-43bb75d0fd1f",
   "metadata": {},
   "source": [
    "ex 2:"
   ]
  },
  {
   "cell_type": "code",
   "execution_count": 5,
   "id": "504fae1c-6669-4f9f-a58a-6c06c3ca2585",
   "metadata": {},
   "outputs": [
    {
     "name": "stdout",
     "output_type": "stream",
     "text": [
      "7\n"
     ]
    }
   ],
   "source": [
    "x = 5\n",
    "y = 2\n",
    "print(x+y)"
   ]
  },
  {
   "cell_type": "markdown",
   "id": "5c19de37-bca3-41c2-9907-cf50ecbd3b7a",
   "metadata": {},
   "source": [
    "ex 3:"
   ]
  },
  {
   "cell_type": "code",
   "execution_count": 8,
   "id": "f7829b9a-4598-49fe-af5b-e077addf7951",
   "metadata": {},
   "outputs": [
    {
     "name": "stdout",
     "output_type": "stream",
     "text": [
      "160\n"
     ]
    }
   ],
   "source": [
    "x = 185\n",
    "y = 25\n",
    "print(x-y)"
   ]
  },
  {
   "cell_type": "markdown",
   "id": "d7accf7d-4981-41df-8ffd-3a98eb394ad7",
   "metadata": {},
   "source": [
    "ex 4:"
   ]
  },
  {
   "cell_type": "code",
   "execution_count": 11,
   "id": "30e64370-e9d6-43b2-ba25-f64bada16cdd",
   "metadata": {},
   "outputs": [
    {
     "name": "stdout",
     "output_type": "stream",
     "text": [
      "24\n"
     ]
    }
   ],
   "source": [
    "x = 8\n",
    "y = 3\n",
    "print(x*y)"
   ]
  },
  {
   "cell_type": "markdown",
   "id": "99585acd-d519-44a9-8a8e-26971ae6afd9",
   "metadata": {},
   "source": [
    "ex 5:"
   ]
  },
  {
   "cell_type": "code",
   "execution_count": 14,
   "id": "7b2f672f-24c8-4a78-a54f-c371cbf8bda1",
   "metadata": {},
   "outputs": [
    {
     "name": "stdout",
     "output_type": "stream",
     "text": [
      "3.0\n"
     ]
    }
   ],
   "source": [
    "x = 15\n",
    "y = 5\n",
    "print(x/y)"
   ]
  },
  {
   "cell_type": "markdown",
   "id": "875fd79f-85b1-4857-8013-db266a2dc284",
   "metadata": {},
   "source": [
    "ex 6:"
   ]
  },
  {
   "cell_type": "code",
   "execution_count": 17,
   "id": "37276f8d-a442-47ff-84b3-3a622508bfa0",
   "metadata": {},
   "outputs": [
    {
     "name": "stdout",
     "output_type": "stream",
     "text": [
      "1\n"
     ]
    }
   ],
   "source": [
    "x = 10\n",
    "y = 3\n",
    "print(x%y)"
   ]
  },
  {
   "cell_type": "markdown",
   "id": "ce5a3d2d-55ef-4237-8d00-e98a04067c09",
   "metadata": {},
   "source": [
    "ex 7:"
   ]
  },
  {
   "cell_type": "code",
   "execution_count": 20,
   "id": "bbcc8bd0-3891-4fc9-a782-1d4d3fb659a1",
   "metadata": {},
   "outputs": [
    {
     "name": "stdout",
     "output_type": "stream",
     "text": [
      "81\n"
     ]
    }
   ],
   "source": [
    "x = 3\n",
    "y = 4\n",
    "print(x**y)"
   ]
  },
  {
   "cell_type": "markdown",
   "id": "bfcc3ed6-1ba1-47b5-8b40-b5200ef15a61",
   "metadata": {},
   "source": [
    "ex 8:"
   ]
  },
  {
   "cell_type": "code",
   "execution_count": 23,
   "id": "9920286b-0eae-44f2-98b3-d072eea1990c",
   "metadata": {},
   "outputs": [
    {
     "name": "stdout",
     "output_type": "stream",
     "text": [
      "3\n"
     ]
    }
   ],
   "source": [
    "x = 13\n",
    "y = 4\n",
    "print(x//y)"
   ]
  },
  {
   "cell_type": "markdown",
   "id": "db045bf4-6f3a-450b-8569-9a534f30b9f2",
   "metadata": {},
   "source": [
    "Python Assignment Operators"
   ]
  },
  {
   "cell_type": "markdown",
   "id": "053dbd6c-5b10-4241-aa16-2932df488398",
   "metadata": {},
   "source": [
    "ex 1:"
   ]
  },
  {
   "cell_type": "code",
   "execution_count": 30,
   "id": "ef7d3908-c54d-4072-a039-bd2cdd61db24",
   "metadata": {},
   "outputs": [
    {
     "name": "stdout",
     "output_type": "stream",
     "text": [
      "6\n"
     ]
    }
   ],
   "source": [
    "a = 6\n",
    "print(a)"
   ]
  },
  {
   "cell_type": "markdown",
   "id": "46260fab-d5aa-44d8-ab86-7c355981bac2",
   "metadata": {},
   "source": [
    "ex 2:"
   ]
  },
  {
   "cell_type": "code",
   "execution_count": 32,
   "id": "9d0c2472-ddbe-4ac5-a0ee-298f853642d5",
   "metadata": {},
   "outputs": [
    {
     "name": "stdout",
     "output_type": "stream",
     "text": [
      "14\n"
     ]
    }
   ],
   "source": [
    "a = 6\n",
    "a += 8\n",
    "print(a)"
   ]
  },
  {
   "cell_type": "markdown",
   "id": "f70b7ffb-53d1-4641-9974-a538ea84896d",
   "metadata": {},
   "source": [
    "ex 3:"
   ]
  },
  {
   "cell_type": "markdown",
   "id": "c16d373e-8605-4680-9af0-d8b2d9406dfc",
   "metadata": {},
   "source": [
    "a = 8\n",
    "a -= 4\n",
    "print(a)"
   ]
  },
  {
   "cell_type": "markdown",
   "id": "56095110-d57f-4fda-844d-46924009abb0",
   "metadata": {},
   "source": [
    "ex 4:"
   ]
  },
  {
   "cell_type": "code",
   "execution_count": 38,
   "id": "d9816f1e-1f2f-4af0-8cb3-e8886b22bebe",
   "metadata": {},
   "outputs": [
    {
     "name": "stdout",
     "output_type": "stream",
     "text": [
      "12\n"
     ]
    }
   ],
   "source": [
    "a = 4\n",
    "a *= 3\n",
    "print(a)"
   ]
  },
  {
   "cell_type": "markdown",
   "id": "67d8633a-8797-4c9e-8143-bf5ec5c93c27",
   "metadata": {},
   "source": [
    "ex 5:"
   ]
  },
  {
   "cell_type": "code",
   "execution_count": 41,
   "id": "06a5efc9-be53-4d93-a0e0-8f5abf2e7dac",
   "metadata": {},
   "outputs": [
    {
     "name": "stdout",
     "output_type": "stream",
     "text": [
      "2.0\n"
     ]
    }
   ],
   "source": [
    "a = 4\n",
    "a /= 2\n",
    "print(a)"
   ]
  },
  {
   "cell_type": "markdown",
   "id": "c40c67d2-3525-4ebc-a86d-b608b44246bf",
   "metadata": {},
   "source": [
    "ex 6:"
   ]
  },
  {
   "cell_type": "code",
   "execution_count": 46,
   "id": "6f4b9bae-a97f-487b-84bf-64933dba14e6",
   "metadata": {},
   "outputs": [
    {
     "name": "stdout",
     "output_type": "stream",
     "text": [
      "1\n"
     ]
    }
   ],
   "source": [
    "a = 5\n",
    "a %= 2\n",
    "print(a)"
   ]
  },
  {
   "cell_type": "markdown",
   "id": "90f728c7-c0c8-4164-9b12-7dc8db0c7f90",
   "metadata": {},
   "source": [
    "ex 7:"
   ]
  },
  {
   "cell_type": "code",
   "execution_count": 49,
   "id": "5ab1f621-088a-4305-9cdf-254323578d01",
   "metadata": {},
   "outputs": [
    {
     "name": "stdout",
     "output_type": "stream",
     "text": [
      "9\n"
     ]
    }
   ],
   "source": [
    "a = 3\n",
    "a **= 2\n",
    "print(a)"
   ]
  },
  {
   "cell_type": "markdown",
   "id": "2ae91588-32be-469d-ad69-6f7cf64adc50",
   "metadata": {},
   "source": [
    "ex 8:"
   ]
  },
  {
   "cell_type": "code",
   "execution_count": 52,
   "id": "8b138536-3bda-4acf-a360-1475e115f503",
   "metadata": {},
   "outputs": [
    {
     "name": "stdout",
     "output_type": "stream",
     "text": [
      "2\n"
     ]
    }
   ],
   "source": [
    "a = 8\n",
    "a //= 3\n",
    "print(a)"
   ]
  },
  {
   "cell_type": "markdown",
   "id": "e2cf431f-0557-4c14-8e97-580571391e9b",
   "metadata": {},
   "source": [
    "Python Comparison Operators"
   ]
  },
  {
   "cell_type": "markdown",
   "id": "a49a5778-7427-47f6-b636-65cb5b4b5316",
   "metadata": {},
   "source": [
    "ex 1:"
   ]
  },
  {
   "cell_type": "code",
   "execution_count": 62,
   "id": "549d39d6-9344-412d-97fa-bd5ec6c5bef9",
   "metadata": {},
   "outputs": [
    {
     "name": "stdout",
     "output_type": "stream",
     "text": [
      "False\n"
     ]
    }
   ],
   "source": [
    "a = 11\n",
    "b = 4\n",
    "print(a == b)"
   ]
  },
  {
   "cell_type": "markdown",
   "id": "c51ccc73-99d1-4e71-aab9-7b0b991f8d39",
   "metadata": {},
   "source": [
    "ex 2:"
   ]
  },
  {
   "cell_type": "code",
   "execution_count": 66,
   "id": "b21ee5fd-a65e-41c6-9f30-7657b53a51bc",
   "metadata": {},
   "outputs": [
    {
     "name": "stdout",
     "output_type": "stream",
     "text": [
      "True\n"
     ]
    }
   ],
   "source": [
    "a = 5\n",
    "b = 4\n",
    "print(a != b)"
   ]
  },
  {
   "cell_type": "markdown",
   "id": "3c610d5b-4cd1-4178-9b0f-9e09fc17ef70",
   "metadata": {},
   "source": [
    "ex 3:"
   ]
  },
  {
   "cell_type": "code",
   "execution_count": 69,
   "id": "a2798bb8-3b22-494b-bced-ad1795855ffc",
   "metadata": {},
   "outputs": [
    {
     "name": "stdout",
     "output_type": "stream",
     "text": [
      "False\n"
     ]
    }
   ],
   "source": [
    "a = 4\n",
    "b = 8\n",
    "print(a > b)"
   ]
  },
  {
   "cell_type": "markdown",
   "id": "f87b0233-1134-40be-8429-83132f299565",
   "metadata": {},
   "source": [
    "ex 4:"
   ]
  },
  {
   "cell_type": "code",
   "execution_count": 72,
   "id": "5cca37df-ae5e-40b8-92b3-d03e64e92cb5",
   "metadata": {},
   "outputs": [
    {
     "name": "stdout",
     "output_type": "stream",
     "text": [
      "True\n"
     ]
    }
   ],
   "source": [
    "a = 3\n",
    "b = 4\n",
    "print(a < b)"
   ]
  },
  {
   "cell_type": "markdown",
   "id": "807bd554-8d38-42dc-b614-5f83aa1f9717",
   "metadata": {},
   "source": [
    "ex 5:"
   ]
  },
  {
   "cell_type": "code",
   "execution_count": 75,
   "id": "bcd8f1be-d9ff-4b80-999d-5d0fdaff2ecf",
   "metadata": {},
   "outputs": [
    {
     "name": "stdout",
     "output_type": "stream",
     "text": [
      "True\n"
     ]
    }
   ],
   "source": [
    "a = 7\n",
    "b = 7\n",
    "print( a>= b)"
   ]
  },
  {
   "cell_type": "markdown",
   "id": "9eeddd31-f552-4341-bf6b-9e9e93739a48",
   "metadata": {},
   "source": [
    "ex 6:"
   ]
  },
  {
   "cell_type": "code",
   "execution_count": 78,
   "id": "ba350f8e-cc27-4bd5-ab2f-a6b562e66424",
   "metadata": {},
   "outputs": [
    {
     "name": "stdout",
     "output_type": "stream",
     "text": [
      "True\n"
     ]
    }
   ],
   "source": [
    "a = 7\n",
    "b = 14\n",
    "print(a <= b)"
   ]
  },
  {
   "cell_type": "markdown",
   "id": "74d7bc2f-82d4-4d8a-a0be-47786d7b3fa6",
   "metadata": {},
   "source": [
    "Python Logical Operators"
   ]
  },
  {
   "cell_type": "markdown",
   "id": "ffe10e4b-b2e9-43e2-9a3b-b72a481fa1cc",
   "metadata": {},
   "source": [
    "ex 1:"
   ]
  },
  {
   "cell_type": "code",
   "execution_count": 83,
   "id": "39e8ca56-b5aa-45f9-97a0-f9817bc7fa2d",
   "metadata": {},
   "outputs": [
    {
     "name": "stdout",
     "output_type": "stream",
     "text": [
      "True\n"
     ]
    }
   ],
   "source": [
    "x = 4\n",
    "print(x > 3 and x < 5)"
   ]
  },
  {
   "cell_type": "markdown",
   "id": "077d3721-f1cf-41f7-8086-a8f1049b4afe",
   "metadata": {},
   "source": [
    "ex 2:"
   ]
  },
  {
   "cell_type": "code",
   "execution_count": 86,
   "id": "a1be0341-7532-46bb-a454-c6d71233144a",
   "metadata": {},
   "outputs": [
    {
     "name": "stdout",
     "output_type": "stream",
     "text": [
      "False\n"
     ]
    }
   ],
   "source": [
    "x = 7\n",
    "print(x > 8 or x < 6)"
   ]
  },
  {
   "cell_type": "markdown",
   "id": "85903399-3f08-4b84-9419-844d6a71c436",
   "metadata": {},
   "source": [
    "ex 3:"
   ]
  },
  {
   "cell_type": "code",
   "execution_count": 91,
   "id": "3c219d5b-659d-4e79-bb72-9295676d5025",
   "metadata": {},
   "outputs": [
    {
     "name": "stdout",
     "output_type": "stream",
     "text": [
      "False\n"
     ]
    }
   ],
   "source": [
    "x = 3\n",
    "print(not(x > 2 and x < 4))"
   ]
  },
  {
   "cell_type": "markdown",
   "id": "51dcb7a2-c657-4bb1-b1f1-b52b1f040835",
   "metadata": {},
   "source": [
    "Python Identity Operators"
   ]
  },
  {
   "cell_type": "markdown",
   "id": "9470d9e5-93af-46c3-be04-e794551261f9",
   "metadata": {},
   "source": [
    "ex 1:"
   ]
  },
  {
   "cell_type": "code",
   "execution_count": 100,
   "id": "e32356bc-5c06-4c26-87af-2ecd6f6efdfb",
   "metadata": {},
   "outputs": [
    {
     "name": "stdout",
     "output_type": "stream",
     "text": [
      "False\n",
      "True\n",
      "True\n"
     ]
    }
   ],
   "source": [
    "a = [\"Python\", \"C++\"]\n",
    "b = [\"Python\", \"C++\"]\n",
    "x = b\n",
    "print(a is b)\n",
    "print(x is b)\n",
    "print(x == b)"
   ]
  },
  {
   "cell_type": "markdown",
   "id": "44118c3f-054f-4034-9f90-c444cdfdbdde",
   "metadata": {},
   "source": [
    "ex  2:"
   ]
  },
  {
   "cell_type": "code",
   "execution_count": 103,
   "id": "b9092e9d-4d1d-4c2b-bedd-c2f8251744f3",
   "metadata": {},
   "outputs": [
    {
     "name": "stdout",
     "output_type": "stream",
     "text": [
      "False\n",
      "True\n",
      "False\n"
     ]
    }
   ],
   "source": [
    "a = [\"Python\", \"C++\"]\n",
    "b = [\"Python\", \"C++\"]\n",
    "x = b\n",
    "print(x is not b)\n",
    "print(a is not b)\n",
    "print(a != b)"
   ]
  },
  {
   "cell_type": "markdown",
   "id": "4d3d8adb-030d-4b58-981d-3cc72f3c1351",
   "metadata": {},
   "source": [
    "Python Membership Operators"
   ]
  },
  {
   "cell_type": "markdown",
   "id": "f58155df-7013-4b4d-9eea-cf2f4f24d2b7",
   "metadata": {},
   "source": [
    "ex 1:"
   ]
  },
  {
   "cell_type": "code",
   "execution_count": 105,
   "id": "5047d9af-5808-44f6-8ea8-d71846e52f11",
   "metadata": {},
   "outputs": [
    {
     "name": "stdout",
     "output_type": "stream",
     "text": [
      "False\n"
     ]
    }
   ],
   "source": [
    "a = [\"Python\", \"C++\"]\n",
    "print(\"Java\" in a)"
   ]
  },
  {
   "cell_type": "markdown",
   "id": "adef6b95-f00e-4ea1-886b-c33e905fb14a",
   "metadata": {},
   "source": [
    "ex 2:"
   ]
  },
  {
   "cell_type": "code",
   "execution_count": 107,
   "id": "3a081368-2a83-478f-88d3-37551bbfc54b",
   "metadata": {},
   "outputs": [
    {
     "name": "stdout",
     "output_type": "stream",
     "text": [
      "True\n"
     ]
    }
   ],
   "source": [
    "a = [\"Python\", \"C++\"]\n",
    "print(\"Java\" not in a)"
   ]
  },
  {
   "cell_type": "markdown",
   "id": "0915bc42-592f-4414-90da-99862010d844",
   "metadata": {},
   "source": [
    "Operator Precedence"
   ]
  },
  {
   "cell_type": "code",
   "execution_count": 113,
   "id": "49e0fba4-0689-489b-802e-9b010cca81b7",
   "metadata": {},
   "outputs": [
    {
     "name": "stdout",
     "output_type": "stream",
     "text": [
      "-3\n"
     ]
    }
   ],
   "source": [
    "print((5+8) - (4+12))"
   ]
  },
  {
   "cell_type": "markdown",
   "id": "92831af2-865b-490d-9acd-43e332c97a16",
   "metadata": {},
   "source": [
    "PYTHON IF.. ELSE"
   ]
  },
  {
   "cell_type": "markdown",
   "id": "8f21ee25-e25e-46ad-ae6e-4efcba21005e",
   "metadata": {},
   "source": [
    "ex 1:"
   ]
  },
  {
   "cell_type": "code",
   "execution_count": 122,
   "id": "a20af7ae-e57f-4f16-a16c-00a5e67de94a",
   "metadata": {},
   "outputs": [
    {
     "name": "stdout",
     "output_type": "stream",
     "text": [
      "x is less than y\n"
     ]
    }
   ],
   "source": [
    "x = 200\n",
    "y = 500\n",
    "if x < y:\n",
    "    print(\"x is less than y\")"
   ]
  },
  {
   "cell_type": "markdown",
   "id": "d65d2365-80e5-48f4-aea6-4870d6f6c0d6",
   "metadata": {},
   "source": [
    "ex 2:"
   ]
  },
  {
   "cell_type": "code",
   "execution_count": 125,
   "id": "be765502-87ba-4733-86a3-24ba06e678e0",
   "metadata": {},
   "outputs": [
    {
     "name": "stdout",
     "output_type": "stream",
     "text": [
      "a is equal b\n"
     ]
    }
   ],
   "source": [
    "a = 856\n",
    "b = 856\n",
    "if a > b:\n",
    "    print(\"a is greater than b\")\n",
    "elif a == b:\n",
    "    print(\"a is equal b\")"
   ]
  },
  {
   "cell_type": "markdown",
   "id": "367ee8bb-a8a7-4521-904a-876e4128fbc1",
   "metadata": {},
   "source": [
    "ex 3:"
   ]
  },
  {
   "cell_type": "code",
   "execution_count": 128,
   "id": "2cd4a2eb-969b-42a1-bc47-1a7400fff7e7",
   "metadata": {},
   "outputs": [
    {
     "name": "stdout",
     "output_type": "stream",
     "text": [
      "k is greater than l\n"
     ]
    }
   ],
   "source": [
    "k = 456\n",
    "l = 250\n",
    "if k < l:\n",
    "    print(\"k is less than l\")\n",
    "elif k == l:\n",
    "    print(\"k is equal l\")\n",
    "else:\n",
    "    print(\"k is greater than l\")"
   ]
  },
  {
   "cell_type": "markdown",
   "id": "e1843da5-9f89-48d1-a7bd-285d8bf335ae",
   "metadata": {},
   "source": [
    "ex 4:"
   ]
  },
  {
   "cell_type": "code",
   "execution_count": 131,
   "id": "75efb2ae-385b-4d4e-9598-e8797892e9f5",
   "metadata": {},
   "outputs": [
    {
     "name": "stdout",
     "output_type": "stream",
     "text": [
      "v is less than p\n"
     ]
    }
   ],
   "source": [
    "v = 123\n",
    "p = 431\n",
    "if v > p:\n",
    "    print(\"v is greater than p\")\n",
    "else:\n",
    "    print(\"v is less than p\")"
   ]
  },
  {
   "cell_type": "markdown",
   "id": "f61c679a-1568-468e-9b4d-193f1eb8a867",
   "metadata": {},
   "source": [
    "ex 5:"
   ]
  },
  {
   "cell_type": "code",
   "execution_count": 134,
   "id": "816fed77-6558-43c8-a0ec-e45b7620454b",
   "metadata": {},
   "outputs": [
    {
     "name": "stdout",
     "output_type": "stream",
     "text": [
      "Both of these conditions are true\n"
     ]
    }
   ],
   "source": [
    "a = 500\n",
    "b = 400\n",
    "c = 300\n",
    "if a > b and b > c:\n",
    "    print(\"Both of these conditions are true\")"
   ]
  },
  {
   "cell_type": "markdown",
   "id": "bf9d3638-7d06-420a-8153-4ff121d76b85",
   "metadata": {},
   "source": [
    "ex 6:"
   ]
  },
  {
   "cell_type": "code",
   "execution_count": 139,
   "id": "5c5d4eb6-bb77-4a18-8ed3-3c59eeb04296",
   "metadata": {},
   "outputs": [
    {
     "name": "stdout",
     "output_type": "stream",
     "text": [
      "At least one of them is true\n"
     ]
    }
   ],
   "source": [
    "a = 500\n",
    "b = 400\n",
    "c = 300\n",
    "if a < b or b > c:\n",
    "    print(\"At least one of them is true\")"
   ]
  },
  {
   "cell_type": "markdown",
   "id": "986f11b3-3b93-494b-a9ce-a0c67170e232",
   "metadata": {},
   "source": [
    "ex 7:"
   ]
  },
  {
   "cell_type": "markdown",
   "id": "bb5f0db3-1892-4d3c-899a-4f33fe9e1690",
   "metadata": {},
   "source": [
    "a = 300\n",
    "b = 300\n",
    "if a == b:\n",
    "    print(\"That's true\")"
   ]
  },
  {
   "cell_type": "markdown",
   "id": "6d91b1a5-9e3b-46d8-8565-e2b05db2144b",
   "metadata": {},
   "source": [
    "ex 8:"
   ]
  },
  {
   "cell_type": "code",
   "execution_count": 145,
   "id": "7fcdead6-0af9-4c65-aa0e-c8efd45f88b4",
   "metadata": {},
   "outputs": [
    {
     "name": "stdout",
     "output_type": "stream",
     "text": [
      "C is greater than 500\n",
      "C is also greater than 700\n"
     ]
    }
   ],
   "source": [
    "c = 845\n",
    "if c > 500:\n",
    "    print(\"C is greater than 500\")\n",
    "    if c > 700:\n",
    "        print(\"C is also greater than 700\")\n",
    "    else:\n",
    "        print(\"But C is less than 700\")"
   ]
  },
  {
   "cell_type": "markdown",
   "id": "e00daaf0-3a1f-4dc8-aa07-9e5d63253a51",
   "metadata": {},
   "source": [
    "ex 9:"
   ]
  },
  {
   "cell_type": "code",
   "execution_count": 149,
   "id": "d5f7008e-8899-418f-bd52-b81f0f0ff405",
   "metadata": {},
   "outputs": [],
   "source": [
    "x = 50\n",
    "y = 49\n",
    "if x > y:\n",
    "    pass"
   ]
  },
  {
   "cell_type": "markdown",
   "id": "c74c4c51-81b5-4b64-8856-916fe22dfd9d",
   "metadata": {},
   "source": [
    "PYTHON WHILE LOOPS"
   ]
  },
  {
   "cell_type": "markdown",
   "id": "05532acf-5805-4f2b-a03e-e84a7223b52e",
   "metadata": {},
   "source": [
    "ex 1:"
   ]
  },
  {
   "cell_type": "code",
   "execution_count": 160,
   "id": "632245ea-7cef-48f1-b49a-22676e73c927",
   "metadata": {},
   "outputs": [
    {
     "name": "stdout",
     "output_type": "stream",
     "text": [
      "4\n",
      "5\n",
      "6\n"
     ]
    }
   ],
   "source": [
    "v = 4\n",
    "while v < 7:\n",
    "    print(v)\n",
    "    v += 1"
   ]
  },
  {
   "cell_type": "code",
   "execution_count": 166,
   "id": "383b46e1-ee07-4076-8a95-23ae0363fb01",
   "metadata": {},
   "outputs": [
    {
     "name": "stdout",
     "output_type": "stream",
     "text": [
      "3\n",
      "4\n",
      "5\n"
     ]
    }
   ],
   "source": [
    "a = 3\n",
    "while a < 9:\n",
    "    print(a)\n",
    "    if a == 5:\n",
    "      break\n",
    "    a += 1"
   ]
  },
  {
   "cell_type": "code",
   "execution_count": 1,
   "id": "92b105da-01d0-4253-913e-2d92b2318a07",
   "metadata": {},
   "outputs": [
    {
     "name": "stdout",
     "output_type": "stream",
     "text": [
      "3\n",
      "4\n",
      "5\n",
      "7\n",
      "8\n",
      "9\n",
      "10\n",
      "11\n",
      "12\n",
      "13\n",
      "14\n",
      "15\n"
     ]
    }
   ],
   "source": [
    "q = 2\n",
    "while q < 15:\n",
    "    q += 1\n",
    "    if q == 6:\n",
    "        continue\n",
    "    print(q)"
   ]
  },
  {
   "cell_type": "code",
   "execution_count": 3,
   "id": "f6ac8043-78ca-40ed-8ade-94b5e379c519",
   "metadata": {},
   "outputs": [
    {
     "name": "stdout",
     "output_type": "stream",
     "text": [
      "8\n",
      "9\n",
      "10\n",
      "11\n",
      "12\n",
      "13\n",
      "a is no longer than 14\n"
     ]
    }
   ],
   "source": [
    "a = 8\n",
    "while  a < 14:\n",
    "    print(a)\n",
    "    a += 1\n",
    "else:\n",
    "    print(\"a is no longer than 14\")"
   ]
  },
  {
   "cell_type": "markdown",
   "id": "c80108ab-0329-4bd9-ab49-82a9fffbc6da",
   "metadata": {},
   "source": [
    "PYTHON FOR LOOPS:"
   ]
  },
  {
   "cell_type": "markdown",
   "id": "bb13b978-3c5e-4cff-bd45-fceaacce4f5c",
   "metadata": {},
   "source": [
    "ex 1:"
   ]
  },
  {
   "cell_type": "code",
   "execution_count": 7,
   "id": "a562b7d0-4305-4e0e-8783-97491e298bb6",
   "metadata": {},
   "outputs": [
    {
     "name": "stdout",
     "output_type": "stream",
     "text": [
      "Enlish\n",
      "Russian\n",
      "Kazakh\n"
     ]
    }
   ],
   "source": [
    "languages = [\"Enlish\", \"Russian\", \"Kazakh\"]\n",
    "for x in languages:\n",
    "    print(x)"
   ]
  },
  {
   "cell_type": "markdown",
   "id": "14f9cc42-862e-4f03-a890-08c287ed5581",
   "metadata": {},
   "source": [
    "ex 2:"
   ]
  },
  {
   "cell_type": "code",
   "execution_count": 10,
   "id": "3c5103f2-cf32-4aab-be46-8e89676ff7c5",
   "metadata": {},
   "outputs": [
    {
     "name": "stdout",
     "output_type": "stream",
     "text": [
      "P\n",
      "y\n",
      "t\n",
      "h\n",
      "o\n",
      "n\n"
     ]
    }
   ],
   "source": [
    "for a in \"Python\":\n",
    "    print(a)"
   ]
  },
  {
   "cell_type": "markdown",
   "id": "a843e66f-6517-4975-a79a-bb01e7b963ae",
   "metadata": {},
   "source": [
    "ex 3:"
   ]
  },
  {
   "cell_type": "code",
   "execution_count": 15,
   "id": "884b83b5-a1cd-48a8-85ad-86c78faf2cef",
   "metadata": {},
   "outputs": [
    {
     "name": "stdout",
     "output_type": "stream",
     "text": [
      "Python\n",
      "Pascal\n",
      "C++\n"
     ]
    }
   ],
   "source": [
    "Programming_Languages = [\"Python\", \"Pascal\", \"C++\", \"Java\"]\n",
    "for i in Programming_Languages:\n",
    "    print(i)\n",
    "    if i == \"C++\":\n",
    "        break"
   ]
  },
  {
   "cell_type": "markdown",
   "id": "27768ee0-3656-4fc3-b715-f5ca52e874de",
   "metadata": {},
   "source": [
    "ex 4:"
   ]
  },
  {
   "cell_type": "code",
   "execution_count": 26,
   "id": "944d02f0-9c54-41a9-97c1-6a9ce8922d24",
   "metadata": {},
   "outputs": [
    {
     "name": "stdout",
     "output_type": "stream",
     "text": [
      "Onions\n",
      "Cabbage\n"
     ]
    }
   ],
   "source": [
    "Vegetables = [\"Onions\", \"Cabbage\", \"Tomato\"]\n",
    "for c in Vegetables:\n",
    "    if c == \"Tomato\":\n",
    "      break\n",
    "    print(c)"
   ]
  },
  {
   "cell_type": "markdown",
   "id": "74510af1-e003-4418-b212-a85af08ab3f2",
   "metadata": {},
   "source": [
    "ex 5:"
   ]
  },
  {
   "cell_type": "code",
   "execution_count": 33,
   "id": "1fc6f145-3c46-4d3b-91d2-573d8ff18003",
   "metadata": {},
   "outputs": [
    {
     "name": "stdout",
     "output_type": "stream",
     "text": [
      "Math\n",
      "English\n",
      "Chemistry\n"
     ]
    }
   ],
   "source": [
    "Subjects = [\"Math\", \"English\", \"Biology\", \"Chemistry\"]\n",
    "for b in Subjects:\n",
    "    if b == \"Biology\":\n",
    "        continue\n",
    "    print(b)"
   ]
  },
  {
   "cell_type": "markdown",
   "id": "ae571c5e-607d-4abc-8236-6cc6f92bf6c0",
   "metadata": {},
   "source": [
    "ex 6:"
   ]
  },
  {
   "cell_type": "code",
   "execution_count": 40,
   "id": "449012f6-093e-45bd-9a86-3eba37cbe5da",
   "metadata": {},
   "outputs": [
    {
     "name": "stdout",
     "output_type": "stream",
     "text": [
      "0\n",
      "1\n",
      "2\n",
      "3\n"
     ]
    }
   ],
   "source": [
    "for y in range(4):\n",
    "    print(y)"
   ]
  },
  {
   "cell_type": "markdown",
   "id": "6758d8da-b6c9-49fc-a333-cc215da34a52",
   "metadata": {},
   "source": [
    "ex 7:"
   ]
  },
  {
   "cell_type": "code",
   "execution_count": 44,
   "id": "af364707-275d-4179-8162-0ab1f61093f1",
   "metadata": {},
   "outputs": [
    {
     "name": "stdout",
     "output_type": "stream",
     "text": [
      "3\n",
      "4\n"
     ]
    }
   ],
   "source": [
    "for x in range(3,5):\n",
    "    print(x)"
   ]
  },
  {
   "cell_type": "markdown",
   "id": "bedba001-222d-48e1-a6ee-6331af4afb19",
   "metadata": {},
   "source": [
    "ex 8:"
   ]
  },
  {
   "cell_type": "code",
   "execution_count": 48,
   "id": "205a3ab9-34a6-4244-97ee-be3b94b1198a",
   "metadata": {},
   "outputs": [
    {
     "name": "stdout",
     "output_type": "stream",
     "text": [
      "1\n",
      "4\n",
      "7\n"
     ]
    }
   ],
   "source": [
    "for a in range(1,10,3):\n",
    "    print(a)"
   ]
  },
  {
   "cell_type": "markdown",
   "id": "dd137985-b721-4131-b008-b893ce525565",
   "metadata": {},
   "source": [
    "ex 9:"
   ]
  },
  {
   "cell_type": "code",
   "execution_count": 51,
   "id": "14da23f2-d2f4-4310-8347-81261c42e31d",
   "metadata": {},
   "outputs": [
    {
     "name": "stdout",
     "output_type": "stream",
     "text": [
      "0\n",
      "1\n",
      "2\n",
      "3\n",
      "4\n",
      "5\n",
      "6\n",
      "7\n",
      "8\n",
      "9\n",
      "Finish\n"
     ]
    }
   ],
   "source": [
    "for i in range(10):\n",
    "    print(i)\n",
    "else:\n",
    "    print(\"Finish\")"
   ]
  },
  {
   "cell_type": "markdown",
   "id": "49f326f1-bcb2-4381-8b94-6b03bb99507f",
   "metadata": {},
   "source": [
    "ex 10:"
   ]
  },
  {
   "cell_type": "code",
   "execution_count": 60,
   "id": "f6182415-d147-4a56-8a3f-393eb5ced05f",
   "metadata": {},
   "outputs": [
    {
     "name": "stdout",
     "output_type": "stream",
     "text": [
      "0\n",
      "1\n",
      "2\n",
      "3\n",
      "4\n",
      "5\n",
      "6\n",
      "7\n"
     ]
    }
   ],
   "source": [
    "for a in range(25):\n",
    "    if a == 8:\n",
    "      break\n",
    "    print(a)\n",
    "else:\n",
    "    print(\"Finish\")"
   ]
  },
  {
   "cell_type": "markdown",
   "id": "41ac24c6-f7de-4bcc-a76e-335749f692a9",
   "metadata": {},
   "source": [
    "ex 11:"
   ]
  },
  {
   "cell_type": "code",
   "execution_count": 64,
   "id": "dec5eda6-6452-4f01-8419-2f54cc19a407",
   "metadata": {},
   "outputs": [
    {
     "name": "stdout",
     "output_type": "stream",
     "text": [
      "C++ is good\n",
      "C++ is awful\n",
      "C++ is interesting\n",
      "Python is good\n",
      "Python is awful\n",
      "Python is interesting\n",
      "Java is good\n",
      "Java is awful\n",
      "Java is interesting\n"
     ]
    }
   ],
   "source": [
    "list1 = [\"C++\", \"Python\", \"Java\"]\n",
    "list2 = [\"is good\", \"is awful\", \"is interesting\"]\n",
    "for x in list1:\n",
    "    for y in list2:\n",
    "        print(x,y)"
   ]
  },
  {
   "cell_type": "code",
   "execution_count": 69,
   "id": "ddd1498c-3c3d-4f20-ae86-e99c77206c65",
   "metadata": {},
   "outputs": [],
   "source": [
    "Universities = [\"KBTU\", \"SDU\", \"ABAI\"]\n",
    "for x in Universities:\n",
    "    pass"
   ]
  },
  {
   "cell_type": "markdown",
   "id": "e8431b7d-22ab-4106-a789-7d59c33d9b44",
   "metadata": {},
   "source": [
    "PYTHON LISTS:"
   ]
  },
  {
   "cell_type": "markdown",
   "id": "f01f7c1c-f562-4c43-8d86-4f091bea6c02",
   "metadata": {},
   "source": [
    "ex 1:"
   ]
  },
  {
   "cell_type": "code",
   "execution_count": 73,
   "id": "a4b52a09-398d-4bcf-9798-65ec7bd48461",
   "metadata": {},
   "outputs": [
    {
     "name": "stdout",
     "output_type": "stream",
     "text": [
      "['KBTU', 'SDU', 'AITU']\n"
     ]
    }
   ],
   "source": [
    "list = [\"KBTU\", \"SDU\", \"AITU\"]\n",
    "print(list)"
   ]
  },
  {
   "cell_type": "markdown",
   "id": "2aa8d380-6cb4-421b-9112-b5e897318d31",
   "metadata": {},
   "source": [
    "ex 2:"
   ]
  },
  {
   "cell_type": "code",
   "execution_count": 77,
   "id": "01f85716-1806-49bd-95d3-9a53e2664dc8",
   "metadata": {},
   "outputs": [
    {
     "name": "stdout",
     "output_type": "stream",
     "text": [
      "['KBTU', 'SDU', 'AITU', 'KBTU', 'AITU']\n"
     ]
    }
   ],
   "source": [
    "list = [\"KBTU\", \"SDU\", \"AITU\", \"KBTU\", \"AITU\"]\n",
    "print(list)"
   ]
  },
  {
   "cell_type": "markdown",
   "id": "c8ece997-7ea7-429d-a0dd-c4061d62f119",
   "metadata": {},
   "source": [
    "ex 3:"
   ]
  },
  {
   "cell_type": "code",
   "execution_count": 80,
   "id": "6efe268a-05f6-4766-8aa6-d939d90abcda",
   "metadata": {},
   "outputs": [
    {
     "name": "stdout",
     "output_type": "stream",
     "text": [
      "5\n"
     ]
    }
   ],
   "source": [
    "list = [1,3,5,2,5]\n",
    "print(len(list))"
   ]
  },
  {
   "cell_type": "markdown",
   "id": "cf3d2df1-1231-4911-b350-11503233a73d",
   "metadata": {},
   "source": [
    "ex 4:"
   ]
  },
  {
   "cell_type": "code",
   "execution_count": 83,
   "id": "a5df7d48-5090-4f7a-88ad-0cf8d3139806",
   "metadata": {},
   "outputs": [
    {
     "name": "stdout",
     "output_type": "stream",
     "text": [
      "['word 1', 'word 2', 'word 3']\n",
      "[1, 2, 3, 4, 5]\n",
      "[True, False, True]\n"
     ]
    }
   ],
   "source": [
    "list1 = [\"word 1\", \"word 2\", \"word 3\"]\n",
    "list2 = [1,2,3,4,5]\n",
    "list3 = [True, False, True]\n",
    "\n",
    "print(list1)\n",
    "print(list2)\n",
    "print(list3)"
   ]
  },
  {
   "cell_type": "markdown",
   "id": "e5b3a27c-9cb7-4a93-b61b-9148e882bebf",
   "metadata": {},
   "source": [
    "ex 5:"
   ]
  },
  {
   "cell_type": "code",
   "execution_count": 86,
   "id": "b0425ad5-4557-432c-b317-90db0d6d1441",
   "metadata": {},
   "outputs": [
    {
     "name": "stdout",
     "output_type": "stream",
     "text": [
      "['Word', 3, 4, False, 2, 'Words2']\n"
     ]
    }
   ],
   "source": [
    "list = [\"Word\", 3, 4, False, 2, \"Words2\"]\n",
    "print(list)"
   ]
  },
  {
   "cell_type": "markdown",
   "id": "85fe837f-bc7c-4849-9f79-92358799c239",
   "metadata": {},
   "source": [
    "ex 6:"
   ]
  },
  {
   "cell_type": "code",
   "execution_count": 89,
   "id": "5b4dc73a-5330-47f1-b509-5f390596edfb",
   "metadata": {},
   "outputs": [
    {
     "name": "stdout",
     "output_type": "stream",
     "text": [
      "<class 'list'>\n"
     ]
    }
   ],
   "source": [
    "so = [\"KBTU\", \"SDU\"]\n",
    "print(type(so))"
   ]
  },
  {
   "cell_type": "markdown",
   "id": "7ae17f71-b738-4cc7-8dcd-0bd53c8a1c0c",
   "metadata": {},
   "source": [
    "Access Items"
   ]
  },
  {
   "cell_type": "markdown",
   "id": "ab487afd-de72-4d5d-a403-20d61c242091",
   "metadata": {},
   "source": [
    "ex 1:"
   ]
  },
  {
   "cell_type": "code",
   "execution_count": 98,
   "id": "049dc09f-2fbe-416b-9c75-d1a3328ebf8c",
   "metadata": {},
   "outputs": [
    {
     "name": "stdout",
     "output_type": "stream",
     "text": [
      "Almatbekuly\n"
     ]
    }
   ],
   "source": [
    "list = [\"Iskendir\", \"Makhanbet\", \"Almatbekuly\"]\n",
    "print(list[2])"
   ]
  },
  {
   "cell_type": "markdown",
   "id": "5e44bead-46db-43a0-9378-276ddd955323",
   "metadata": {},
   "source": [
    "ex 2:"
   ]
  },
  {
   "cell_type": "code",
   "execution_count": 101,
   "id": "195dc174-27ba-477a-8453-9c3b03f0951b",
   "metadata": {},
   "outputs": [
    {
     "name": "stdout",
     "output_type": "stream",
     "text": [
      "Almatbekuly\n"
     ]
    }
   ],
   "source": [
    "list = [\"Iskendir\", \"Makhanbet\", \"Almatbekuly\"]\n",
    "print(list[-1])"
   ]
  },
  {
   "cell_type": "markdown",
   "id": "733927c4-7952-4982-bf32-c71877d9d6b4",
   "metadata": {},
   "source": [
    "ex 3:"
   ]
  },
  {
   "cell_type": "code",
   "execution_count": 104,
   "id": "45eceff1-33b1-46f7-b555-5ca682d43fba",
   "metadata": {},
   "outputs": [
    {
     "name": "stdout",
     "output_type": "stream",
     "text": [
      "['Java', 'Pascal']\n"
     ]
    }
   ],
   "source": [
    "list = [\"Python\", \"C++\", \"Java\", \"Pascal\", \"PHP\"]\n",
    "print(list[2:4])"
   ]
  },
  {
   "cell_type": "markdown",
   "id": "b05702e2-d449-4811-9b79-5e4bda6edc21",
   "metadata": {},
   "source": [
    "ex 4:"
   ]
  },
  {
   "cell_type": "code",
   "execution_count": 107,
   "id": "41f9ed19-f482-4616-942b-93ca06059425",
   "metadata": {},
   "outputs": [
    {
     "name": "stdout",
     "output_type": "stream",
     "text": [
      "['Python', 'C++']\n"
     ]
    }
   ],
   "source": [
    "list = [\"Python\", \"C++\", \"Java\", \"Pascal\", \"PHP\"]\n",
    "print(list[:2])"
   ]
  },
  {
   "cell_type": "markdown",
   "id": "5ab8d783-98a4-4d9a-98b7-279497c8f7aa",
   "metadata": {},
   "source": [
    "ex 5:"
   ]
  },
  {
   "cell_type": "code",
   "execution_count": 110,
   "id": "e8489c34-5544-401a-8bad-6b8414b7a33c",
   "metadata": {},
   "outputs": [
    {
     "name": "stdout",
     "output_type": "stream",
     "text": [
      "['Pascal', 'PHP']\n"
     ]
    }
   ],
   "source": [
    "list = [\"Python\", \"C++\", \"Java\", \"Pascal\", \"PHP\"]\n",
    "print(list[3:])"
   ]
  },
  {
   "cell_type": "markdown",
   "id": "2796d4dc-491b-465d-8d23-36cb37a66d2e",
   "metadata": {},
   "source": [
    "ex 6:"
   ]
  },
  {
   "cell_type": "code",
   "execution_count": 115,
   "id": "29183668-035b-4c9b-8f34-6d3d2202b3c1",
   "metadata": {},
   "outputs": [
    {
     "name": "stdout",
     "output_type": "stream",
     "text": [
      "['Java', 'Pascal']\n"
     ]
    }
   ],
   "source": [
    "list = [\"Python\", \"C++\", \"Java\", \"Pascal\", \"PHP\"]\n",
    "print(list[-3:-1])"
   ]
  },
  {
   "cell_type": "markdown",
   "id": "20046f1e-dcae-4016-8b95-b7fd84a0081f",
   "metadata": {},
   "source": [
    "ex 7:"
   ]
  },
  {
   "cell_type": "code",
   "execution_count": 118,
   "id": "9dfa7a29-b5b0-423a-a632-ff1dc7b9cfda",
   "metadata": {},
   "outputs": [
    {
     "name": "stdout",
     "output_type": "stream",
     "text": [
      "Yes, C++ in this list\n"
     ]
    }
   ],
   "source": [
    "list = [\"Python\", \"C++\", \"Java\", \"Pascal\", \"PHP\"]\n",
    "if \"C++\" in list:\n",
    "    print(\"Yes, C++ in this list\")"
   ]
  },
  {
   "cell_type": "markdown",
   "id": "82c4e3bf-4e4f-40ab-99da-1e61d3b144c3",
   "metadata": {},
   "source": [
    "Change Item Value"
   ]
  },
  {
   "cell_type": "markdown",
   "id": "8a2d5c59-47d3-4327-ac24-5c97cad9c0a7",
   "metadata": {},
   "source": [
    "ex 1:"
   ]
  },
  {
   "cell_type": "code",
   "execution_count": 122,
   "id": "ff6a92ef-54da-4fa6-bd72-8beb1b122d0e",
   "metadata": {},
   "outputs": [
    {
     "name": "stdout",
     "output_type": "stream",
     "text": [
      "['Amanzhol', 'Iskendir', 'Almatbekuly']\n"
     ]
    }
   ],
   "source": [
    "list = [\"Makhanbet\", \"Iskendir\", \"Almatbekuly\"]\n",
    "list[0] = \"Amanzhol\"\n",
    "print(list)"
   ]
  },
  {
   "cell_type": "markdown",
   "id": "df8fb8de-0c0e-44ab-8a5a-95d141687f82",
   "metadata": {},
   "source": [
    "ex 2:"
   ]
  },
  {
   "cell_type": "code",
   "execution_count": 127,
   "id": "78ec62a6-22bd-44cb-b59f-60e265e91bf2",
   "metadata": {},
   "outputs": [
    {
     "name": "stdout",
     "output_type": "stream",
     "text": [
      "['Amanzhol', 'Nurdaulet', 'Almatbekuly']\n"
     ]
    }
   ],
   "source": [
    "list = [\"Makhanbet\", \"Iskendir\", \"Almatbekuly\"]\n",
    "list[0:2] = [\"Amanzhol\", \"Nurdaulet\",]\n",
    "print(list)"
   ]
  },
  {
   "cell_type": "markdown",
   "id": "814f5f2b-888f-44d7-a216-d1bdfa498a29",
   "metadata": {},
   "source": [
    "ex 3:"
   ]
  },
  {
   "cell_type": "code",
   "execution_count": 130,
   "id": "60c9df1d-bb24-4491-8106-038bea7fdb11",
   "metadata": {},
   "outputs": [
    {
     "name": "stdout",
     "output_type": "stream",
     "text": [
      "['Amanzhol', 'Nurdaulet', 'Askaruly', 'Almatbekuly']\n"
     ]
    }
   ],
   "source": [
    "list = [\"Makhanbet\", \"Iskendir\", \"Almatbekuly\"]\n",
    "list[0:2] = [\"Amanzhol\", \"Nurdaulet\", \"Askaruly\"]\n",
    "print(list)"
   ]
  },
  {
   "cell_type": "markdown",
   "id": "1fa1863d-9fc0-4d3a-a3b0-ed6e474746b0",
   "metadata": {},
   "source": [
    "ex 4:"
   ]
  },
  {
   "cell_type": "code",
   "execution_count": 137,
   "id": "04747f63-c02b-4922-b396-0e36c702129d",
   "metadata": {},
   "outputs": [
    {
     "name": "stdout",
     "output_type": "stream",
     "text": [
      "['Makhanbet', 'Askar']\n"
     ]
    }
   ],
   "source": [
    "list = [\"Makhanbet\", \"Iskendir\", \"Almatbekuly\"]\n",
    "list[1:] = [\"Askar\"]\n",
    "print(list)"
   ]
  },
  {
   "cell_type": "markdown",
   "id": "a0337d24-8b67-48b3-be76-981f69b02d8f",
   "metadata": {},
   "source": [
    "ex 5:"
   ]
  },
  {
   "cell_type": "code",
   "execution_count": 142,
   "id": "e010539a-2ba4-4516-b59c-1619573cd369",
   "metadata": {},
   "outputs": [
    {
     "name": "stdout",
     "output_type": "stream",
     "text": [
      "['Makhanbet', 'Nurdaulet', 'Iskendir', 'Almatbekuly']\n"
     ]
    }
   ],
   "source": [
    "list = [\"Makhanbet\", \"Iskendir\", \"Almatbekuly\"]\n",
    "list.insert(1, \"Nurdaulet\")\n",
    "print(list)"
   ]
  },
  {
   "cell_type": "markdown",
   "id": "e0890276-cb64-4dba-a306-5373778108a8",
   "metadata": {},
   "source": [
    "Add List Items"
   ]
  },
  {
   "cell_type": "markdown",
   "id": "6f229c60-409f-41e9-9798-d6d9990db738",
   "metadata": {},
   "source": [
    "ex 1:"
   ]
  },
  {
   "cell_type": "code",
   "execution_count": 1,
   "id": "db7529c2-7358-44a4-934c-578bc2c1a96f",
   "metadata": {},
   "outputs": [
    {
     "name": "stdout",
     "output_type": "stream",
     "text": [
      "['KBTU', 'SDU', 'AITU']\n"
     ]
    }
   ],
   "source": [
    "list1 = [\"KBTU\", \"SDU\"]\n",
    "list1.append(\"AITU\")\n",
    "print(list1)"
   ]
  },
  {
   "cell_type": "markdown",
   "id": "0a334b57-a06a-4a3d-8e62-46f6a5ec6928",
   "metadata": {},
   "source": [
    "ex 2:"
   ]
  },
  {
   "cell_type": "code",
   "execution_count": 4,
   "id": "b90bafb2-e972-4502-bacb-1a2a84ac05ff",
   "metadata": {},
   "outputs": [
    {
     "name": "stdout",
     "output_type": "stream",
     "text": [
      "['AITU', 'KBTU', 'SDU']\n"
     ]
    }
   ],
   "source": [
    "list1 = [\"KBTU\", \"SDU\"]\n",
    "list1.insert(0,\"AITU\")\n",
    "print(list1)"
   ]
  },
  {
   "cell_type": "markdown",
   "id": "f522b9a3-bf9d-4e4b-bba9-90c63b2f3554",
   "metadata": {},
   "source": [
    "ex 3:"
   ]
  },
  {
   "cell_type": "code",
   "execution_count": 7,
   "id": "6337b6db-0b88-4b36-ba0d-ac54a4b24ecf",
   "metadata": {},
   "outputs": [
    {
     "name": "stdout",
     "output_type": "stream",
     "text": [
      "['AITU', 'Python', 'C++', 'is good', \"isn't boring\", 'is difficult']\n"
     ]
    }
   ],
   "source": [
    "list1 = [\"AITU\", \"Python\", \"C++\"]\n",
    "list2 = [\"is good\", \"isn't boring\", \"is difficult\"]\n",
    "list1.extend(list2)\n",
    "print(list1)"
   ]
  },
  {
   "cell_type": "markdown",
   "id": "a73c1e45-3fd5-4c7a-be67-b6b96eb6fa83",
   "metadata": {},
   "source": [
    "Remove Specified Item"
   ]
  },
  {
   "cell_type": "markdown",
   "id": "395a13a8-7a7b-4bb7-8615-2436b7c4c7be",
   "metadata": {},
   "source": [
    "ex 1:"
   ]
  },
  {
   "cell_type": "code",
   "execution_count": 11,
   "id": "8b6dccc2-b82e-4642-b092-afcc2ca54e47",
   "metadata": {},
   "outputs": [
    {
     "name": "stdout",
     "output_type": "stream",
     "text": [
      "['KBTU', 'IS', 'GOOD']\n"
     ]
    }
   ],
   "source": [
    "list = [\"KBTU\", \"IS\", \"VERY\", \"GOOD\"]\n",
    "list.remove(\"VERY\")\n",
    "print(list)"
   ]
  },
  {
   "cell_type": "markdown",
   "id": "01cb6602-a969-4840-8f13-da83fd4c8584",
   "metadata": {},
   "source": [
    "ex 2:"
   ]
  },
  {
   "cell_type": "code",
   "execution_count": 13,
   "id": "e1359d65-6e2f-45ea-b998-3e55c28fb111",
   "metadata": {},
   "outputs": [
    {
     "name": "stdout",
     "output_type": "stream",
     "text": [
      "['IS', 'VERY', 'GOOD', 'KBTU', 'KBTU']\n"
     ]
    }
   ],
   "source": [
    "list = [\"KBTU\", \"IS\", \"VERY\", \"GOOD\", \"KBTU\", \"KBTU\"]\n",
    "list.remove(\"KBTU\")\n",
    "print(list)"
   ]
  },
  {
   "cell_type": "markdown",
   "id": "57a50da0-8e2e-4711-968d-e5ba3829ea6f",
   "metadata": {},
   "source": [
    "ex 3:"
   ]
  },
  {
   "cell_type": "code",
   "execution_count": 17,
   "id": "2a0101ca-7dc5-42de-9f7f-1c529926f757",
   "metadata": {},
   "outputs": [
    {
     "name": "stdout",
     "output_type": "stream",
     "text": [
      "['KBTU', 'is']\n"
     ]
    }
   ],
   "source": [
    "list = [\"KBTU\", \"is\", \"Good\"]\n",
    "list.pop(2)\n",
    "print(list)"
   ]
  },
  {
   "cell_type": "markdown",
   "id": "25d2a207-9754-4ec8-ad94-e91835045fd8",
   "metadata": {},
   "source": [
    "ex 4:"
   ]
  },
  {
   "cell_type": "code",
   "execution_count": 20,
   "id": "937161ac-043e-488e-8bf2-511f0525c417",
   "metadata": {},
   "outputs": [
    {
     "name": "stdout",
     "output_type": "stream",
     "text": [
      "['KBTU', 'is']\n"
     ]
    }
   ],
   "source": [
    "list = [\"KBTU\", \"is\", \"Good\"]\n",
    "list.pop()\n",
    "print(list)"
   ]
  },
  {
   "cell_type": "markdown",
   "id": "2937aee1-6976-451f-8b22-7507c5d0ab5c",
   "metadata": {},
   "source": [
    "ex 5:"
   ]
  },
  {
   "cell_type": "code",
   "execution_count": 23,
   "id": "bdc685d4-62a3-42c0-8bfc-b08890e284a4",
   "metadata": {},
   "outputs": [
    {
     "name": "stdout",
     "output_type": "stream",
     "text": [
      "['KBTU', 'Good']\n"
     ]
    }
   ],
   "source": [
    "list = [\"KBTU\", \"is\", \"Good\"]\n",
    "del list[1]\n",
    "print(list)"
   ]
  },
  {
   "cell_type": "markdown",
   "id": "1067b5a6-44d7-429a-b5fa-3a63e9953ffd",
   "metadata": {},
   "source": [
    "ex 6:"
   ]
  },
  {
   "cell_type": "code",
   "execution_count": 26,
   "id": "42720faa-fba2-48be-9711-6e1af7171660",
   "metadata": {},
   "outputs": [
    {
     "name": "stdout",
     "output_type": "stream",
     "text": [
      "<class 'list'>\n"
     ]
    }
   ],
   "source": [
    "list = [\"KBTU\", \"is\", \"Good\"]\n",
    "del list\n",
    "print(list)"
   ]
  },
  {
   "cell_type": "markdown",
   "id": "22b45bf6-105b-4f52-a5e7-5fe9cc4a9f33",
   "metadata": {},
   "source": [
    "ex 7:"
   ]
  },
  {
   "cell_type": "code",
   "execution_count": 31,
   "id": "e4e8ab6f-64ef-4875-a705-74a48665d307",
   "metadata": {},
   "outputs": [
    {
     "name": "stdout",
     "output_type": "stream",
     "text": [
      "[]\n"
     ]
    }
   ],
   "source": [
    "list = [\"KBTU\", \"is\", \"Good\"]\n",
    "list.clear()\n",
    "print(list)"
   ]
  },
  {
   "cell_type": "markdown",
   "id": "843d62fe-d64e-48ba-80c8-4fc8b4fc3978",
   "metadata": {},
   "source": [
    "Loop Lists"
   ]
  },
  {
   "cell_type": "markdown",
   "id": "eb848b94-0817-4cec-a428-242c0d1092b1",
   "metadata": {},
   "source": [
    "ex 1:"
   ]
  },
  {
   "cell_type": "code",
   "execution_count": 35,
   "id": "5d085c79-161e-464b-a4f8-23cebd09a981",
   "metadata": {},
   "outputs": [
    {
     "name": "stdout",
     "output_type": "stream",
     "text": [
      "Spanish\n",
      "English\n",
      "Kazakh\n"
     ]
    }
   ],
   "source": [
    "languages = [\"Spanish\", \"English\", \"Kazakh\"]\n",
    "for x in languages:\n",
    "    print(x)"
   ]
  },
  {
   "cell_type": "markdown",
   "id": "9ee061d0-9eca-420e-875f-41a8b414e512",
   "metadata": {},
   "source": [
    "ex 2:"
   ]
  },
  {
   "cell_type": "code",
   "execution_count": 40,
   "id": "20b9394b-454f-4ab8-b0c7-97a14fabbea4",
   "metadata": {},
   "outputs": [
    {
     "name": "stdout",
     "output_type": "stream",
     "text": [
      "Spanish\n",
      "English\n",
      "Kazakh\n"
     ]
    }
   ],
   "source": [
    "languages = [\"Spanish\", \"English\", \"Kazakh\"]\n",
    "for i in range(len(languages)):\n",
    "    print(languages[i])"
   ]
  },
  {
   "cell_type": "markdown",
   "id": "a0a5dcbe-24f5-412d-b68f-deb84b71f5cb",
   "metadata": {},
   "source": [
    "ex 3:"
   ]
  },
  {
   "cell_type": "code",
   "execution_count": 43,
   "id": "f9004a60-7cdd-4702-804a-b94dba212dd2",
   "metadata": {},
   "outputs": [
    {
     "name": "stdout",
     "output_type": "stream",
     "text": [
      "Spanish\n",
      "English\n",
      "Kazakh\n"
     ]
    }
   ],
   "source": [
    "languages = [\"Spanish\", \"English\", \"Kazakh\"]\n",
    "i = 0\n",
    "while i < len(languages):\n",
    "    print(languages[i])\n",
    "    i += 1"
   ]
  },
  {
   "cell_type": "markdown",
   "id": "a0986a6e-378b-4011-9abb-7d1d40a86aa9",
   "metadata": {},
   "source": [
    "ex 4:"
   ]
  },
  {
   "cell_type": "code",
   "execution_count": 46,
   "id": "612590e7-c5b4-46e9-9c8b-3ef9a871c1e2",
   "metadata": {},
   "outputs": [
    {
     "name": "stdout",
     "output_type": "stream",
     "text": [
      "Spanish\n",
      "English\n",
      "Kazakh\n"
     ]
    },
    {
     "data": {
      "text/plain": [
       "[None, None, None]"
      ]
     },
     "execution_count": 46,
     "metadata": {},
     "output_type": "execute_result"
    }
   ],
   "source": [
    "languages = [\"Spanish\", \"English\", \"Kazakh\"]\n",
    "[print(x) for x in languages]"
   ]
  },
  {
   "cell_type": "markdown",
   "id": "723f1e9d-3607-4f53-ba94-370b4cf2a187",
   "metadata": {},
   "source": [
    "List Comprehension"
   ]
  },
  {
   "cell_type": "markdown",
   "id": "7a92436d-1dc7-4bb8-b01f-7baadf2fb310",
   "metadata": {},
   "source": [
    "ex 1:"
   ]
  },
  {
   "cell_type": "code",
   "execution_count": 17,
   "id": "509e626e-fb3b-4e29-879d-86af87ee55e8",
   "metadata": {},
   "outputs": [
    {
     "name": "stdout",
     "output_type": "stream",
     "text": [
      "['Spanish', 'Kazakh']\n"
     ]
    }
   ],
   "source": [
    "fruits = [\"Spanish\", \"English\", \"Kazakh\"]\n",
    "newlist = []\n",
    "\n",
    "for x in fruits:\n",
    "  if \"a\" in x:\n",
    "    newlist.append(x)\n",
    "\n",
    "print(newlist)"
   ]
  },
  {
   "cell_type": "markdown",
   "id": "d25fecf2-fdda-4939-8b7e-e902965342e5",
   "metadata": {},
   "source": [
    "ex 2:"
   ]
  },
  {
   "cell_type": "code",
   "execution_count": 23,
   "id": "b396f379-1e53-4657-8760-ab1319decf4d",
   "metadata": {},
   "outputs": [
    {
     "name": "stdout",
     "output_type": "stream",
     "text": [
      "[]\n"
     ]
    }
   ],
   "source": [
    "languages = [\"Spanish\", \"English\", \"Kazakh\"]\n",
    "list = [x for x in languages if \"i\" in languages]\n",
    "print(list)"
   ]
  },
  {
   "cell_type": "markdown",
   "id": "98488e75-8772-486c-9bd5-b89356d6f76f",
   "metadata": {},
   "source": [
    "ex 3:"
   ]
  },
  {
   "cell_type": "code",
   "execution_count": 25,
   "id": "e439d886-3440-4eeb-becd-e87221228135",
   "metadata": {},
   "outputs": [
    {
     "name": "stdout",
     "output_type": "stream",
     "text": [
      "['English', 'Kazakh']\n"
     ]
    }
   ],
   "source": [
    "languages = [\"Spanish\", \"English\", \"Kazakh\"]\n",
    "list = [x for x in languages if x != \"Spanish\"]\n",
    "print(list)"
   ]
  },
  {
   "cell_type": "markdown",
   "id": "f805a311-c01c-4592-959f-9361045ab150",
   "metadata": {},
   "source": [
    "ex 4:"
   ]
  },
  {
   "cell_type": "code",
   "execution_count": 27,
   "id": "286c6284-eaf2-468d-a135-7c20e373b298",
   "metadata": {},
   "outputs": [
    {
     "name": "stdout",
     "output_type": "stream",
     "text": [
      "['Spanish', 'English', 'Kazakh']\n"
     ]
    }
   ],
   "source": [
    "languages = [\"Spanish\", \"English\", \"Kazakh\"]\n",
    "list = [x for x in languages]\n",
    "print(list)"
   ]
  },
  {
   "cell_type": "markdown",
   "id": "e007a565-a630-4c36-9046-52a225ca9409",
   "metadata": {},
   "source": [
    "ex 5:"
   ]
  },
  {
   "cell_type": "code",
   "execution_count": 36,
   "id": "6ca297da-9165-4f86-8c4c-20d5cf9f1e11",
   "metadata": {},
   "outputs": [
    {
     "name": "stdout",
     "output_type": "stream",
     "text": [
      "[0, 1, 2, 3, 4, 5, 6, 7, 8, 9, 10, 11, 12, 13, 14]\n"
     ]
    }
   ],
   "source": [
    "numbers = [x for x in range(15)]\n",
    "print(numbers)"
   ]
  },
  {
   "cell_type": "markdown",
   "id": "359d1036-6c60-4d3c-9871-38c2a3af9e6b",
   "metadata": {},
   "source": [
    "ex 6:"
   ]
  },
  {
   "cell_type": "code",
   "execution_count": 41,
   "id": "e82d8d82-e4c6-43c0-b0ff-bf665b1ae862",
   "metadata": {},
   "outputs": [
    {
     "name": "stdout",
     "output_type": "stream",
     "text": [
      "[0, 1, 2, 3]\n"
     ]
    }
   ],
   "source": [
    "numbers = [x for x in range(15) if x < 4]\n",
    "print(numbers)"
   ]
  },
  {
   "cell_type": "markdown",
   "id": "e0f6eb16-38a4-451c-acd4-cd5a37cfc071",
   "metadata": {},
   "source": [
    "ex 7:"
   ]
  },
  {
   "cell_type": "code",
   "execution_count": 44,
   "id": "28c141b7-0545-4226-a7b2-78631a5cebf6",
   "metadata": {},
   "outputs": [
    {
     "name": "stdout",
     "output_type": "stream",
     "text": [
      "['SPANISH', 'ENGLISH', 'KAZAKH']\n"
     ]
    }
   ],
   "source": [
    "languages = [\"Spanish\", \"English\", \"Kazakh\"]\n",
    "list = [x.upper() for x in languages]\n",
    "print(list)"
   ]
  },
  {
   "cell_type": "markdown",
   "id": "b4afb834-4f5d-4f46-ab2e-fa4801607302",
   "metadata": {},
   "source": [
    "ex 8:"
   ]
  },
  {
   "cell_type": "code",
   "execution_count": 47,
   "id": "6a3f4a5d-14b8-4b30-bc33-16d2f83a1e7f",
   "metadata": {},
   "outputs": [
    {
     "name": "stdout",
     "output_type": "stream",
     "text": [
      "['Hi', 'Hi', 'Hi']\n"
     ]
    }
   ],
   "source": [
    "languages = [\"Spanish\", \"English\", \"Kazakh\"]\n",
    "list = [\"Hi\" for x in languages]\n",
    "print(list)"
   ]
  },
  {
   "cell_type": "markdown",
   "id": "3ef62614-a930-4eff-abbb-58c615e03efd",
   "metadata": {},
   "source": [
    "ex 9:"
   ]
  },
  {
   "cell_type": "code",
   "execution_count": 54,
   "id": "d76c6bb0-2679-4509-830f-09945ce63b44",
   "metadata": {},
   "outputs": [
    {
     "name": "stdout",
     "output_type": "stream",
     "text": [
      "['Spanish', 'Chinese', 'Kazakh']\n"
     ]
    }
   ],
   "source": [
    "languages = [\"Spanish\", \"English\", \"Kazakh\"]\n",
    "list = [x if x != \"English\" else \"Chinese\" for x in languages]\n",
    "print(list)"
   ]
  },
  {
   "cell_type": "markdown",
   "id": "ba051292-bd25-408a-878c-9d04a6c0cdeb",
   "metadata": {},
   "source": [
    "Sort List Alphanumerically"
   ]
  },
  {
   "cell_type": "markdown",
   "id": "a3adfafc-b356-4095-b7ce-4cacd7712727",
   "metadata": {},
   "source": [
    "ex 1:"
   ]
  },
  {
   "cell_type": "code",
   "execution_count": 66,
   "id": "c726a5a9-d9cf-46f7-b6be-af72ac43f06a",
   "metadata": {},
   "outputs": [
    {
     "name": "stdout",
     "output_type": "stream",
     "text": [
      "['a', 'b', 'v']\n"
     ]
    }
   ],
   "source": [
    "letters = [\"b\", \"a\", \"v\"]\n",
    "letters.sort()\n",
    "print(letters)"
   ]
  },
  {
   "cell_type": "markdown",
   "id": "d58b27be-2b3d-4f6c-b642-2582b416db3b",
   "metadata": {},
   "source": [
    "ex 2:"
   ]
  },
  {
   "cell_type": "code",
   "execution_count": 69,
   "id": "367140b9-89a5-4af4-9939-8b536e506807",
   "metadata": {},
   "outputs": [
    {
     "name": "stdout",
     "output_type": "stream",
     "text": [
      "[1, 3, 12, 15, 65]\n"
     ]
    }
   ],
   "source": [
    "numbers = [15, 65, 1, 12, 3]\n",
    "numbers.sort()\n",
    "print(numbers)"
   ]
  },
  {
   "cell_type": "markdown",
   "id": "598d4b82-4f22-470f-8fda-4ad9ce72efb6",
   "metadata": {},
   "source": [
    "ex 3:"
   ]
  },
  {
   "cell_type": "code",
   "execution_count": 72,
   "id": "51c7a6b5-2c88-4c1f-ad08-7e4257d6894a",
   "metadata": {},
   "outputs": [
    {
     "name": "stdout",
     "output_type": "stream",
     "text": [
      "[65, 15, 12, 3, 1]\n"
     ]
    }
   ],
   "source": [
    "numbers = [15, 65, 1, 12, 3]\n",
    "numbers.sort(reverse = True)\n",
    "print(numbers)"
   ]
  },
  {
   "cell_type": "markdown",
   "id": "cae07e0b-691e-46ff-ad05-a1c6b036a933",
   "metadata": {},
   "source": [
    "ex 4:"
   ]
  },
  {
   "cell_type": "code",
   "execution_count": 79,
   "id": "0bbb8da4-d2de-4c58-bbc5-fce03cc32831",
   "metadata": {},
   "outputs": [
    {
     "name": "stdout",
     "output_type": "stream",
     "text": [
      "[3, 1, 12, 15, 65]\n"
     ]
    }
   ],
   "source": [
    "def func(n):\n",
    "    return abs(n-5)\n",
    "\n",
    "numbers = [15, 65, 1, 12, 3]\n",
    "numbers.sort(key = func)\n",
    "print(numbers)"
   ]
  },
  {
   "cell_type": "markdown",
   "id": "5d37b451-2223-4e6e-8462-e8114406a634",
   "metadata": {},
   "source": [
    "Copy a List"
   ]
  },
  {
   "cell_type": "code",
   "execution_count": 96,
   "id": "7e17f64f-8425-43b5-a822-46addbe78521",
   "metadata": {},
   "outputs": [
    {
     "name": "stdout",
     "output_type": "stream",
     "text": [
      "[15, 65, 1, 12, 3]\n"
     ]
    }
   ],
   "source": [
    "numbers = [15, 65, 1, 12, 3]\n",
    "list = numbers.copy()\n",
    "print(list)"
   ]
  },
  {
   "cell_type": "code",
   "execution_count": 98,
   "id": "258dae03-5200-40c1-b427-e4a64fc9708b",
   "metadata": {},
   "outputs": [
    {
     "name": "stdout",
     "output_type": "stream",
     "text": [
      "[15, 65, 1, 12, 3]\n"
     ]
    }
   ],
   "source": [
    "numbers = [15, 65, 1, 12, 3]\n",
    "list = numbers[:]\n",
    "print(list)"
   ]
  },
  {
   "cell_type": "markdown",
   "id": "afeaac11-045b-4942-88bb-941aa813f51f",
   "metadata": {},
   "source": [
    "Join Two Lists"
   ]
  },
  {
   "cell_type": "markdown",
   "id": "d62d4ca7-9a4a-483c-9cb8-4615bc70b3cd",
   "metadata": {},
   "source": [
    "ex 1:"
   ]
  },
  {
   "cell_type": "code",
   "execution_count": 106,
   "id": "d984efa4-76f9-46e0-97e4-fa53363d01ce",
   "metadata": {},
   "outputs": [
    {
     "name": "stdout",
     "output_type": "stream",
     "text": [
      "[15, 65, 1, 12, 3, 'b', 'a', 'v']\n"
     ]
    }
   ],
   "source": [
    "numbers = [15, 65, 1, 12, 3]\n",
    "letters = [\"b\", \"a\", \"v\"]\n",
    "list3 = numbers + letters\n",
    "print(list3)"
   ]
  },
  {
   "cell_type": "markdown",
   "id": "076b970f-cfe0-47b8-854d-36707a5231b2",
   "metadata": {},
   "source": [
    "ex 2:"
   ]
  },
  {
   "cell_type": "code",
   "execution_count": 109,
   "id": "a86d8a74-c815-466b-8222-79d41223c187",
   "metadata": {},
   "outputs": [
    {
     "name": "stdout",
     "output_type": "stream",
     "text": [
      "[15, 65, 1, 12, 3, 'b', 'a', 'v']\n"
     ]
    }
   ],
   "source": [
    "numbers = [15, 65, 1, 12, 3]\n",
    "letters = [\"b\", \"a\", \"v\"]\n",
    "for x in letters:\n",
    "    numbers.append(x)\n",
    "\n",
    "print(numbers)\n"
   ]
  },
  {
   "cell_type": "markdown",
   "id": "a9899709-f44d-49ff-a703-cbbcafb0ee83",
   "metadata": {},
   "source": [
    "ex 3:"
   ]
  },
  {
   "cell_type": "code",
   "execution_count": 114,
   "id": "4d19eb92-97a7-44d1-aca5-ea8fe56adc74",
   "metadata": {},
   "outputs": [
    {
     "name": "stdout",
     "output_type": "stream",
     "text": [
      "[15, 65, 1, 12, 3, 'b', 'a', 'v']\n"
     ]
    }
   ],
   "source": [
    "numbers = [15, 65, 1, 12, 3]\n",
    "letters = [\"b\", \"a\", \"v\"]\n",
    "numbers.extend(letters)\n",
    "print(numbers)"
   ]
  },
  {
   "cell_type": "markdown",
   "id": "3c7b267d-13e9-4804-b277-c6b20e85c500",
   "metadata": {},
   "source": [
    "PYTHON TUPLES"
   ]
  },
  {
   "cell_type": "markdown",
   "id": "64336a1c-2423-42a4-8a6c-09c3d53efd07",
   "metadata": {},
   "source": [
    "Python Tuples"
   ]
  },
  {
   "cell_type": "markdown",
   "id": "1d919a1d-edac-45af-8d5b-f445988be7eb",
   "metadata": {},
   "source": [
    "ex 1:"
   ]
  },
  {
   "cell_type": "code",
   "execution_count": 119,
   "id": "148cbc88-1f90-4c59-af91-726f2cf40bca",
   "metadata": {},
   "outputs": [
    {
     "name": "stdout",
     "output_type": "stream",
     "text": [
      "('a', 'b', 'c')\n"
     ]
    }
   ],
   "source": [
    "tuple = (\"a\", \"b\", \"c\")\n",
    "print(tuple)"
   ]
  },
  {
   "cell_type": "markdown",
   "id": "d337e58f-42a3-4d79-a134-1dd85bf966cf",
   "metadata": {},
   "source": [
    "ex 2:"
   ]
  },
  {
   "cell_type": "code",
   "execution_count": 122,
   "id": "fd4dd87f-e2d2-4af7-8c1a-55a9ee551aa5",
   "metadata": {},
   "outputs": [
    {
     "name": "stdout",
     "output_type": "stream",
     "text": [
      "<class 'tuple'>\n",
      "<class 'str'>\n"
     ]
    }
   ],
   "source": [
    "tuple = (\"a\",)\n",
    "tuple2 = (\"a\")\n",
    "print(type(tuple))\n",
    "print(type(tuple2))"
   ]
  },
  {
   "cell_type": "markdown",
   "id": "92b01ea7-6562-4245-857c-c57d3245bb24",
   "metadata": {},
   "source": [
    "ex 3:"
   ]
  },
  {
   "cell_type": "code",
   "execution_count": 143,
   "id": "1df6980d-0d68-4d32-aa8d-9bee12c290a3",
   "metadata": {},
   "outputs": [
    {
     "name": "stdout",
     "output_type": "stream",
     "text": [
      "YES\n"
     ]
    }
   ],
   "source": [
    "tuple = (\"a\", \"b\", \"c\")\n",
    "if \"a\" in tuple:\n",
    "    print(\"YES\")"
   ]
  },
  {
   "cell_type": "markdown",
   "id": "ee7129fd-1adb-4e92-9654-b0f2820b042f",
   "metadata": {},
   "source": [
    "Change Tuple Values"
   ]
  },
  {
   "cell_type": "markdown",
   "id": "ed4bbae8-0730-45af-8f6d-10ca51fc06ac",
   "metadata": {},
   "source": [
    "ex 1:"
   ]
  },
  {
   "cell_type": "code",
   "execution_count": 161,
   "id": "56e025f6-ecea-4d3f-b41e-c2200f1738cb",
   "metadata": {},
   "outputs": [
    {
     "name": "stdout",
     "output_type": "stream",
     "text": [
      "('a', 'b', 'c', 'v')\n"
     ]
    }
   ],
   "source": [
    "tuple1 = (\"a\", \"b\", \"c\")\n",
    "tuple2 = (\"v\",)\n",
    "tuple1 += tuple2\n",
    "print(tuple1)"
   ]
  },
  {
   "cell_type": "markdown",
   "id": "1bfa88a9-0705-4e89-877c-baf9d9216b63",
   "metadata": {},
   "source": [
    "Unpack Tuples"
   ]
  },
  {
   "cell_type": "markdown",
   "id": "862ed241-1d29-482e-97d0-77c1a795631c",
   "metadata": {},
   "source": [
    "ex 1:"
   ]
  },
  {
   "cell_type": "code",
   "execution_count": 171,
   "id": "682dbb82-80cb-448d-b0f7-22ae4e0922f9",
   "metadata": {},
   "outputs": [
    {
     "name": "stdout",
     "output_type": "stream",
     "text": [
      "a\n",
      "b\n",
      "c\n"
     ]
    }
   ],
   "source": [
    "tuple1 = (\"a\", \"b\", \"c\")\n",
    "(one, two, three) = tuple1\n",
    "print(one)\n",
    "print(two)\n",
    "print(three)"
   ]
  },
  {
   "cell_type": "markdown",
   "id": "fdbc1ec3-ba94-43cb-aecd-07c844a33484",
   "metadata": {},
   "source": [
    "Join tuples"
   ]
  },
  {
   "cell_type": "markdown",
   "id": "b5076576-42ee-405b-a1a7-44c98b40aea4",
   "metadata": {},
   "source": [
    "ex 2:"
   ]
  },
  {
   "cell_type": "code",
   "execution_count": 178,
   "id": "c9b5d434-3934-48cf-98ec-263a0f66b860",
   "metadata": {},
   "outputs": [
    {
     "name": "stdout",
     "output_type": "stream",
     "text": [
      "('a', 'b', 'c', 'a', 'b', 'c', 'a', 'b', 'c')\n"
     ]
    }
   ],
   "source": [
    "tuple1 = (\"a\", \"b\", \"c\")\n",
    "tuple2 = tuple1 * 3\n",
    "print(tuple2)"
   ]
  },
  {
   "cell_type": "markdown",
   "id": "b0eedd82-ef04-4cec-a881-a18f48d7a73f",
   "metadata": {},
   "source": [
    "PYTHON SETS"
   ]
  },
  {
   "cell_type": "markdown",
   "id": "1e192f68-06a6-4080-93ea-fa5697b36ccf",
   "metadata": {},
   "source": [
    "ex 1"
   ]
  },
  {
   "cell_type": "code",
   "execution_count": 183,
   "id": "859af695-247a-40bf-a17d-cbc1e1cf072b",
   "metadata": {},
   "outputs": [
    {
     "name": "stdout",
     "output_type": "stream",
     "text": [
      "{'a', 'b', 'c'}\n"
     ]
    }
   ],
   "source": [
    "okay = {\"a\", \"b\", \"c\"}\n",
    "print(okay)"
   ]
  },
  {
   "cell_type": "markdown",
   "id": "e5bdd88a-28d1-4f45-88bc-8543751bad94",
   "metadata": {},
   "source": [
    "ex 2:"
   ]
  },
  {
   "cell_type": "code",
   "execution_count": 194,
   "id": "34a66782-d914-41b2-9625-9912ce8c71bd",
   "metadata": {},
   "outputs": [
    {
     "name": "stdout",
     "output_type": "stream",
     "text": [
      "{'a', 'b', 'c'}\n"
     ]
    }
   ],
   "source": [
    "okay = {\"a\", \"b\", \"c\", \"a\", \"b\"}\n",
    "print(okay)"
   ]
  },
  {
   "cell_type": "markdown",
   "id": "9ced9d5e-e944-4e46-8ce8-24304f7927c7",
   "metadata": {},
   "source": [
    "ex 3:"
   ]
  },
  {
   "cell_type": "code",
   "execution_count": 197,
   "id": "f2d16239-0de7-4014-8827-27a2c83c0dfa",
   "metadata": {},
   "outputs": [
    {
     "name": "stdout",
     "output_type": "stream",
     "text": [
      "{True, 'b', 3, 'a', 'c'}\n"
     ]
    }
   ],
   "source": [
    "okay = {\"a\", \"b\", \"c\", \"a\", \"b\", True, 1, 3}\n",
    "print(okay)"
   ]
  },
  {
   "cell_type": "markdown",
   "id": "c4ede391-d003-4082-8e96-23e9230f5dac",
   "metadata": {},
   "source": [
    "ex 4:"
   ]
  },
  {
   "cell_type": "code",
   "execution_count": 200,
   "id": "560f1f3d-fb47-4aed-8b02-9ffe53e2ce2c",
   "metadata": {},
   "outputs": [
    {
     "name": "stdout",
     "output_type": "stream",
     "text": [
      "<class 'set'>\n"
     ]
    }
   ],
   "source": [
    "okay = {\"a\", \"b\", \"c\", \"a\", \"b\"}\n",
    "print(type(okay))"
   ]
  },
  {
   "cell_type": "markdown",
   "id": "d43b90b0-7bab-4846-b2ee-10f6e6cde30b",
   "metadata": {},
   "source": [
    "ex 5:"
   ]
  },
  {
   "cell_type": "code",
   "execution_count": 207,
   "id": "d15ea632-0e69-476c-b536-02ea44745f04",
   "metadata": {},
   "outputs": [
    {
     "name": "stdout",
     "output_type": "stream",
     "text": [
      "a\n",
      "b\n",
      "c\n"
     ]
    }
   ],
   "source": [
    "okay = {\"a\", \"b\", \"c\"}\n",
    "for x in okay:\n",
    "    print(x)"
   ]
  },
  {
   "cell_type": "markdown",
   "id": "beec22d4-afa4-42d7-be6e-9b7e40352491",
   "metadata": {},
   "source": [
    "ex 6:"
   ]
  },
  {
   "cell_type": "code",
   "execution_count": 210,
   "id": "a113ba61-f44d-4531-b634-3654da5363fc",
   "metadata": {},
   "outputs": [
    {
     "name": "stdout",
     "output_type": "stream",
     "text": [
      "True\n"
     ]
    }
   ],
   "source": [
    "okay = {\"a\", \"b\", \"c\"}\n",
    "print(\"a\" in okay)"
   ]
  },
  {
   "cell_type": "markdown",
   "id": "b90aef32-6fc7-4c17-a59d-c0159db94c33",
   "metadata": {},
   "source": [
    "ex 7:"
   ]
  },
  {
   "cell_type": "code",
   "execution_count": 213,
   "id": "17b92a46-69dd-4e31-a6b7-a20bf1c0eab3",
   "metadata": {},
   "outputs": [
    {
     "name": "stdout",
     "output_type": "stream",
     "text": [
      "False\n"
     ]
    }
   ],
   "source": [
    "okay = {\"a\", \"b\", \"c\"}\n",
    "print(\"a\" not in okay)"
   ]
  },
  {
   "cell_type": "markdown",
   "id": "c5b22056-4366-4529-a0f9-6fddfeb78e65",
   "metadata": {},
   "source": [
    "Adding Items"
   ]
  },
  {
   "cell_type": "markdown",
   "id": "787cfff5-aba0-446c-8806-fe0ff4d4a499",
   "metadata": {},
   "source": [
    "ex 1:"
   ]
  },
  {
   "cell_type": "code",
   "execution_count": 221,
   "id": "33628d3b-ee8b-448d-a350-3905b6f95379",
   "metadata": {},
   "outputs": [
    {
     "name": "stdout",
     "output_type": "stream",
     "text": [
      "{'a', 'b', 'c', 'k'}\n"
     ]
    }
   ],
   "source": [
    "okay = {\"a\", \"b\", \"c\"}\n",
    "okay.add(\"k\")\n",
    "print(okay)"
   ]
  },
  {
   "cell_type": "markdown",
   "id": "418184fe-826d-49ce-a8ed-6eebd5d343d9",
   "metadata": {},
   "source": [
    "ex 2:"
   ]
  },
  {
   "cell_type": "code",
   "execution_count": 224,
   "id": "865016bf-2be0-4fae-8392-8227e1046f23",
   "metadata": {},
   "outputs": [
    {
     "name": "stdout",
     "output_type": "stream",
     "text": [
      "{'v', 'm', 'k', 'a', 'b', 'l', 'c'}\n"
     ]
    }
   ],
   "source": [
    "okay = {\"a\", \"b\", \"c\"}\n",
    "so = {\"v\", \"k\", \"l\", \"m\"}\n",
    "okay.update(so)\n",
    "print(okay)"
   ]
  },
  {
   "cell_type": "markdown",
   "id": "e32bece1-37a8-4928-a8ee-4df34f84056d",
   "metadata": {},
   "source": [
    "Join sets"
   ]
  },
  {
   "cell_type": "markdown",
   "id": "44fce6e5-16b5-459b-8327-14b7129260c6",
   "metadata": {},
   "source": [
    "ex 1:"
   ]
  },
  {
   "cell_type": "code",
   "execution_count": 235,
   "id": "32542479-00f6-4868-ab14-cad936709ec5",
   "metadata": {},
   "outputs": [
    {
     "name": "stdout",
     "output_type": "stream",
     "text": [
      "{'v', 'm', 'k', 'a', 'b', 'l', 'c'}\n"
     ]
    }
   ],
   "source": [
    "okay = {\"a\", \"b\", \"c\"}\n",
    "so = {\"v\", \"k\", \"l\", \"m\"}\n",
    "tak = okay.union(so)\n",
    "print(tak)"
   ]
  },
  {
   "cell_type": "markdown",
   "id": "bad7e27e-1eb4-4475-bdb8-609ee33a005a",
   "metadata": {},
   "source": [
    "ex 2:"
   ]
  },
  {
   "cell_type": "code",
   "execution_count": 238,
   "id": "a18d9beb-b860-473d-883e-09e57b877719",
   "metadata": {},
   "outputs": [
    {
     "name": "stdout",
     "output_type": "stream",
     "text": [
      "{'v', 'm', 'k', 'a', 'b', 'l', 'c'}\n"
     ]
    }
   ],
   "source": [
    "okay = {\"a\", \"b\", \"c\"}\n",
    "so = {\"v\", \"k\", \"l\", \"m\"}\n",
    "tak = okay | so\n",
    "print(tak)"
   ]
  },
  {
   "cell_type": "markdown",
   "id": "8323f01b-9dc7-4a26-9d1d-1add5db1936b",
   "metadata": {},
   "source": [
    "ex 3:"
   ]
  },
  {
   "cell_type": "code",
   "execution_count": 245,
   "id": "f1ea9c57-e0ca-42c6-9d66-1ac4599592b8",
   "metadata": {},
   "outputs": [
    {
     "name": "stdout",
     "output_type": "stream",
     "text": [
      "{'a'}\n"
     ]
    }
   ],
   "source": [
    "okay = {\"a\", \"b\", \"c\"}\n",
    "so = {\"v\", \"k\", \"l\", \"m\", \"a\"}\n",
    "tak = okay.intersection(so)\n",
    "print(tak)"
   ]
  },
  {
   "cell_type": "markdown",
   "id": "3d53a475-0357-4efa-a5b9-0214e1ef7c37",
   "metadata": {},
   "source": [
    "ex 4:"
   ]
  },
  {
   "cell_type": "code",
   "execution_count": 248,
   "id": "f00bc4e5-c224-400d-bb3e-73117cea78e3",
   "metadata": {},
   "outputs": [
    {
     "name": "stdout",
     "output_type": "stream",
     "text": [
      "{'a'}\n"
     ]
    }
   ],
   "source": [
    "okay = {\"a\", \"b\", \"c\"}\n",
    "so = {\"v\", \"k\", \"l\", \"m\", \"a\"}\n",
    "tak = okay & so\n",
    "print(tak)"
   ]
  },
  {
   "cell_type": "markdown",
   "id": "c19483a3-709b-4ea9-b6a7-ee0c629cec78",
   "metadata": {},
   "source": [
    "ex 5:"
   ]
  },
  {
   "cell_type": "code",
   "execution_count": 251,
   "id": "605adfb2-b99a-4dfb-b891-4e5951a6f9df",
   "metadata": {},
   "outputs": [
    {
     "name": "stdout",
     "output_type": "stream",
     "text": [
      "{'b', 'c'}\n"
     ]
    }
   ],
   "source": [
    "okay = {\"a\", \"b\", \"c\"}\n",
    "so = {\"v\", \"k\", \"l\", \"m\", \"a\"}\n",
    "tak = okay.difference(so)\n",
    "print(tak)"
   ]
  },
  {
   "cell_type": "markdown",
   "id": "b1dc2453-15b1-49d6-94c4-77a5b1b57b32",
   "metadata": {},
   "source": [
    " PYTHON DICTIONARIES"
   ]
  },
  {
   "cell_type": "markdown",
   "id": "7066abf5-1fa1-4302-b39e-5933921907d5",
   "metadata": {},
   "source": [
    "Python Dictionaries"
   ]
  },
  {
   "cell_type": "markdown",
   "id": "794aa035-8693-4c2a-a013-107a3cb13a56",
   "metadata": {},
   "source": [
    "ex 1:"
   ]
  },
  {
   "cell_type": "code",
   "execution_count": 260,
   "id": "bd90fae3-28cf-45b2-b0c0-9e5b2a6d9eb0",
   "metadata": {},
   "outputs": [
    {
     "name": "stdout",
     "output_type": "stream",
     "text": [
      "{'name': 'Iskendir', 'lastname': 'Makhanbet', 'age': 18}\n"
     ]
    }
   ],
   "source": [
    "dicti = {\n",
    "    \"name\": \"Iskendir\",\n",
    "    \"lastname\": \"Makhanbet\",\n",
    "    \"age\": 18\n",
    "}\n",
    "print(dicti)"
   ]
  },
  {
   "cell_type": "markdown",
   "id": "12ecca7d-bac6-4de1-be08-eccd9d707cb9",
   "metadata": {},
   "source": [
    "ex 2:"
   ]
  },
  {
   "cell_type": "code",
   "execution_count": 265,
   "id": "8d9a30a7-4626-4822-9c5c-453fa6fbb066",
   "metadata": {},
   "outputs": [
    {
     "name": "stdout",
     "output_type": "stream",
     "text": [
      "Iskendir\n"
     ]
    }
   ],
   "source": [
    "dicti = {\n",
    "    \"name\": \"Iskendir\",\n",
    "    \"lastname\": \"Makhanbet\",\n",
    "    \"age\": 18\n",
    "}\n",
    "print(dicti[\"name\"])"
   ]
  },
  {
   "cell_type": "markdown",
   "id": "032a61f8-272a-42b0-811d-5f51a2c259c0",
   "metadata": {},
   "source": [
    "ex 3:"
   ]
  },
  {
   "cell_type": "code",
   "execution_count": 270,
   "id": "6bc3ac01-e3d3-4126-8b9b-6d2c687ec316",
   "metadata": {},
   "outputs": [
    {
     "name": "stdout",
     "output_type": "stream",
     "text": [
      "3\n"
     ]
    }
   ],
   "source": [
    "dicti = {\n",
    "    \"name\": \"Iskendir\",\n",
    "    \"lastname\": \"Makhanbet\",\n",
    "    \"age\": 18\n",
    "}\n",
    "print(len(dicti))"
   ]
  },
  {
   "cell_type": "markdown",
   "id": "8f2a76b0-9335-463b-962b-82720ce5839c",
   "metadata": {},
   "source": [
    "ex 4:"
   ]
  },
  {
   "cell_type": "code",
   "execution_count": 273,
   "id": "f2210d63-7363-4b37-8811-d62e7e051df6",
   "metadata": {},
   "outputs": [
    {
     "name": "stdout",
     "output_type": "stream",
     "text": [
      "{'name': 'Iskendir', 'lastname': 'Makhanbet', 'age': 18, 'height': 185}\n"
     ]
    }
   ],
   "source": [
    "dicti = {\n",
    "    \"name\": \"Iskendir\",\n",
    "    \"lastname\": \"Makhanbet\",\n",
    "    \"age\": 18\n",
    "}\n",
    "dicti[\"height\"] = 185\n",
    "print(dicti)"
   ]
  },
  {
   "cell_type": "markdown",
   "id": "1f941fcf-b7b5-4c71-9679-aa6f1283bb1d",
   "metadata": {},
   "source": [
    "ex 5:"
   ]
  },
  {
   "cell_type": "code",
   "execution_count": 276,
   "id": "ec50d026-c00a-4c75-986e-0c4174c75b67",
   "metadata": {},
   "outputs": [
    {
     "name": "stdout",
     "output_type": "stream",
     "text": [
      "{'name': 'Iskendir', 'age': 18}\n"
     ]
    }
   ],
   "source": [
    "dicti = {\n",
    "    \"name\": \"Iskendir\",\n",
    "    \"lastname\": \"Makhanbet\",\n",
    "    \"age\": 18\n",
    "}\n",
    "dicti.pop(\"lastname\")\n",
    "print(dicti)"
   ]
  },
  {
   "cell_type": "markdown",
   "id": "c5601430-7c3a-405e-aebd-b960d01f7752",
   "metadata": {},
   "source": [
    "ex 6:"
   ]
  },
  {
   "cell_type": "code",
   "execution_count": 279,
   "id": "ecdfb245-9d39-43bb-8f7d-a1d050f5a53e",
   "metadata": {},
   "outputs": [
    {
     "name": "stdout",
     "output_type": "stream",
     "text": [
      "name\n",
      "lastname\n",
      "age\n"
     ]
    }
   ],
   "source": [
    "dicti = {\n",
    "    \"name\": \"Iskendir\",\n",
    "    \"lastname\": \"Makhanbet\",\n",
    "    \"age\": 18\n",
    "}\n",
    "for x in dicti:\n",
    "    print(x)"
   ]
  },
  {
   "cell_type": "markdown",
   "id": "76f03a2c-6a23-45ed-a3bb-dcf6e64127ec",
   "metadata": {},
   "source": [
    "ex 7:"
   ]
  },
  {
   "cell_type": "code",
   "execution_count": 284,
   "id": "cad9c366-c3d3-4f02-95c8-ead591515f25",
   "metadata": {},
   "outputs": [
    {
     "name": "stdout",
     "output_type": "stream",
     "text": [
      "Iskendir\n",
      "Makhanbet\n",
      "18\n"
     ]
    }
   ],
   "source": [
    "dicti = {\n",
    "    \"name\": \"Iskendir\",\n",
    "    \"lastname\": \"Makhanbet\",\n",
    "    \"age\": 18\n",
    "}\n",
    "for x in dicti:\n",
    "    print(dicti[x])"
   ]
  },
  {
   "cell_type": "markdown",
   "id": "452666aa-66ec-413a-9ee2-7efcad830782",
   "metadata": {},
   "source": [
    "ex 8:"
   ]
  },
  {
   "cell_type": "code",
   "execution_count": 287,
   "id": "75874591-bc1a-439b-89d6-89af5f0f82ff",
   "metadata": {},
   "outputs": [
    {
     "name": "stdout",
     "output_type": "stream",
     "text": [
      "{'name': 'Iskendir', 'lastname': 'Makhanbet', 'age': 18}\n"
     ]
    }
   ],
   "source": [
    "dicti = {\n",
    "    \"name\": \"Iskendir\",\n",
    "    \"lastname\": \"Makhanbet\",\n",
    "    \"age\": 18\n",
    "}\n",
    "dict1 = dicti.copy()\n",
    "print(dict1)"
   ]
  },
  {
   "cell_type": "code",
   "execution_count": null,
   "id": "9217090e-090e-4a74-b286-0f2cfca17532",
   "metadata": {},
   "outputs": [],
   "source": []
  }
 ],
 "metadata": {
  "kernelspec": {
   "display_name": "Python [conda env:base] *",
   "language": "python",
   "name": "conda-base-py"
  },
  "language_info": {
   "codemirror_mode": {
    "name": "ipython",
    "version": 3
   },
   "file_extension": ".py",
   "mimetype": "text/x-python",
   "name": "python",
   "nbconvert_exporter": "python",
   "pygments_lexer": "ipython3",
   "version": "3.12.7"
  }
 },
 "nbformat": 4,
 "nbformat_minor": 5
}

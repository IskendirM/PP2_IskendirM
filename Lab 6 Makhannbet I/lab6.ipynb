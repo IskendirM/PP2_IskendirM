{
 "cells": [
  {
   "cell_type": "markdown",
   "id": "a0b5ed05-82f1-468b-9025-e5f21d745c63",
   "metadata": {},
   "source": [
    "PYTHON DIRECTORIES and FILES EXERCISES"
   ]
  },
  {
   "cell_type": "markdown",
   "id": "b59e1a3a-57cf-42b1-886b-2381a4550176",
   "metadata": {},
   "source": [
    "Task 1:"
   ]
  },
  {
   "cell_type": "code",
   "execution_count": 7,
   "id": "2df5d5ab-23f7-4ee7-8d23-0078b2b27658",
   "metadata": {},
   "outputs": [
    {
     "name": "stdout",
     "output_type": "stream",
     "text": [
      "Directories:\n",
      ".ipynb_checkpoints\n",
      "\n",
      "Files:\n",
      "lab6.ipynb\n",
      "textoviy document.txt\n",
      "\n",
      "All directories and files:\n",
      ".ipynb_checkpoints\n",
      "lab6.ipynb\n",
      "textoviy document.txt\n"
     ]
    }
   ],
   "source": [
    "import os\n",
    "def list_directories(path):\n",
    "    directories = [entry.name for entry in os.scandir(path) if entry.is_dir()]\n",
    "    return directories\n",
    "\n",
    "def list_files(path):\n",
    "    files = [entry.name for entry in os.scandir(path) if entry.is_file()]\n",
    "    return files\n",
    "\n",
    "def list_all(path):\n",
    "    all_entries = [entry.name for entry in os.scandir(path)]\n",
    "    return all_entries\n",
    "    \n",
    "path = 'C:\\\\Users\\\\Lenovo\\\\Desktop\\\\PP2_IskendirM\\\\Lab 6 Makhannbet I'\n",
    "\n",
    "print(\"Directories:\")\n",
    "for directory in list_directories(path):\n",
    "    print(directory)\n",
    "\n",
    "print(\"\\nFiles:\")\n",
    "for file in list_files(path):\n",
    "    print(file)\n",
    "\n",
    "print(\"\\nAll directories and files:\")\n",
    "for entry in list_all(path):\n",
    "    print(entry)"
   ]
  },
  {
   "cell_type": "markdown",
   "id": "18026ad9-c634-48b4-99ab-159cdbdf4116",
   "metadata": {},
   "source": [
    "Task 2:"
   ]
  },
  {
   "cell_type": "code",
   "execution_count": 10,
   "id": "86d953b7-65d4-4fa1-a63d-ef8c44f23e58",
   "metadata": {},
   "outputs": [
    {
     "name": "stdout",
     "output_type": "stream",
     "text": [
      "Path: C:\\Users\\Lenovo\\Desktop\\PP2_IskendirM\\Lab 6 Makhannbet I\n",
      "Exists: True\n",
      "Readable: True\n",
      "Writable: True\n",
      "Executable: True\n"
     ]
    }
   ],
   "source": [
    "import os\n",
    "path = 'C:\\\\Users\\\\Lenovo\\\\Desktop\\\\PP2_IskendirM\\\\Lab 6 Makhannbet I'\n",
    "access_info = {\n",
    "    \"exists\": os.path.exists(path),\n",
    "    \"readable\": os.access(path, os.R_OK),\n",
    "    \"writable\": os.access(path, os.W_OK),\n",
    "    \"executable\": os.access(path, os.X_OK)\n",
    "}\n",
    "print(f\"Path: {path}\")\n",
    "print(f\"Exists: {access_info['exists']}\")\n",
    "print(f\"Readable: {access_info['readable']}\")\n",
    "print(f\"Writable: {access_info['writable']}\")\n",
    "print(f\"Executable: {access_info['executable']}\")"
   ]
  },
  {
   "cell_type": "markdown",
   "id": "c7cf4092-94c3-4d82-ba40-c921c47dcfa4",
   "metadata": {},
   "source": [
    "Task 3:"
   ]
  },
  {
   "cell_type": "code",
   "execution_count": 13,
   "id": "05754a7e-3a4d-433f-82b1-6937b29ffb88",
   "metadata": {},
   "outputs": [
    {
     "name": "stdout",
     "output_type": "stream",
     "text": [
      "The path exists.\n",
      "Filename: Lab 6 Makhannbet I\n",
      "Directory: C:\\Users\\Lenovo\\Desktop\\PP2_IskendirM\n"
     ]
    }
   ],
   "source": [
    "import os\n",
    "path = 'C:\\\\Users\\\\Lenovo\\\\Desktop\\\\PP2_IskendirM\\\\Lab 6 Makhannbet I'\n",
    "\n",
    "if os.path.exists(path):\n",
    "    print(\"The path exists.\")\n",
    "    print(f\"Filename: {os.path.basename(path)}\")\n",
    "    print(f\"Directory: {os.path.dirname(path)}\")\n",
    "else:\n",
    "    print(\"The path does not exist.\")\n"
   ]
  },
  {
   "cell_type": "markdown",
   "id": "b5e466f7-56c8-451b-9dba-4d50885f81ee",
   "metadata": {},
   "source": [
    "Task 4:"
   ]
  },
  {
   "cell_type": "code",
   "execution_count": 76,
   "id": "26f8a6db-a9cd-4744-a27c-7795f8c133c8",
   "metadata": {},
   "outputs": [
    {
     "name": "stdin",
     "output_type": "stream",
     "text": [
      " C:\\Users\\Lenovo\\Desktop\\PP2_IskendirM\\Lab 6 Makhannbet I\n"
     ]
    },
    {
     "name": "stdout",
     "output_type": "stream",
     "text": [
      "Number of lines in the file: [Errno 13] Permission denied: 'C:\\\\Users\\\\Lenovo\\\\Desktop\\\\PP2_IskendirM\\\\Lab 6 Makhannbet I'\n"
     ]
    }
   ],
   "source": [
    "def count_lines_in_file(file_path):\n",
    "    try:\n",
    "        with open(file_path, 'r') as file:\n",
    "            lines = file.readlines() \n",
    "            return len(lines)  \n",
    "    except FileNotFoundError:\n",
    "        return \"The file was not found.\"\n",
    "    except Exception as e:\n",
    "        return str(e)\n",
    "\n",
    "file_path = input()\n",
    "line_count = count_lines_in_file(file_path)\n",
    "print(f\"Number of lines in the file: {line_count}\")\n"
   ]
  },
  {
   "cell_type": "markdown",
   "id": "b2aba6e8-2bb0-4794-9e9b-61057b9d70c9",
   "metadata": {},
   "source": [
    "Task 5:"
   ]
  },
  {
   "cell_type": "code",
   "execution_count": 42,
   "id": "d17cd204-507e-493b-8d4f-6671c2ec31a9",
   "metadata": {},
   "outputs": [
    {
     "name": "stdout",
     "output_type": "stream",
     "text": [
      "Список был закинут в файле primer.txt\n"
     ]
    }
   ],
   "source": [
    "def write_list_to_file(file_path, my_list):\n",
    "    with open(file_path, 'w') as file:\n",
    "        for item in my_list:\n",
    "            file.write(f'{item}\\n')\n",
    "            \n",
    "file_path = 'primer.txt' \n",
    "my_list = ['java', 'c++', 'python']  \n",
    "write_list_to_file(file_path, my_list)\n",
    "print(f'Список был закинут в файле {file_path}')\n",
    "\n"
   ]
  },
  {
   "cell_type": "markdown",
   "id": "1945fcab-accd-4beb-ac34-f77618c89bf8",
   "metadata": {},
   "source": [
    "Task 6:"
   ]
  },
  {
   "cell_type": "code",
   "execution_count": 44,
   "id": "35d8aa07-325e-472f-a3ab-20083b35b667",
   "metadata": {},
   "outputs": [
    {
     "name": "stdout",
     "output_type": "stream",
     "text": [
      "Готово\n"
     ]
    }
   ],
   "source": [
    "import string\n",
    "def generate_text_files():\n",
    "    for letter in string.ascii_uppercase:\n",
    "        file_name = f'{letter}.txt'\n",
    "        with open(file_name, 'w') as file:\n",
    "            file.write(f'This is file {file_name}')\n",
    "\n",
    "generate_text_files()\n",
    "print('Готово')\n"
   ]
  },
  {
   "cell_type": "markdown",
   "id": "6b346fe3-b668-493c-8518-0d47f2d9ed5c",
   "metadata": {},
   "source": [
    "Task 7:"
   ]
  },
  {
   "cell_type": "code",
   "execution_count": 59,
   "id": "61673aaa-e270-4c9b-8298-4ec5f000502a",
   "metadata": {},
   "outputs": [
    {
     "name": "stdout",
     "output_type": "stream",
     "text": [
      "Произошла ошибка: [Errno 2] No such file or directory: 'textoviy_document.txt'\n"
     ]
    }
   ],
   "source": [
    "def copy_file(ishod, goal):\n",
    "    try:\n",
    "        with open(ishod, 'r') as ish, open(goal, 'w') as goa:\n",
    "            goa.write(ish.read())\n",
    "        print(f'Содержимое файла \"{ishod}\" успешно скопировано в \"{goal}\".')\n",
    "    except Exception as e:\n",
    "        print(f\"Произошла ошибка: {e}\")\n",
    "\n",
    "ishod = 'textoviy_document.txt'  \n",
    "goal = 'copiya_tipo.txt' \n",
    "copy_file(ishod, goal)\n"
   ]
  },
  {
   "cell_type": "markdown",
   "id": "0e0ff29c-3032-4a08-82f8-41864736d4f0",
   "metadata": {},
   "source": [
    "Task 8:"
   ]
  },
  {
   "cell_type": "code",
   "execution_count": 62,
   "id": "35e3b55c-ca2f-4ecc-a18d-155cf76976f8",
   "metadata": {},
   "outputs": [
    {
     "name": "stdout",
     "output_type": "stream",
     "text": [
      "Ошибка: Не удалось удалить файл 'textoviy_document.txt'.\n"
     ]
    }
   ],
   "source": [
    "import os\n",
    "\n",
    "def delete_file(file_path):\n",
    "    if os.path.exists(file_path) and os.access(file_path, os.W_OK):\n",
    "        os.remove(file_path)\n",
    "        print(f\"Файл '{file_path}' был успешно удален.\")\n",
    "    else:\n",
    "        print(f\"Ошибка: Не удалось удалить файл '{file_path}'.\")\n",
    "\n",
    "file_path = 'textoviy_document.txt'\n",
    "delete_file(file_path)\n"
   ]
  },
  {
   "cell_type": "markdown",
   "id": "27a7ef15-8e75-411a-9b2c-6a58907a2170",
   "metadata": {},
   "source": [
    "PYTHON BUILTIN FUNCTIONS EXERCISES"
   ]
  },
  {
   "cell_type": "markdown",
   "id": "cc2a4f3e-b35a-4420-8a97-8311ab8df3f5",
   "metadata": {},
   "source": [
    "Task 1 :"
   ]
  },
  {
   "cell_type": "code",
   "execution_count": 89,
   "id": "1f0f06c4-2e3e-4b86-a428-32dd297c5251",
   "metadata": {},
   "outputs": [
    {
     "name": "stdout",
     "output_type": "stream",
     "text": [
      "720\n"
     ]
    }
   ],
   "source": [
    "from functools import reduce\n",
    "def multiply_list(numbers):\n",
    "    return reduce(lambda x, y: x * y, numbers)\n",
    "my_list = [1,2,3,4,5,6]\n",
    "result = multiply_list(my_list)\n",
    "print(result)\n"
   ]
  },
  {
   "cell_type": "markdown",
   "id": "8fc50de9-5a0d-4b6d-b62b-ef9696a2ee43",
   "metadata": {},
   "source": [
    "Task 2:"
   ]
  },
  {
   "cell_type": "code",
   "execution_count": 94,
   "id": "eea71430-ea57-4dab-82ee-61d3a016c65c",
   "metadata": {},
   "outputs": [
    {
     "name": "stdout",
     "output_type": "stream",
     "text": [
      "upper: 4\n",
      "lower: 12\n"
     ]
    }
   ],
   "source": [
    "def num_letters(random_string):\n",
    "    upper_num = sum(1 for c in random_string if c.isupper())\n",
    "    lower_num = sum(1 for c in random_string if c.islower())\n",
    "    return upper_num, lower_num\n",
    "random_string = \"My Name Is Iskendir\"\n",
    "upper_num, lower_num = num_letters(random_string)\n",
    "print(f'upper: {upper_num}')\n",
    "print(f'lower: {lower_num}')\n"
   ]
  },
  {
   "cell_type": "markdown",
   "id": "64472d41-6af3-40cc-b556-e1d6ddb8cc1a",
   "metadata": {},
   "source": [
    "Task 3:"
   ]
  },
  {
   "cell_type": "code",
   "execution_count": 97,
   "id": "22d9598f-7f68-4886-99ea-0645dca4967e",
   "metadata": {},
   "outputs": [
    {
     "name": "stdout",
     "output_type": "stream",
     "text": [
      "Da, Palindrom\n"
     ]
    }
   ],
   "source": [
    "def is_palindrome(s):\n",
    "    s = s.replace(\" \", \"\").lower()\n",
    "    return s == s[::-1]\n",
    "input_string = \"lol\"\n",
    "result = is_palindrome(input_string)\n",
    "if result:\n",
    "    print(\"Da, Palindrom\")\n",
    "else:\n",
    "    print(\"Net, ne Palindrom\")\n"
   ]
  },
  {
   "cell_type": "markdown",
   "id": "eea2b2f4-38a5-484b-9f32-6fccc4b8d3e6",
   "metadata": {},
   "source": [
    "Task 4:"
   ]
  },
  {
   "cell_type": "code",
   "execution_count": 100,
   "id": "cba6d038-6f91-447e-a871-d88a5066fc0c",
   "metadata": {},
   "outputs": [
    {
     "name": "stdin",
     "output_type": "stream",
     "text": [
      " 16\n",
      " 1000\n"
     ]
    },
    {
     "name": "stdout",
     "output_type": "stream",
     "text": [
      "Square root of 16 after 1000 milliseconds is 4.0\n"
     ]
    }
   ],
   "source": [
    "import time\n",
    "import math\n",
    "def delayed_sqrt(x, delay_ms):\n",
    "    time.sleep(delay_ms / 1000)\n",
    "    return math.sqrt(x)\n",
    "number = int(input())\n",
    "delay = int(input())\n",
    "result = delayed_sqrt(number, delay)\n",
    "print(f'Square root of {number} after {delay} milliseconds is {result}')\n"
   ]
  },
  {
   "cell_type": "markdown",
   "id": "a09a2640-0ed3-4784-97d3-689c5788cfbc",
   "metadata": {},
   "source": [
    "Task 5:"
   ]
  },
  {
   "cell_type": "code",
   "execution_count": 103,
   "id": "d4e3c0b9-086d-47b3-b7f4-0b0bc947229f",
   "metadata": {},
   "outputs": [
    {
     "name": "stdout",
     "output_type": "stream",
     "text": [
      "True\n"
     ]
    }
   ],
   "source": [
    "def all_elements_true(t):\n",
    "    return all(t)\n",
    "my_tuple = (True, True, True)\n",
    "result = all_elements_true(my_tuple)\n",
    "print(result)\n"
   ]
  },
  {
   "cell_type": "code",
   "execution_count": null,
   "id": "2ff0eab7-a8e2-45ab-b9df-c9a718de98c4",
   "metadata": {},
   "outputs": [],
   "source": []
  }
 ],
 "metadata": {
  "kernelspec": {
   "display_name": "Python [conda env:base] *",
   "language": "python",
   "name": "conda-base-py"
  },
  "language_info": {
   "codemirror_mode": {
    "name": "ipython",
    "version": 3
   },
   "file_extension": ".py",
   "mimetype": "text/x-python",
   "name": "python",
   "nbconvert_exporter": "python",
   "pygments_lexer": "ipython3",
   "version": "3.12.7"
  }
 },
 "nbformat": 4,
 "nbformat_minor": 5
}

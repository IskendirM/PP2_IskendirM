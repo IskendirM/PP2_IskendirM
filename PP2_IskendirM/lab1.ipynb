{
 "cells": [
  {
   "cell_type": "markdown",
   "id": "8fef0388-d378-4792-8419-8907055d8403",
   "metadata": {},
   "source": [
    "Python HOME LESSON:"
   ]
  },
  {
   "cell_type": "code",
   "execution_count": 2,
   "id": "2040916b-0985-46d8-aff2-7290ee14da0c",
   "metadata": {},
   "outputs": [
    {
     "name": "stdout",
     "output_type": "stream",
     "text": [
      "Hello, World!\n"
     ]
    }
   ],
   "source": [
    "print(\"Hello, World!\") "
   ]
  },
  {
   "cell_type": "markdown",
   "id": "5f589923-3484-4f4e-b228-e796ee2fa96c",
   "metadata": {},
   "source": [
    "PYTHON SYNTAX:"
   ]
  },
  {
   "cell_type": "code",
   "execution_count": 5,
   "id": "107a51c6-3721-4231-9924-ea1015adfecf",
   "metadata": {},
   "outputs": [
    {
     "name": "stdout",
     "output_type": "stream",
     "text": [
      "5 is more greater than 2\n"
     ]
    }
   ],
   "source": [
    "if 5 > 2:\n",
    "    print(\"5 is more greater than 2\")\n"
   ]
  },
  {
   "cell_type": "code",
   "execution_count": 9,
   "id": "f7d77999-0ff3-478b-ade1-de7201541c58",
   "metadata": {},
   "outputs": [
    {
     "name": "stdout",
     "output_type": "stream",
     "text": [
      "five is greater than two\n",
      "5 is greater than 2\n"
     ]
    }
   ],
   "source": [
    "if 5 > 2:\n",
    "    print(\"five is greater than two\")\n",
    "if 5 > 2:\n",
    "          print(\"5 is greater than 2\")"
   ]
  },
  {
   "cell_type": "markdown",
   "id": "befed126-e5d8-494e-9b8e-e980a89e03e5",
   "metadata": {},
   "source": [
    "Python Variables:"
   ]
  },
  {
   "cell_type": "code",
   "execution_count": 12,
   "id": "fb83db4e-8e89-471b-946b-b423528ea127",
   "metadata": {},
   "outputs": [
    {
     "name": "stdout",
     "output_type": "stream",
     "text": [
      "8\n",
      "KBTU\n"
     ]
    }
   ],
   "source": [
    "a = 8\n",
    "b = \"KBTU\"\n",
    "\n",
    "print(a)\n",
    "print(b)"
   ]
  },
  {
   "cell_type": "markdown",
   "id": "a9028f11-1050-47a8-bcac-029996f0c531",
   "metadata": {},
   "source": [
    "PYTHON COMMENTS:"
   ]
  },
  {
   "cell_type": "code",
   "execution_count": 17,
   "id": "afd12640-f31a-4c1c-801d-195426d92217",
   "metadata": {},
   "outputs": [
    {
     "name": "stdout",
     "output_type": "stream",
     "text": [
      "Makhanbet Iskendir\n"
     ]
    }
   ],
   "source": [
    "#I want to learn Python\n",
    "print(\"Makhanbet Iskendir\")"
   ]
  },
  {
   "cell_type": "code",
   "execution_count": 19,
   "id": "dd4857a2-dbf6-403a-860e-b6d35c40a7b5",
   "metadata": {},
   "outputs": [
    {
     "name": "stdout",
     "output_type": "stream",
     "text": [
      "Makhanbet Iskendir\n"
     ]
    }
   ],
   "source": [
    "print(\"Makhanbet Iskendir\") #I think this is comment"
   ]
  },
  {
   "cell_type": "code",
   "execution_count": 21,
   "id": "02fe1d40-72aa-499f-8e67-2c683f360fac",
   "metadata": {},
   "outputs": [
    {
     "name": "stdout",
     "output_type": "stream",
     "text": [
      "Makhanbet Iskendir\n"
     ]
    }
   ],
   "source": [
    "#print(\"Makhanbet Iskendir\")\n",
    "print(\"Makhanbet Iskendir\")"
   ]
  },
  {
   "cell_type": "code",
   "execution_count": 23,
   "id": "b87e21f6-71dd-4d00-babc-53597c76b1eb",
   "metadata": {},
   "outputs": [
    {
     "name": "stdout",
     "output_type": "stream",
     "text": [
      "Makhanbet Iskendir\n"
     ]
    }
   ],
   "source": [
    "#comment number 1\n",
    "#comment number 2\n",
    "#comment number 3\n",
    "print(\"Makhanbet Iskendir\")"
   ]
  },
  {
   "cell_type": "code",
   "execution_count": 25,
   "id": "bab0a8a9-a639-4633-ba02-b54ff86c93ed",
   "metadata": {},
   "outputs": [
    {
     "name": "stdout",
     "output_type": "stream",
     "text": [
      "Makhanbet Iskendir\n"
     ]
    }
   ],
   "source": [
    "\"\"\"\n",
    "comments\n",
    "comments again\n",
    "and so, comments again\n",
    "\"\"\"\n",
    "print(\"Makhanbet Iskendir\")"
   ]
  },
  {
   "cell_type": "markdown",
   "id": "d34413ac-2a46-4450-afa7-7347023d880c",
   "metadata": {},
   "source": [
    "Python VARIABLES:"
   ]
  },
  {
   "cell_type": "markdown",
   "id": "8276488b-d78a-44ed-b809-ab7645907084",
   "metadata": {},
   "source": [
    "Creating variables ex 1:"
   ]
  },
  {
   "cell_type": "code",
   "execution_count": 29,
   "id": "86bdd8ac-ee89-4d15-98f7-7b4ce97cffdf",
   "metadata": {},
   "outputs": [
    {
     "name": "stdout",
     "output_type": "stream",
     "text": [
      "13\n",
      "Iskendir\n"
     ]
    }
   ],
   "source": [
    "x = 13\n",
    "y = \"Iskendir\"\n",
    "\n",
    "print(x)\n",
    "print(y)"
   ]
  },
  {
   "cell_type": "markdown",
   "id": "31fa2183-07f3-42c4-8ce8-9eb2ea4da44e",
   "metadata": {},
   "source": [
    "Сreating Variables ex 2:"
   ]
  },
  {
   "cell_type": "code",
   "execution_count": 34,
   "id": "2f7a5268-2633-4229-8a2f-bcd58c5012a5",
   "metadata": {},
   "outputs": [
    {
     "name": "stdout",
     "output_type": "stream",
     "text": [
      "Iskendir\n"
     ]
    }
   ],
   "source": [
    "a = 88 #type int\n",
    "a = \"Iskendir\"  #type string\n",
    "\n",
    "print(a)"
   ]
  },
  {
   "cell_type": "markdown",
   "id": "b4e144d4-1c93-41fd-9175-650a9a6ba5c9",
   "metadata": {},
   "source": [
    "Casting ex 1:"
   ]
  },
  {
   "cell_type": "code",
   "execution_count": 39,
   "id": "eaadb424-07d5-42cc-8312-7bad437df1ef",
   "metadata": {},
   "outputs": [
    {
     "name": "stdout",
     "output_type": "stream",
     "text": [
      "123\n",
      "123\n",
      "123.0\n"
     ]
    }
   ],
   "source": [
    "x = str(123)\n",
    "y = int(123)\n",
    "z = float(123)\n",
    "\n",
    "print(x)\n",
    "print(y)\n",
    "print(z)"
   ]
  },
  {
   "cell_type": "markdown",
   "id": "c9ae31fc-2a9a-43a3-b2cf-2ee68927a317",
   "metadata": {},
   "source": [
    "Get the Type ex 1:"
   ]
  },
  {
   "cell_type": "code",
   "execution_count": 42,
   "id": "b9e26138-ece3-467f-ad79-74c32cbd7519",
   "metadata": {},
   "outputs": [
    {
     "name": "stdout",
     "output_type": "stream",
     "text": [
      "<class 'str'>\n",
      "<class 'int'>\n"
     ]
    }
   ],
   "source": [
    "x = \"Makhanbet Iskendir\"\n",
    "y = 123\n",
    "print(type(x))\n",
    "print(type(y))"
   ]
  },
  {
   "cell_type": "markdown",
   "id": "a3806fce-1c67-4524-91aa-30e0b04dc8b0",
   "metadata": {},
   "source": [
    "Single or Double quotes ex 1:"
   ]
  },
  {
   "cell_type": "code",
   "execution_count": 45,
   "id": "aac496fc-27af-491e-8a14-3a8ed628f2f1",
   "metadata": {},
   "outputs": [
    {
     "name": "stdout",
     "output_type": "stream",
     "text": [
      "Iskendir Makhanbet\n",
      "Iskendir Makhanbet\n"
     ]
    }
   ],
   "source": [
    "x = \"Iskendir Makhanbet\"\n",
    "y = 'Iskendir Makhanbet'\n",
    "print(x)\n",
    "print(y)"
   ]
  },
  {
   "cell_type": "code",
   "execution_count": 47,
   "id": "cf69097a-3af7-4df1-899c-ad5366b7e4c7",
   "metadata": {},
   "outputs": [
    {
     "name": "stdout",
     "output_type": "stream",
     "text": [
      "1234\n",
      "Iskendir Makhanbet\n"
     ]
    }
   ],
   "source": [
    "a = 1234\n",
    "A = \"Iskendir Makhanbet\"\n",
    "print(a)\n",
    "print(A)"
   ]
  },
  {
   "cell_type": "markdown",
   "id": "e3a3a597-f651-4316-842d-b05f99e80c0c",
   "metadata": {},
   "source": [
    "Variable Names ex 1:"
   ]
  },
  {
   "cell_type": "code",
   "execution_count": 50,
   "id": "c532d31d-128f-4de9-9a1c-babb9f381173",
   "metadata": {},
   "outputs": [
    {
     "name": "stdout",
     "output_type": "stream",
     "text": [
      "Makhanbet Iskendir\n",
      "Makhanbet Iskendir\n",
      "Makhanbet Iskendir\n",
      "Makhanbet Iskendir\n",
      "Makhanbet Iskendir\n",
      "Makhanbet Iskendir\n"
     ]
    }
   ],
   "source": [
    "human = \"Makhanbet Iskendir\"\n",
    "hu_man = \"Makhanbet Iskendir\"\n",
    "_hu_man = \"Makhanbet Iskendir\"\n",
    "huMan = \"Makhanbet Iskendir\"\n",
    "HUMAN = \"Makhanbet Iskendir\"\n",
    "human123 = \"Makhanbet Iskendir\"\n",
    "\n",
    "print(human)\n",
    "print(hu_man)\n",
    "print(_hu_man)\n",
    "print(huMan)\n",
    "print(HUMAN)\n",
    "print(human123)"
   ]
  },
  {
   "cell_type": "markdown",
   "id": "8f842d72-1ac1-43dd-90a0-9a8fab340dd1",
   "metadata": {},
   "source": [
    "Assign Multiple Values ex 1:"
   ]
  },
  {
   "cell_type": "code",
   "execution_count": 53,
   "id": "5062b2c7-e78c-49b9-825e-39fba1644fed",
   "metadata": {},
   "outputs": [
    {
     "name": "stdout",
     "output_type": "stream",
     "text": [
      "Makhanbet\n",
      "Iskendir\n",
      "Almatbekuly\n"
     ]
    }
   ],
   "source": [
    "a,b,c = \"Makhanbet\", \"Iskendir\", \"Almatbekuly\"\n",
    "print(a)\n",
    "print(b)\n",
    "print(c)"
   ]
  },
  {
   "cell_type": "markdown",
   "id": "f7fb7e59-f99b-406d-9a01-ef5ac0b80911",
   "metadata": {},
   "source": [
    "One Value to Multiple Variables:"
   ]
  },
  {
   "cell_type": "code",
   "execution_count": 56,
   "id": "d2aca00d-7f1a-4898-850c-15b2acbd7d33",
   "metadata": {},
   "outputs": [
    {
     "name": "stdout",
     "output_type": "stream",
     "text": [
      "Iskendir\n",
      "Iskendir\n",
      "Iskendir\n"
     ]
    }
   ],
   "source": [
    "a=b=c= \"Iskendir\"\n",
    "print(a)\n",
    "print(b)\n",
    "print(c)"
   ]
  },
  {
   "cell_type": "markdown",
   "id": "638d063e-a341-40b9-af26-5e305a82206f",
   "metadata": {},
   "source": [
    "Unpack a Collection:"
   ]
  },
  {
   "cell_type": "code",
   "execution_count": 59,
   "id": "974b9231-cd22-4fd4-af46-cfc8ab7eb2c2",
   "metadata": {},
   "outputs": [
    {
     "name": "stdout",
     "output_type": "stream",
     "text": [
      "Iskendir\n",
      "Nurdaulet\n",
      "Alikhan\n"
     ]
    }
   ],
   "source": [
    "names = [\"Iskendir\", \"Nurdaulet\", \"Alikhan\"]\n",
    "a, b, c = names\n",
    "print(a)\n",
    "print(b)\n",
    "print(c)"
   ]
  },
  {
   "cell_type": "markdown",
   "id": "08a91fe4-62b2-4541-8b71-62aed2a84995",
   "metadata": {},
   "source": [
    "Output Variables ex 1:"
   ]
  },
  {
   "cell_type": "code",
   "execution_count": 62,
   "id": "d4bfcd0a-8eda-4b00-800a-5779cc302a1b",
   "metadata": {},
   "outputs": [
    {
     "name": "stdout",
     "output_type": "stream",
     "text": [
      "Python is really crazy\n"
     ]
    }
   ],
   "source": [
    "x = \"Python is really crazy\"\n",
    "print(x)"
   ]
  },
  {
   "cell_type": "markdown",
   "id": "320ecd5a-9720-4424-838a-d87c88949c10",
   "metadata": {},
   "source": [
    "Output Variables ex 2:"
   ]
  },
  {
   "cell_type": "code",
   "execution_count": 65,
   "id": "58399800-89fc-4358-a04a-bf26081d7920",
   "metadata": {},
   "outputs": [
    {
     "name": "stdout",
     "output_type": "stream",
     "text": [
      "Python is really crazy\n"
     ]
    }
   ],
   "source": [
    "x = \"Python\"\n",
    "y = \"is\"\n",
    "z = \"really\"\n",
    "w = \"crazy\"\n",
    "print(x, y, z, w)"
   ]
  },
  {
   "cell_type": "markdown",
   "id": "4b5aeeb8-c6d7-4c0c-a726-dfdfce6fb06d",
   "metadata": {},
   "source": [
    "Output Variables ex 3:"
   ]
  },
  {
   "cell_type": "code",
   "execution_count": 70,
   "id": "d79f6d66-05c6-4a4d-8447-6c2c53d16c34",
   "metadata": {},
   "outputs": [
    {
     "name": "stdout",
     "output_type": "stream",
     "text": [
      "Python is  really crazy\n"
     ]
    }
   ],
   "source": [
    "x = \"Python \"\n",
    "y = \"is \"\n",
    "z = \" really\"\n",
    "w = \" crazy\"\n",
    "print(x + y + z + w)"
   ]
  },
  {
   "cell_type": "markdown",
   "id": "5693ff0e-b76a-42ed-b9fd-78083bf2763b",
   "metadata": {},
   "source": [
    "Output Variables ex 4:"
   ]
  },
  {
   "cell_type": "code",
   "execution_count": 75,
   "id": "37f0ce31-d896-4f0e-bdb1-05be1c66b884",
   "metadata": {},
   "outputs": [
    {
     "name": "stdout",
     "output_type": "stream",
     "text": [
      "300\n"
     ]
    }
   ],
   "source": [
    "x = 123\n",
    "y = 177\n",
    "print(x + y)"
   ]
  },
  {
   "cell_type": "markdown",
   "id": "0de2fe4b-ec7f-4d32-be90-cff9270e8f14",
   "metadata": {},
   "source": [
    "Output Variables ex 5:"
   ]
  },
  {
   "cell_type": "code",
   "execution_count": 78,
   "id": "2e29885b-2849-490b-a146-2f6aaf585176",
   "metadata": {},
   "outputs": [
    {
     "name": "stdout",
     "output_type": "stream",
     "text": [
      "48 Iskendir\n"
     ]
    }
   ],
   "source": [
    "a = 48\n",
    "b = \"Iskendir\"\n",
    "print(a, b)"
   ]
  },
  {
   "cell_type": "markdown",
   "id": "81d64e4d-c036-43a9-a891-079554c55992",
   "metadata": {},
   "source": [
    "Global Variables ex 1:"
   ]
  },
  {
   "cell_type": "code",
   "execution_count": 85,
   "id": "a7ed4c7c-b08e-4cc5-b490-52905a0b6012",
   "metadata": {},
   "outputs": [
    {
     "name": "stdout",
     "output_type": "stream",
     "text": [
      "Python is Cool\n"
     ]
    }
   ],
   "source": [
    "a = \" Cool\"\n",
    "def func():\n",
    "    print(\"Python is\" + a)\n",
    "\n",
    "func()"
   ]
  },
  {
   "cell_type": "markdown",
   "id": "564c32a6-cb63-475d-a13b-98ab5ce02e32",
   "metadata": {},
   "source": [
    "Global Variables ex 2:"
   ]
  },
  {
   "cell_type": "code",
   "execution_count": 92,
   "id": "cde29937-622b-4808-9845-2abe2d7905f7",
   "metadata": {},
   "outputs": [
    {
     "name": "stdout",
     "output_type": "stream",
     "text": [
      "Python is Useful\n",
      "Python is Interesting\n"
     ]
    }
   ],
   "source": [
    "a = \" Interesting\"\n",
    "def func():\n",
    "    a = \" Useful\"\n",
    "    print(\"Python is\" + a)\n",
    "\n",
    "func()\n",
    "print(\"Python is\" + a)"
   ]
  },
  {
   "cell_type": "markdown",
   "id": "3e5989fd-ca08-4eaf-a8fa-f169b02101f7",
   "metadata": {},
   "source": [
    "The global Keyword ex 1:"
   ]
  },
  {
   "cell_type": "code",
   "execution_count": 97,
   "id": "9452d5ee-0b68-4822-a61a-43c1f9bb7192",
   "metadata": {},
   "outputs": [
    {
     "name": "stdout",
     "output_type": "stream",
     "text": [
      "Makhanbet Iskendir\n"
     ]
    }
   ],
   "source": [
    "def func():\n",
    "    global x\n",
    "    x = \" Iskendir\"\n",
    "\n",
    "func()\n",
    "print(\"Makhanbet\" + x)"
   ]
  },
  {
   "cell_type": "markdown",
   "id": "c07d9f10-aa74-486d-a4af-6efcecf792c1",
   "metadata": {},
   "source": [
    "The global Keyword ex 2:"
   ]
  },
  {
   "cell_type": "code",
   "execution_count": 102,
   "id": "fd91b2a8-ddeb-4b2e-b510-7a0f3ec93e98",
   "metadata": {},
   "outputs": [
    {
     "name": "stdout",
     "output_type": "stream",
     "text": [
      "Python is easy\n"
     ]
    }
   ],
   "source": [
    "a = \"C++\"\n",
    "def func():\n",
    "    global a\n",
    "    a = \"Python \"\n",
    "\n",
    "func()\n",
    "print(a + \"is easy\")"
   ]
  },
  {
   "cell_type": "markdown",
   "id": "4034e997-3c09-40b6-b17c-685b0b5722df",
   "metadata": {},
   "source": [
    "PYTHON DATA TYPES:"
   ]
  },
  {
   "cell_type": "code",
   "execution_count": 106,
   "id": "1701e35a-dad6-4782-a569-09d7c9a5b34d",
   "metadata": {},
   "outputs": [
    {
     "name": "stdout",
     "output_type": "stream",
     "text": [
      "<class 'int'>\n"
     ]
    }
   ],
   "source": [
    "A = 123\n",
    "print(type(A))"
   ]
  },
  {
   "cell_type": "markdown",
   "id": "1705c0cd-3d5e-45a9-b19a-75a4c17a2ee4",
   "metadata": {},
   "source": [
    "Setting Data Types examples:"
   ]
  },
  {
   "cell_type": "code",
   "execution_count": 110,
   "id": "d576db76-483a-4e7e-8b02-fdb9fbb8bddf",
   "metadata": {},
   "outputs": [
    {
     "name": "stdout",
     "output_type": "stream",
     "text": [
      "Iskendir Makhanbet\n",
      "<class 'str'>\n"
     ]
    }
   ],
   "source": [
    "a = \"Iskendir Makhanbet\"\n",
    "print(a)\n",
    "print(type(a))"
   ]
  },
  {
   "cell_type": "code",
   "execution_count": 112,
   "id": "b11b127b-0946-4a65-ac4f-54dca16e7b60",
   "metadata": {},
   "outputs": [
    {
     "name": "stdout",
     "output_type": "stream",
     "text": [
      "888\n",
      "<class 'int'>\n"
     ]
    }
   ],
   "source": [
    "b = 888\n",
    "print(b)\n",
    "print(type(b))"
   ]
  },
  {
   "cell_type": "code",
   "execution_count": 114,
   "id": "423e3942-413d-4705-af23-de209ca163ab",
   "metadata": {},
   "outputs": [
    {
     "name": "stdout",
     "output_type": "stream",
     "text": [
      "1.5\n",
      "<class 'float'>\n"
     ]
    }
   ],
   "source": [
    "c = 1.5\n",
    "print(c)\n",
    "print(type(c))"
   ]
  },
  {
   "cell_type": "code",
   "execution_count": 16,
   "id": "0e51d6eb-37c7-4b5b-b9f2-9991e50ab3cc",
   "metadata": {},
   "outputs": [
    {
     "name": "stdout",
     "output_type": "stream",
     "text": [
      "1j\n",
      "<class 'complex'>\n"
     ]
    }
   ],
   "source": [
    "d = 1j\n",
    "print(d)\n",
    "print(type(d))"
   ]
  },
  {
   "cell_type": "code",
   "execution_count": 124,
   "id": "1a7eb0ee-0e73-48ee-9c47-ac022c2930ee",
   "metadata": {},
   "outputs": [
    {
     "name": "stdout",
     "output_type": "stream",
     "text": [
      "['Python', ' is', ' cool:']\n",
      "<class 'list'>\n"
     ]
    }
   ],
   "source": [
    "e = [\"Python\", \" is\", \" cool:\"]\n",
    "print(e)\n",
    "print(type(e))"
   ]
  },
  {
   "cell_type": "code",
   "execution_count": 128,
   "id": "0f74342e-d786-4119-b4f4-d0c4165462ec",
   "metadata": {},
   "outputs": [
    {
     "name": "stdout",
     "output_type": "stream",
     "text": [
      "('C++', \" isn't\", ' easy')\n",
      "<class 'tuple'>\n"
     ]
    }
   ],
   "source": [
    "f = (\"C++\", \" isn't\", \" easy\")\n",
    "print(f)\n",
    "print(type(f))"
   ]
  },
  {
   "cell_type": "code",
   "execution_count": 130,
   "id": "99023f62-94e2-4375-9023-75e50579e643",
   "metadata": {},
   "outputs": [
    {
     "name": "stdout",
     "output_type": "stream",
     "text": [
      "range(0, 10)\n",
      "<class 'range'>\n"
     ]
    }
   ],
   "source": [
    "g = range(10)\n",
    "print(g)\n",
    "print(type(g))"
   ]
  },
  {
   "cell_type": "code",
   "execution_count": 132,
   "id": "629fe9c1-3837-4ef9-9b00-8b79deea1719",
   "metadata": {},
   "outputs": [
    {
     "name": "stdout",
     "output_type": "stream",
     "text": [
      "{'subject_name': 'Programming principles', 'Language': 'Python'}\n",
      "<class 'dict'>\n"
     ]
    }
   ],
   "source": [
    "h = {\"subject_name\" : \"Programming principles\" , \"Language\" : \"Python\"}\n",
    "print(h)\n",
    "print(type(h))"
   ]
  },
  {
   "cell_type": "code",
   "execution_count": 134,
   "id": "f3965531-a5d9-4784-a955-f701ea31f842",
   "metadata": {},
   "outputs": [
    {
     "name": "stdout",
     "output_type": "stream",
     "text": [
      "{'Calculus 2', 'Programming principles 2', 'English'}\n",
      "<class 'set'>\n"
     ]
    }
   ],
   "source": [
    "i = {\"Programming principles 2\" , \"Calculus 2\" , \"English\"}\n",
    "print(i)\n",
    "print(type(i))"
   ]
  },
  {
   "cell_type": "code",
   "execution_count": 136,
   "id": "a51e7c2a-1edc-4ef2-b9f4-299f3bc85ce5",
   "metadata": {},
   "outputs": [
    {
     "name": "stdout",
     "output_type": "stream",
     "text": [
      "frozenset({'Calculus 2', 'Programming principles 2', 'English'})\n",
      "<class 'frozenset'>\n"
     ]
    }
   ],
   "source": [
    "j = frozenset({\"Calculus 2\" , \"Programming principles 2\" , \"English\"})\n",
    "print(j)\n",
    "print(type(j))"
   ]
  },
  {
   "cell_type": "code",
   "execution_count": 138,
   "id": "1ce1c0a1-6bdd-45c8-8dbe-a73636c4b20b",
   "metadata": {},
   "outputs": [
    {
     "name": "stdout",
     "output_type": "stream",
     "text": [
      "True\n",
      "<class 'bool'>\n"
     ]
    }
   ],
   "source": [
    "k = True\n",
    "print(k)\n",
    "print(type(k))"
   ]
  },
  {
   "cell_type": "code",
   "execution_count": 146,
   "id": "42415db6-c780-4803-b0ff-dd1e47b65104",
   "metadata": {},
   "outputs": [
    {
     "name": "stdout",
     "output_type": "stream",
     "text": [
      "b'Iskendir'\n",
      "<class 'bytes'>\n"
     ]
    }
   ],
   "source": [
    "l = b\"Iskendir\"\n",
    "print(l)\n",
    "print(type(l))"
   ]
  },
  {
   "cell_type": "code",
   "execution_count": 148,
   "id": "365c970e-1bee-4b22-8fbc-67748a0dc9f1",
   "metadata": {},
   "outputs": [
    {
     "name": "stdout",
     "output_type": "stream",
     "text": [
      "bytearray(b'\\x00\\x00\\x00')\n",
      "<class 'bytearray'>\n"
     ]
    }
   ],
   "source": [
    "m = bytearray(3)\n",
    "print(m)\n",
    "print(type(m))"
   ]
  },
  {
   "cell_type": "code",
   "execution_count": 152,
   "id": "972a4d89-bc30-4119-8889-354f83f41154",
   "metadata": {},
   "outputs": [
    {
     "name": "stdout",
     "output_type": "stream",
     "text": [
      "<memory at 0x0000018E700A1840>\n",
      "<class 'memoryview'>\n"
     ]
    }
   ],
   "source": [
    "n = memoryview(bytes(3))\n",
    "print(n)\n",
    "print(type(n))"
   ]
  },
  {
   "cell_type": "code",
   "execution_count": 154,
   "id": "aa54f3d9-17de-4c09-98ab-b30cac3c1317",
   "metadata": {},
   "outputs": [
    {
     "name": "stdout",
     "output_type": "stream",
     "text": [
      "None\n",
      "<class 'NoneType'>\n"
     ]
    }
   ],
   "source": [
    "o = None\n",
    "print(o)\n",
    "print(type(o))"
   ]
  },
  {
   "cell_type": "markdown",
   "id": "e79d0155-c03f-4b66-bd24-0764781988e9",
   "metadata": {},
   "source": [
    "Setting the Spicific Data Type"
   ]
  },
  {
   "cell_type": "code",
   "execution_count": 6,
   "id": "3e23f57c-da76-468d-be62-f3fffbae5484",
   "metadata": {},
   "outputs": [
    {
     "name": "stdout",
     "output_type": "stream",
     "text": [
      "Makhanbet Iskendir\n",
      "<class 'str'>\n"
     ]
    }
   ],
   "source": [
    "a = str(\"Makhanbet Iskendir\")\n",
    "print(a)\n",
    "print(type(a))"
   ]
  },
  {
   "cell_type": "code",
   "execution_count": 8,
   "id": "a84ac3db-d77e-481f-b95c-98cd918976a6",
   "metadata": {},
   "outputs": [
    {
     "name": "stdout",
     "output_type": "stream",
     "text": [
      "18\n",
      "<class 'int'>\n"
     ]
    }
   ],
   "source": [
    "b = int(18)\n",
    "print(b)\n",
    "print(type(b))"
   ]
  },
  {
   "cell_type": "code",
   "execution_count": 10,
   "id": "91e4f018-66c7-4749-ba4a-e3e5541be76d",
   "metadata": {},
   "outputs": [
    {
     "name": "stdout",
     "output_type": "stream",
     "text": [
      "17.5\n",
      "<class 'float'>\n"
     ]
    }
   ],
   "source": [
    "c = float(17.5)\n",
    "print(c)\n",
    "print(type(c))"
   ]
  },
  {
   "cell_type": "code",
   "execution_count": 14,
   "id": "e5c6c243-d014-48cb-9070-f63ce3529c5e",
   "metadata": {},
   "outputs": [
    {
     "name": "stdout",
     "output_type": "stream",
     "text": [
      "1j\n",
      "<class 'complex'>\n"
     ]
    }
   ],
   "source": [
    "d = complex(1j)\n",
    "print(d)\n",
    "print(type(d))"
   ]
  },
  {
   "cell_type": "code",
   "execution_count": 18,
   "id": "bd44b546-90c1-4a8f-add9-c5dde2180555",
   "metadata": {},
   "outputs": [
    {
     "name": "stdout",
     "output_type": "stream",
     "text": [
      "['Python', 'C++', 'Pascal']\n",
      "<class 'list'>\n"
     ]
    }
   ],
   "source": [
    "e = list((\"Python\", \"C++\", \"Pascal\"))\n",
    "print(e)\n",
    "print(type(e))"
   ]
  },
  {
   "cell_type": "code",
   "execution_count": 22,
   "id": "d5e9b653-47d9-474a-95fa-79711d510c39",
   "metadata": {},
   "outputs": [
    {
     "name": "stdout",
     "output_type": "stream",
     "text": [
      "('Computer', 'Phone', 'Laptop')\n",
      "<class 'tuple'>\n"
     ]
    }
   ],
   "source": [
    "f = tuple((\"Computer\", \"Phone\", \"Laptop\"))\n",
    "print(f)\n",
    "print(type(f))"
   ]
  },
  {
   "cell_type": "code",
   "execution_count": 24,
   "id": "b9ff1681-27c0-4737-9e2b-f28102138120",
   "metadata": {},
   "outputs": [
    {
     "name": "stdout",
     "output_type": "stream",
     "text": [
      "range(0, 15)\n",
      "<class 'range'>\n"
     ]
    }
   ],
   "source": [
    "g = range(15)\n",
    "print(g)\n",
    "print(type(g))"
   ]
  },
  {
   "cell_type": "code",
   "execution_count": 26,
   "id": "e81ca62a-2ee5-4381-892d-12d2e8990684",
   "metadata": {},
   "outputs": [
    {
     "name": "stdout",
     "output_type": "stream",
     "text": [
      "{'name': 'Python', 'speciality': 'Informmation Systems'}\n",
      "<class 'dict'>\n"
     ]
    }
   ],
   "source": [
    "h = dict(name = \"Python\", speciality = \"Informmation Systems\")\n",
    "print(h)\n",
    "print(type(h))"
   ]
  },
  {
   "cell_type": "code",
   "execution_count": 28,
   "id": "03e0362a-a3de-4022-9121-4de8b96b211c",
   "metadata": {},
   "outputs": [
    {
     "name": "stdout",
     "output_type": "stream",
     "text": [
      "{'Information Systems', 'Photo', 'Oil'}\n",
      "<class 'set'>\n"
     ]
    }
   ],
   "source": [
    "i = set((\"Information Systems\", \"Oil\", \"Photo\"))\n",
    "print(i)\n",
    "print(type(i))"
   ]
  },
  {
   "cell_type": "code",
   "execution_count": 30,
   "id": "f935969b-e227-45a8-b375-fb7aa7863992",
   "metadata": {},
   "outputs": [
    {
     "name": "stdout",
     "output_type": "stream",
     "text": [
      "frozenset({'AITU', 'KBTU', 'SDU'})\n",
      "<class 'frozenset'>\n"
     ]
    }
   ],
   "source": [
    "j = frozenset((\"KBTU\", \"SDU\", \"AITU\"))\n",
    "print(j)\n",
    "print(type(j))"
   ]
  },
  {
   "cell_type": "code",
   "execution_count": 36,
   "id": "87b65b5e-fba2-4ae7-b048-2be016cdd71d",
   "metadata": {},
   "outputs": [
    {
     "name": "stdout",
     "output_type": "stream",
     "text": [
      "True\n",
      "<class 'bool'>\n"
     ]
    }
   ],
   "source": [
    "k = bool(7)\n",
    "print(k)\n",
    "print(type(k))"
   ]
  },
  {
   "cell_type": "code",
   "execution_count": 38,
   "id": "6db4bc70-fb65-4f7e-9217-28f74f2c6fa2",
   "metadata": {},
   "outputs": [
    {
     "name": "stdout",
     "output_type": "stream",
     "text": [
      "b'\\x00\\x00\\x00'\n",
      "<class 'bytes'>\n"
     ]
    }
   ],
   "source": [
    "l = bytes(3)\n",
    "print(l)\n",
    "print(type(l))"
   ]
  },
  {
   "cell_type": "code",
   "execution_count": 40,
   "id": "cdd86bcb-b953-42eb-aa3b-4e09bf8dc703",
   "metadata": {},
   "outputs": [
    {
     "name": "stdout",
     "output_type": "stream",
     "text": [
      "bytearray(b'\\x00\\x00')\n",
      "<class 'bytearray'>\n"
     ]
    }
   ],
   "source": [
    "m = bytearray(2)\n",
    "print(m)\n",
    "print(type(m))"
   ]
  },
  {
   "cell_type": "code",
   "execution_count": 42,
   "id": "bc7fb55f-dc93-4773-a8f1-c56fca3ad7c2",
   "metadata": {},
   "outputs": [
    {
     "name": "stdout",
     "output_type": "stream",
     "text": [
      "<memory at 0x000001E754971780>\n",
      "<class 'memoryview'>\n"
     ]
    }
   ],
   "source": [
    "n = memoryview(bytes(4))\n",
    "print(n)\n",
    "print(type(n))"
   ]
  },
  {
   "cell_type": "markdown",
   "id": "01baa6b7-cf58-4fa3-9adc-da0bcec08859",
   "metadata": {},
   "source": [
    "PYTHON NUMBERS."
   ]
  },
  {
   "cell_type": "markdown",
   "id": "9d3acf32-1f60-442b-bdc1-95aae3d4e8e5",
   "metadata": {},
   "source": [
    "Ex 1:"
   ]
  },
  {
   "cell_type": "code",
   "execution_count": 5,
   "id": "0640e1c6-e908-460c-b3eb-807ee25d9288",
   "metadata": {},
   "outputs": [
    {
     "name": "stdout",
     "output_type": "stream",
     "text": [
      "7\n",
      "3.7\n",
      "1j\n"
     ]
    }
   ],
   "source": [
    "a = 7 #\"int\" data type\n",
    "b = 3.7 #\"float\" data type\n",
    "c = 1j #\"complex\" data type\n",
    "\n",
    "print(a)\n",
    "print(b)\n",
    "print(c)"
   ]
  },
  {
   "cell_type": "markdown",
   "id": "3bea3226-9a2d-4d8c-a1ce-24ffb0dfa262",
   "metadata": {},
   "source": [
    "Ex 2:"
   ]
  },
  {
   "cell_type": "code",
   "execution_count": 8,
   "id": "1fcb4a8a-e35e-4002-ace0-141b742c6345",
   "metadata": {},
   "outputs": [
    {
     "name": "stdout",
     "output_type": "stream",
     "text": [
      "<class 'int'>\n",
      "<class 'float'>\n",
      "<class 'complex'>\n"
     ]
    }
   ],
   "source": [
    "a = 7 #\"int\" data type\n",
    "b = 3.7 #\"float\" data type\n",
    "c = 1j #\"complex\" data type\n",
    "\n",
    "print(type(a))\n",
    "print(type(b))\n",
    "print(type(c))"
   ]
  },
  {
   "cell_type": "markdown",
   "id": "782374c7-251b-4189-b642-9381748def8f",
   "metadata": {},
   "source": [
    "Ex 3:"
   ]
  },
  {
   "cell_type": "code",
   "execution_count": 11,
   "id": "f88ffb3a-ebb8-46a3-851c-a2fdbcd94bf9",
   "metadata": {},
   "outputs": [
    {
     "name": "stdout",
     "output_type": "stream",
     "text": [
      "<class 'int'>\n",
      "<class 'int'>\n",
      "<class 'int'>\n"
     ]
    }
   ],
   "source": [
    "a = 2\n",
    "b = 1564164165\n",
    "c = -454546\n",
    "\n",
    "print(type(a))\n",
    "print(type(b))\n",
    "print(type(c))"
   ]
  },
  {
   "cell_type": "markdown",
   "id": "4d892195-fa50-49c4-ab68-f66799edba6c",
   "metadata": {},
   "source": [
    "Ex 4:"
   ]
  },
  {
   "cell_type": "code",
   "execution_count": 14,
   "id": "82af0a8d-958b-4ca4-88f7-88d414defbc0",
   "metadata": {},
   "outputs": [
    {
     "name": "stdout",
     "output_type": "stream",
     "text": [
      "<class 'float'>\n",
      "<class 'float'>\n",
      "<class 'float'>\n"
     ]
    }
   ],
   "source": [
    "k = 1.12\n",
    "l = 1.01\n",
    "m = -12.84\n",
    "\n",
    "print(type(k))\n",
    "print(type(l))\n",
    "print(type(m))"
   ]
  },
  {
   "cell_type": "markdown",
   "id": "1937597a-cd29-4969-a6df-4bd3d4b9ce7b",
   "metadata": {},
   "source": [
    "Ex 5:"
   ]
  },
  {
   "cell_type": "code",
   "execution_count": 17,
   "id": "9d89a479-4c14-4716-9fea-f7e4ba10aa69",
   "metadata": {},
   "outputs": [
    {
     "name": "stdout",
     "output_type": "stream",
     "text": [
      "<class 'float'>\n",
      "<class 'float'>\n",
      "<class 'float'>\n"
     ]
    }
   ],
   "source": [
    "a = 35e4\n",
    "b = 18e9\n",
    "c = -12.4e5\n",
    "\n",
    "print(type(a))\n",
    "print(type(b))\n",
    "print(type(c))"
   ]
  },
  {
   "cell_type": "code",
   "execution_count": 19,
   "id": "a8b9e373-d5b4-4ba9-8159-4c348b2e05c0",
   "metadata": {},
   "outputs": [
    {
     "name": "stdout",
     "output_type": "stream",
     "text": [
      "<class 'complex'>\n",
      "<class 'complex'>\n",
      "<class 'complex'>\n"
     ]
    }
   ],
   "source": [
    "a = 8 + 7j\n",
    "b = 3j\n",
    "c = -12j\n",
    "\n",
    "print(type(a))\n",
    "print(type(b))\n",
    "print(type(c))"
   ]
  },
  {
   "cell_type": "markdown",
   "id": "999a0100-f78a-4243-ae12-81c8056907df",
   "metadata": {},
   "source": [
    "Ex 6: Convertation of data types"
   ]
  },
  {
   "cell_type": "code",
   "execution_count": 23,
   "id": "ad9c54cb-9e35-4636-b0eb-5115ee9cabf6",
   "metadata": {},
   "outputs": [
    {
     "name": "stdout",
     "output_type": "stream",
     "text": [
      "1.0\n",
      "15\n",
      "(1+0j)\n",
      "<class 'float'>\n",
      "<class 'int'>\n",
      "<class 'complex'>\n"
     ]
    }
   ],
   "source": [
    "a = 1\n",
    "b = 15.46\n",
    "c = 1j\n",
    "\n",
    "x = float(a)\n",
    "y = int(b)\n",
    "z = complex(a)\n",
    "\n",
    "print(x)\n",
    "print(y)\n",
    "print(z)\n",
    "\n",
    "print(type(x))\n",
    "print(type(y))\n",
    "print(type(z))"
   ]
  },
  {
   "cell_type": "markdown",
   "id": "e7e898d7-a715-4daa-98b3-1f99b4d533c9",
   "metadata": {},
   "source": [
    "Ex 7:  Random number"
   ]
  },
  {
   "cell_type": "code",
   "execution_count": 31,
   "id": "42158c17-b6a9-4c3d-93e8-7b7bc1ef9959",
   "metadata": {},
   "outputs": [
    {
     "name": "stdout",
     "output_type": "stream",
     "text": [
      "13\n"
     ]
    }
   ],
   "source": [
    "import random\n",
    "print(random.randrange(1,15))"
   ]
  },
  {
   "cell_type": "markdown",
   "id": "9c357435-9569-4bff-8c6e-1e6a2b130abc",
   "metadata": {},
   "source": [
    "PYTHON CASTING:"
   ]
  },
  {
   "cell_type": "markdown",
   "id": "58d61db3-865a-471a-bbb2-36dc973f3d44",
   "metadata": {},
   "source": [
    "Ex 1:"
   ]
  },
  {
   "cell_type": "code",
   "execution_count": 36,
   "id": "7e62bf32-877b-4abe-9dc3-357258d143a3",
   "metadata": {},
   "outputs": [
    {
     "name": "stdout",
     "output_type": "stream",
     "text": [
      "8\n",
      "1\n",
      "3\n"
     ]
    }
   ],
   "source": [
    "a = int(8)\n",
    "b = int(1.25)\n",
    "c = int(\"3\")\n",
    "\n",
    "print(a)\n",
    "print(b)\n",
    "print(c)"
   ]
  },
  {
   "cell_type": "code",
   "execution_count": 42,
   "id": "72fb3dd7-97fe-4a71-9f14-36ea4f151bf3",
   "metadata": {},
   "outputs": [
    {
     "name": "stdout",
     "output_type": "stream",
     "text": [
      "1.0\n",
      "3.95\n",
      "8.0\n",
      "7.2\n"
     ]
    }
   ],
   "source": [
    "a = float(1)\n",
    "b = float(3.95)\n",
    "c = float(\"8\")\n",
    "d = float(\"7.2\")\n",
    "\n",
    "print(a)\n",
    "print(b)\n",
    "print(c)\n",
    "print(d)"
   ]
  },
  {
   "cell_type": "markdown",
   "id": "84d6a996-3d2c-4785-8628-9f92a32d5612",
   "metadata": {},
   "source": [
    "Ex 3:"
   ]
  },
  {
   "cell_type": "code",
   "execution_count": 45,
   "id": "e6e11ecd-e9ee-4b8b-872f-4472ee33a8e8",
   "metadata": {},
   "outputs": [
    {
     "name": "stdout",
     "output_type": "stream",
     "text": [
      "918spider\n",
      "3\n",
      "2.85\n"
     ]
    }
   ],
   "source": [
    "a = str(\"918spider\")\n",
    "b = str(3)\n",
    "c = str(2.85)\n",
    "\n",
    "print(a)\n",
    "print(b)\n",
    "print(c)"
   ]
  },
  {
   "cell_type": "markdown",
   "id": "1f46e729-2be7-45e3-98f7-7b33a1b6b022",
   "metadata": {},
   "source": [
    "PYTHON STRINGS:"
   ]
  },
  {
   "cell_type": "markdown",
   "id": "a8122393-642c-4e57-a27d-45538bb4a067",
   "metadata": {},
   "source": [
    "Python Strings"
   ]
  },
  {
   "cell_type": "markdown",
   "id": "0dc3953d-021a-42c8-b630-6417e42e4e6b",
   "metadata": {},
   "source": [
    "Ex 1:"
   ]
  },
  {
   "cell_type": "code",
   "execution_count": 50,
   "id": "737ce10e-56c3-4891-b5fc-c9e69f3fa7a1",
   "metadata": {},
   "outputs": [
    {
     "name": "stdout",
     "output_type": "stream",
     "text": [
      "Albeni\n",
      "Albeni\n"
     ]
    }
   ],
   "source": [
    "print(\"Albeni\")\n",
    "print('Albeni')"
   ]
  },
  {
   "cell_type": "markdown",
   "id": "035d3993-1d9e-4085-97b3-c852bbe949b4",
   "metadata": {},
   "source": [
    "Ex 2: Quotes inside Quotes"
   ]
  },
  {
   "cell_type": "code",
   "execution_count": 53,
   "id": "d5516000-d767-4ef6-85d2-3463f9cdb1c1",
   "metadata": {},
   "outputs": [
    {
     "name": "stdout",
     "output_type": "stream",
     "text": [
      "It's Python\n",
      "This is 'Python'\n",
      "This is \"Python\"\n"
     ]
    }
   ],
   "source": [
    "print(\"It's Python\")\n",
    "print(\"This is 'Python'\")\n",
    "print('This is \"Python\"')"
   ]
  },
  {
   "cell_type": "markdown",
   "id": "3a008bfb-e1bc-4869-9ab3-6ed39efb5ec3",
   "metadata": {},
   "source": [
    "Ex 3: Assign String to a Variable"
   ]
  },
  {
   "cell_type": "code",
   "execution_count": 57,
   "id": "de36e449-a7e2-4329-9a44-598fc1681f88",
   "metadata": {},
   "outputs": [
    {
     "name": "stdout",
     "output_type": "stream",
     "text": [
      "C++\n"
     ]
    }
   ],
   "source": [
    "x = \"C++\"\n",
    "print(x)"
   ]
  },
  {
   "cell_type": "markdown",
   "id": "8ea768fa-aff8-4029-8161-ee0063babcc3",
   "metadata": {},
   "source": [
    "Ex 4: Multiline Strings"
   ]
  },
  {
   "cell_type": "code",
   "execution_count": 1,
   "id": "e31e776b-e261-4cd6-8889-2551e3ca21d0",
   "metadata": {},
   "outputs": [
    {
     "name": "stdout",
     "output_type": "stream",
     "text": [
      " C++ isn't as easy\n",
      "as Python Programming language,\n",
      "but Java is more difficult\n"
     ]
    }
   ],
   "source": [
    "a = \"\"\" C++ isn't as easy\n",
    "as Python Programming language,\n",
    "but Java is more difficult\"\"\"\n",
    "print(a)"
   ]
  },
  {
   "cell_type": "markdown",
   "id": "6d1099d1-976b-4e48-b2b4-888d1265ef63",
   "metadata": {},
   "source": [
    "Ex 5: "
   ]
  },
  {
   "cell_type": "code",
   "execution_count": 4,
   "id": "36aed06c-6ad8-4472-9593-c30560b0c612",
   "metadata": {},
   "outputs": [
    {
     "name": "stdout",
     "output_type": "stream",
     "text": [
      " C++ isn't as easy\n",
      "as Python Programming language,\n",
      "but Java is more difficult\n"
     ]
    }
   ],
   "source": [
    "a = ''' C++ isn't as easy\n",
    "as Python Programming language,\n",
    "but Java is more difficult'''\n",
    "print(a)"
   ]
  },
  {
   "cell_type": "markdown",
   "id": "3b58795a-43f4-4d03-bbea-453e0068f4cd",
   "metadata": {},
   "source": [
    "Ex 6: Strings are Arrays"
   ]
  },
  {
   "cell_type": "code",
   "execution_count": 19,
   "id": "29474021-cd65-47e2-8207-7c14f5e584d4",
   "metadata": {},
   "outputs": [
    {
     "name": "stdout",
     "output_type": "stream",
     "text": [
      "g\n"
     ]
    }
   ],
   "source": [
    "y = \"Programming\"\n",
    "print(y[3])"
   ]
  },
  {
   "cell_type": "markdown",
   "id": "4ff5561a-0c65-4f87-b4e4-b183290a52ed",
   "metadata": {},
   "source": [
    "Ex 7: Looping Through a String"
   ]
  },
  {
   "cell_type": "code",
   "execution_count": 26,
   "id": "15388992-d0a4-485a-ad86-0436a5d16e57",
   "metadata": {},
   "outputs": [
    {
     "name": "stdout",
     "output_type": "stream",
     "text": [
      "P\n",
      "r\n",
      "o\n",
      "g\n",
      "r\n",
      "a\n",
      "m\n",
      "m\n",
      "i\n",
      "n\n",
      "g\n"
     ]
    }
   ],
   "source": [
    "for x in \"Programming\":\n",
    "    print(x)"
   ]
  },
  {
   "cell_type": "markdown",
   "id": "ef938fb4-7e56-46cc-8ce9-ab46040c3a9e",
   "metadata": {},
   "source": [
    "Ex 8: String Length"
   ]
  },
  {
   "cell_type": "code",
   "execution_count": 31,
   "id": "fbb9c9ff-0d0d-4f02-a4e5-221becff6a55",
   "metadata": {},
   "outputs": [
    {
     "name": "stdout",
     "output_type": "stream",
     "text": [
      "8\n"
     ]
    }
   ],
   "source": [
    "b = \"Iskendir\"\n",
    "print(len(b))"
   ]
  },
  {
   "cell_type": "markdown",
   "id": "9327306a-be87-4853-bd9f-92e15bbe4c61",
   "metadata": {},
   "source": [
    "Ex 9: Check String"
   ]
  },
  {
   "cell_type": "code",
   "execution_count": 34,
   "id": "531e6409-9104-4ad7-990f-dc60a2cad3ce",
   "metadata": {},
   "outputs": [
    {
     "name": "stdout",
     "output_type": "stream",
     "text": [
      "True\n"
     ]
    }
   ],
   "source": [
    "f = \"Programming is very interesting!\"\n",
    "print(\"is very\" in f)"
   ]
  },
  {
   "cell_type": "markdown",
   "id": "8cbcc9dc-9261-4a5f-9a6b-c3c84c199921",
   "metadata": {},
   "source": [
    "Ex 10: Checking strings by \"If\":"
   ]
  },
  {
   "cell_type": "code",
   "execution_count": 39,
   "id": "1a91a7d3-9112-43b8-85d6-cf0156364dd4",
   "metadata": {},
   "outputs": [
    {
     "name": "stdout",
     "output_type": "stream",
     "text": [
      "Yes, there exists'Programming'\n"
     ]
    }
   ],
   "source": [
    "g = \"Programming is very interesting!\"\n",
    "if \"Programming\" in g:\n",
    "    print(\"Yes, there exists'Programming'\")"
   ]
  },
  {
   "cell_type": "markdown",
   "id": "8e24b136-c4ea-4595-9241-fb34d5e08a10",
   "metadata": {},
   "source": [
    "Ex 10: Checking if NOT:"
   ]
  },
  {
   "cell_type": "code",
   "execution_count": 42,
   "id": "6e9463a6-7dce-4484-a815-41c8f5e68fac",
   "metadata": {},
   "outputs": [
    {
     "name": "stdout",
     "output_type": "stream",
     "text": [
      "No, there is no C++\n"
     ]
    }
   ],
   "source": [
    "abc = \"Python and Java\"\n",
    "if \"C++\" not in abc:\n",
    "    print(\"No, there is no C++\")"
   ]
  },
  {
   "cell_type": "markdown",
   "id": "d74c0b3a-506a-4a10-a99c-95a229c2acf8",
   "metadata": {},
   "source": [
    "Ex 11: Checking if NOT:"
   ]
  },
  {
   "cell_type": "code",
   "execution_count": 46,
   "id": "9cada742-bff0-4b07-978b-742657d931f1",
   "metadata": {},
   "outputs": [
    {
     "name": "stdout",
     "output_type": "stream",
     "text": [
      "True\n"
     ]
    }
   ],
   "source": [
    "a = \"Java and C++\"\n",
    "print('Python' not in a)"
   ]
  },
  {
   "cell_type": "markdown",
   "id": "51420651-de7f-4e02-a9d1-fbbd97d64aab",
   "metadata": {},
   "source": [
    "PYTHON SLICING STRINGS: \n"
   ]
  },
  {
   "cell_type": "markdown",
   "id": "4b7f9716-0e79-4e83-97d7-9639ed80b260",
   "metadata": {},
   "source": [
    "Ex 1: Slicing"
   ]
  },
  {
   "cell_type": "code",
   "execution_count": 51,
   "id": "2b93c748-edc4-40c5-9227-2368fdfdf481",
   "metadata": {},
   "outputs": [
    {
     "name": "stdout",
     "output_type": "stream",
     "text": [
      "tub\n"
     ]
    }
   ],
   "source": [
    "c = \"Youtube\"\n",
    "print(c[3:6])"
   ]
  },
  {
   "cell_type": "markdown",
   "id": "5275aecf-5b0d-4e55-9bfe-005c158c91c2",
   "metadata": {},
   "source": [
    "Ex 2: Slice From the Start"
   ]
  },
  {
   "cell_type": "code",
   "execution_count": 54,
   "id": "c20adc07-15b5-4a6d-8677-b2a009714230",
   "metadata": {},
   "outputs": [
    {
     "name": "stdout",
     "output_type": "stream",
     "text": [
      "Yout\n"
     ]
    }
   ],
   "source": [
    "с = \"Youtube\"\n",
    "print(c[:4])"
   ]
  },
  {
   "cell_type": "markdown",
   "id": "fece1f1f-a81a-4704-a137-e4752fcab88e",
   "metadata": {},
   "source": [
    "Ex 3: Slice To the End"
   ]
  },
  {
   "cell_type": "code",
   "execution_count": 57,
   "id": "7f2297ce-05a3-4984-88cc-87b4041c455a",
   "metadata": {},
   "outputs": [
    {
     "name": "stdout",
     "output_type": "stream",
     "text": [
      "tube\n"
     ]
    }
   ],
   "source": [
    "с = \"Youtube\"\n",
    "print(c[3:])"
   ]
  },
  {
   "cell_type": "markdown",
   "id": "668bda98-d454-4d67-96a8-610093bf8221",
   "metadata": {},
   "source": [
    "Ex 4: Negative Indexing"
   ]
  },
  {
   "cell_type": "code",
   "execution_count": 68,
   "id": "e5277c66-d44d-41ba-8090-3f8ffb5d6b3a",
   "metadata": {},
   "outputs": [
    {
     "name": "stdout",
     "output_type": "stream",
     "text": [
      "tub\n"
     ]
    }
   ],
   "source": [
    "C = \"Youtube\"\n",
    "print(c[-4:-1])\n"
   ]
  },
  {
   "cell_type": "markdown",
   "id": "4f7abd50-783c-487a-8679-46454db36b37",
   "metadata": {},
   "source": [
    "PYTHON MODIFY STRINGS:"
   ]
  },
  {
   "cell_type": "markdown",
   "id": "69d7fab3-64a0-4929-95a7-55515a6deb8a",
   "metadata": {},
   "source": [
    "Ex 1: Upper Case"
   ]
  },
  {
   "cell_type": "code",
   "execution_count": 74,
   "id": "2b8d8977-e141-4fed-bcaa-dbed8e25b10a",
   "metadata": {},
   "outputs": [
    {
     "name": "stdout",
     "output_type": "stream",
     "text": [
      "IPHONE\n"
     ]
    }
   ],
   "source": [
    "word = \"Iphone\"\n",
    "print(word.upper())"
   ]
  },
  {
   "cell_type": "markdown",
   "id": "edfd869c-61dc-4afa-84f4-94c747ddbc12",
   "metadata": {},
   "source": [
    "Ex 2: Lower Case "
   ]
  },
  {
   "cell_type": "code",
   "execution_count": 77,
   "id": "2d74b433-5f6d-464e-8781-fd35229a2291",
   "metadata": {},
   "outputs": [
    {
     "name": "stdout",
     "output_type": "stream",
     "text": [
      "samsung\n"
     ]
    }
   ],
   "source": [
    "word = \"SAMSUNG\"\n",
    "print(word.lower())"
   ]
  },
  {
   "cell_type": "markdown",
   "id": "edd009f0-50e0-425d-a486-110a5bc437e9",
   "metadata": {},
   "source": [
    "Ex 3: Remove Whitespace"
   ]
  },
  {
   "cell_type": "code",
   "execution_count": 86,
   "id": "3ccfaf7e-a4d9-4466-a8ab-5457c7366752",
   "metadata": {},
   "outputs": [
    {
     "name": "stdout",
     "output_type": "stream",
     "text": [
      "Python!\n"
     ]
    }
   ],
   "source": [
    "word = \"Python! \"\n",
    "print(word.strip())"
   ]
  },
  {
   "cell_type": "markdown",
   "id": "221c49bb-4e11-4083-8714-6f97ff67a8f1",
   "metadata": {},
   "source": [
    "Ex 4: Replace String"
   ]
  },
  {
   "cell_type": "code",
   "execution_count": 96,
   "id": "deffc358-c62f-4d21-b2fe-26d308aee0ac",
   "metadata": {},
   "outputs": [
    {
     "name": "stdout",
     "output_type": "stream",
     "text": [
      "Kello, this is Java\n"
     ]
    }
   ],
   "source": [
    "fff = \"Hello, this is Java\"\n",
    "print(fff.replace(\"H\", \"K\"))"
   ]
  },
  {
   "cell_type": "markdown",
   "id": "ae82cc59-7793-4ec8-a062-df1a010f572e",
   "metadata": {},
   "source": [
    "Ex 5: Split String"
   ]
  },
  {
   "cell_type": "code",
   "execution_count": 103,
   "id": "68eca263-a5bc-472f-8706-a629e8a254e8",
   "metadata": {},
   "outputs": [
    {
     "name": "stdout",
     "output_type": "stream",
     "text": [
      "['Iskendi', ', Makhanbet']\n"
     ]
    }
   ],
   "source": [
    "ggg = \"Iskendir, Makhanbet\"\n",
    "kkk = ggg.split(\"r\")\n",
    "print(kkk)"
   ]
  },
  {
   "cell_type": "markdown",
   "id": "888d15fa-a0f4-4c8e-af9b-d27a7a4546fb",
   "metadata": {},
   "source": [
    "PYTHON STRING CONCATINATION:"
   ]
  },
  {
   "cell_type": "markdown",
   "id": "090d681f-e360-425e-98cc-514c40d59a90",
   "metadata": {},
   "source": [
    "Ex 1: "
   ]
  },
  {
   "cell_type": "code",
   "execution_count": 118,
   "id": "57d80699-fad5-4fde-8f1b-d68a49d3a415",
   "metadata": {},
   "outputs": [
    {
     "name": "stdout",
     "output_type": "stream",
     "text": [
      "IskendirMakhanbet\n"
     ]
    }
   ],
   "source": [
    "a = \"Iskendir\"\n",
    "b = \"Makhanbet\"\n",
    "c = a + b\n",
    "print(c)"
   ]
  },
  {
   "cell_type": "markdown",
   "id": "88d6ba9d-298a-4ee3-a3e6-c493d98af650",
   "metadata": {},
   "source": [
    "Ex 2: "
   ]
  },
  {
   "cell_type": "code",
   "execution_count": 116,
   "id": "5098816d-62bd-4332-bae5-19984c9147bb",
   "metadata": {},
   "outputs": [
    {
     "name": "stdout",
     "output_type": "stream",
     "text": [
      "Iskendir Makhanbet\n"
     ]
    }
   ],
   "source": [
    "a = \"Iskendir\"\n",
    "b = \"Makhanbet\"\n",
    "c = a + \" \" + b\n",
    "print(c)"
   ]
  },
  {
   "cell_type": "markdown",
   "id": "c6d07bf2-81b1-4f3e-a27e-1f5d5882992d",
   "metadata": {},
   "source": [
    "PYTHON - FORMAT - STRINGS: "
   ]
  },
  {
   "cell_type": "code",
   "execution_count": 123,
   "id": "8ab37766-944a-4869-b346-2a7e3fc51f2c",
   "metadata": {},
   "outputs": [
    {
     "ename": "TypeError",
     "evalue": "can only concatenate str (not \"int\") to str",
     "output_type": "error",
     "traceback": [
      "\u001b[1;31m---------------------------------------------------------------------------\u001b[0m",
      "\u001b[1;31mTypeError\u001b[0m                                 Traceback (most recent call last)",
      "Cell \u001b[1;32mIn[123], line 2\u001b[0m\n\u001b[0;32m      1\u001b[0m a \u001b[38;5;241m=\u001b[39m \u001b[38;5;241m5\u001b[39m\n\u001b[1;32m----> 2\u001b[0m \u001b[38;5;28mprint\u001b[39m(\u001b[38;5;124m\"\u001b[39m\u001b[38;5;124mHello\u001b[39m\u001b[38;5;124m\"\u001b[39m \u001b[38;5;241m+\u001b[39m a)\n",
      "\u001b[1;31mTypeError\u001b[0m: can only concatenate str (not \"int\") to str"
     ]
    }
   ],
   "source": [
    "a = 5\n",
    "print(\"Hello\" + a)"
   ]
  },
  {
   "cell_type": "code",
   "execution_count": 129,
   "id": "1c8873b5-723f-4e5a-9de2-530960384059",
   "metadata": {},
   "outputs": [
    {
     "name": "stdout",
     "output_type": "stream",
     "text": [
      "his age is 48\n"
     ]
    }
   ],
   "source": [
    "c = 48\n",
    "d = f\"his age is {c}\"\n",
    "print(d)"
   ]
  },
  {
   "cell_type": "markdown",
   "id": "85b3de1e-7536-48ef-b442-14f06d83e96d",
   "metadata": {},
   "source": [
    "Ex 2: Placeholders and Modifiers"
   ]
  },
  {
   "cell_type": "code",
   "execution_count": 134,
   "id": "8f7b3c64-ab58-4745-8cad-6613b4b64ad1",
   "metadata": {},
   "outputs": [
    {
     "name": "stdout",
     "output_type": "stream",
     "text": [
      "Computer was created 85 years ago\n"
     ]
    }
   ],
   "source": [
    "number = 85\n",
    "words = f\"Computer was created {number} years ago\"\n",
    "print(words)"
   ]
  },
  {
   "cell_type": "code",
   "execution_count": 138,
   "id": "4e0d7931-3537-4399-85da-2f9277f53016",
   "metadata": {},
   "outputs": [
    {
     "name": "stdout",
     "output_type": "stream",
     "text": [
      "My GPA is 3.124, it's really good\n"
     ]
    }
   ],
   "source": [
    "GPA = 3.1245\n",
    "Sentence = f\"My GPA is {GPA:.3f}, it's really good\"\n",
    "print(Sentence)"
   ]
  },
  {
   "cell_type": "markdown",
   "id": "603b8326-ed30-424e-b139-a4b9393b195d",
   "metadata": {},
   "source": [
    "Ex 3: Math Operators in Strings:"
   ]
  },
  {
   "cell_type": "code",
   "execution_count": 141,
   "id": "f0a202a0-8eb5-47bf-b5bf-4258200c1a57",
   "metadata": {},
   "outputs": [
    {
     "name": "stdout",
     "output_type": "stream",
     "text": [
      "His age is 20, so...\n"
     ]
    }
   ],
   "source": [
    "abc = f\"His age is {5*4}, so...\"\n",
    "print(abc)"
   ]
  },
  {
   "cell_type": "markdown",
   "id": "37a130b3-01ff-4381-a012-0c49fbadefeb",
   "metadata": {},
   "source": [
    "Ex 4: Escape characters:"
   ]
  },
  {
   "cell_type": "code",
   "execution_count": 148,
   "id": "bbf9a0d5-189d-40b0-ab43-ef8a4bf354aa",
   "metadata": {},
   "outputs": [
    {
     "name": "stdout",
     "output_type": "stream",
     "text": [
      "My name is \"Iskendir\"\n"
     ]
    }
   ],
   "source": [
    "a = \"My name is \\\"Iskendir\\\"\"\n",
    "print(a)"
   ]
  },
  {
   "cell_type": "code",
   "execution_count": null,
   "id": "0741b719-7884-40d8-a1b6-cc49cd9a3380",
   "metadata": {},
   "outputs": [],
   "source": []
  }
 ],
 "metadata": {
  "kernelspec": {
   "display_name": "Python [conda env:base] *",
   "language": "python",
   "name": "conda-base-py"
  },
  "language_info": {
   "codemirror_mode": {
    "name": "ipython",
    "version": 3
   },
   "file_extension": ".py",
   "mimetype": "text/x-python",
   "name": "python",
   "nbconvert_exporter": "python",
   "pygments_lexer": "ipython3",
   "version": "3.12.7"
  }
 },
 "nbformat": 4,
 "nbformat_minor": 5
}

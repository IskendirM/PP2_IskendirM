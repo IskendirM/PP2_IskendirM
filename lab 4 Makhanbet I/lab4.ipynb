{
 "cells": [
  {
   "cell_type": "markdown",
   "id": "d2715f28-3e28-4194-ac53-7f2522954190",
   "metadata": {},
   "source": [
    "PYTHON ITERATORS AND GENERATORS"
   ]
  },
  {
   "cell_type": "markdown",
   "id": "2ed5ada9-c01f-4a7b-aef9-183014100aea",
   "metadata": {},
   "source": [
    "Task 1:"
   ]
  },
  {
   "cell_type": "code",
   "execution_count": 13,
   "id": "78f0ef37-70ad-4d7d-a8da-2ac004847dc0",
   "metadata": {},
   "outputs": [
    {
     "name": "stdin",
     "output_type": "stream",
     "text": [
      " 4\n"
     ]
    },
    {
     "name": "stdout",
     "output_type": "stream",
     "text": [
      "1\n",
      "4\n",
      "9\n",
      "16\n"
     ]
    }
   ],
   "source": [
    "N = int(input())\n",
    "def square_g(N):\n",
    "    for i in range(1, N+1):\n",
    "        yield i**2\n",
    "        \n",
    "for square in square_g(N):\n",
    "    print(square)"
   ]
  },
  {
   "cell_type": "markdown",
   "id": "7597b03b-0d0e-4762-a97b-4c6adee86caf",
   "metadata": {},
   "source": [
    "Task 2:"
   ]
  },
  {
   "cell_type": "code",
   "execution_count": 15,
   "id": "e97f3487-0f9f-405c-a62f-5818f8769dd3",
   "metadata": {},
   "outputs": [
    {
     "name": "stdin",
     "output_type": "stream",
     "text": [
      " 9\n"
     ]
    },
    {
     "name": "stdout",
     "output_type": "stream",
     "text": [
      "0 , 2 , 4 , 6 , 8\n"
     ]
    }
   ],
   "source": [
    "N = int(input())\n",
    "def even_num(N):\n",
    "    for i in range(0, N+1):\n",
    "        if i % 2 == 0:\n",
    "            yield i\n",
    "even = even_num(N)\n",
    "print(\" , \".join(map(str, even)))"
   ]
  },
  {
   "cell_type": "markdown",
   "id": "2be99efe-6c77-4358-809b-aa0783e94a49",
   "metadata": {},
   "source": [
    "Task 3:"
   ]
  },
  {
   "cell_type": "code",
   "execution_count": 19,
   "id": "57df6140-6c0a-493b-a1d7-80ae5f8be1f3",
   "metadata": {},
   "outputs": [
    {
     "name": "stdin",
     "output_type": "stream",
     "text": [
      " 30\n"
     ]
    },
    {
     "name": "stdout",
     "output_type": "stream",
     "text": [
      "0 , 12 , 24\n"
     ]
    }
   ],
   "source": [
    "N = int(input())\n",
    "def func(N):\n",
    "    for i in range(0, N+1):\n",
    "        if i % 3 == 0 and i % 4 == 0:\n",
    "            yield i\n",
    "numbers = func(N)\n",
    "print(\" , \".join(map(str, numbers)))"
   ]
  },
  {
   "cell_type": "markdown",
   "id": "4948a9ff-62ed-424d-8cae-431d626be76a",
   "metadata": {},
   "source": [
    "Task 4:"
   ]
  },
  {
   "cell_type": "code",
   "execution_count": 22,
   "id": "2b690ad8-b892-4721-990a-e7f082f0bfec",
   "metadata": {},
   "outputs": [
    {
     "name": "stdin",
     "output_type": "stream",
     "text": [
      " 2\n",
      " 5\n"
     ]
    },
    {
     "name": "stdout",
     "output_type": "stream",
     "text": [
      "4 , 9 , 16 , 25\n"
     ]
    }
   ],
   "source": [
    "a = int(input())\n",
    "b = int(input())\n",
    "def func(a,b):\n",
    "    for i in range(a, b+1):\n",
    "        yield i**2\n",
    "squares = func(a,b)\n",
    "print(\" , \".join(map(str, squares)))"
   ]
  },
  {
   "cell_type": "markdown",
   "id": "991a3e9e-6827-49a1-bb87-ea14544db6db",
   "metadata": {},
   "source": [
    "Task 5:"
   ]
  },
  {
   "cell_type": "code",
   "execution_count": 35,
   "id": "f182b4b4-ecb6-446d-ba1d-b858a9693d55",
   "metadata": {},
   "outputs": [
    {
     "name": "stdin",
     "output_type": "stream",
     "text": [
      " 8\n"
     ]
    },
    {
     "name": "stdout",
     "output_type": "stream",
     "text": [
      "8\n",
      "7\n",
      "6\n",
      "5\n",
      "4\n",
      "3\n",
      "2\n",
      "1\n",
      "0\n"
     ]
    }
   ],
   "source": [
    "N = int(input())\n",
    "def func(N):\n",
    "    while N >= 0:\n",
    "        yield N\n",
    "        N -= 1\n",
    "for i in func(N):\n",
    "    print(i)"
   ]
  },
  {
   "cell_type": "markdown",
   "id": "d3394fc1-2a2e-4e08-b6e8-44ad925cafd9",
   "metadata": {},
   "source": [
    "PYTHON DATE"
   ]
  },
  {
   "cell_type": "markdown",
   "id": "8e44816e-7081-4cdd-9a10-5096a13245ee",
   "metadata": {},
   "source": [
    "Task 1:"
   ]
  },
  {
   "cell_type": "code",
   "execution_count": 43,
   "id": "c20721f7-5a5e-44d8-a228-b9c27b64722a",
   "metadata": {},
   "outputs": [
    {
     "name": "stdout",
     "output_type": "stream",
     "text": [
      "2025/02/07\n"
     ]
    }
   ],
   "source": [
    "from datetime import datetime, timedelta\n",
    "\n",
    "new_date = datetime.now() - timedelta(days=5)\n",
    "print(new_date.strftime(\"%Y/%m/%d\"))"
   ]
  },
  {
   "cell_type": "markdown",
   "id": "68d1a85f-517a-4be9-95f0-4a644637f325",
   "metadata": {},
   "source": [
    "Task 2:"
   ]
  },
  {
   "cell_type": "code",
   "execution_count": 48,
   "id": "de3a7d4a-f20a-44e6-9873-dc8157154f43",
   "metadata": {},
   "outputs": [
    {
     "name": "stdout",
     "output_type": "stream",
     "text": [
      "2025/02/11\n",
      "2025/02/12\n",
      "2025/02/13\n"
     ]
    }
   ],
   "source": [
    "from datetime import datetime, timedelta\n",
    "yesterday = datetime.now() - timedelta(days = 1)\n",
    "today = datetime.now()\n",
    "tomorrow = datetime.now() + timedelta(days = 1)\n",
    "print(yesterday.strftime(\"%Y/%m/%d\"))\n",
    "print(today.strftime(\"%Y/%m/%d\"))\n",
    "print(tomorrow.strftime(\"%Y/%m/%d\"))"
   ]
  },
  {
   "cell_type": "markdown",
   "id": "d1a07487-b1c1-4bf4-8bee-de17ba364628",
   "metadata": {},
   "source": [
    "Task 3:"
   ]
  },
  {
   "cell_type": "code",
   "execution_count": 55,
   "id": "24cf0485-7407-41c2-af87-7b6ff2342bf7",
   "metadata": {},
   "outputs": [
    {
     "name": "stdout",
     "output_type": "stream",
     "text": [
      "2025-02-12 21:16:17\n"
     ]
    }
   ],
   "source": [
    "from datetime import datetime\n",
    "print(datetime.now().replace(microsecond=0))"
   ]
  },
  {
   "cell_type": "markdown",
   "id": "33f320e5-02af-4d88-9c09-7d0b2c88bbf9",
   "metadata": {},
   "source": [
    "Task 4:"
   ]
  },
  {
   "cell_type": "code",
   "execution_count": 60,
   "id": "2c86fff3-8670-4162-856c-3321d0c80183",
   "metadata": {},
   "outputs": [
    {
     "name": "stdout",
     "output_type": "stream",
     "text": [
      "193500.0\n"
     ]
    }
   ],
   "source": [
    "from datetime import datetime\n",
    "date1 = datetime(2025, 2, 12, 8, 0, 0)\n",
    "date2 = datetime(2025, 2, 14, 13, 45, 0)\n",
    "print((date2 - date1).total_seconds())"
   ]
  },
  {
   "cell_type": "markdown",
   "id": "65787c0d-5791-4840-a0ad-6b97f6c2cf48",
   "metadata": {},
   "source": [
    "PYTHON MATH LIBRARY"
   ]
  },
  {
   "cell_type": "markdown",
   "id": "c1ba9bc5-8630-4f53-8bbd-c8f9c3c6c456",
   "metadata": {},
   "source": [
    "Task 1:"
   ]
  },
  {
   "cell_type": "code",
   "execution_count": 64,
   "id": "4d5ce997-5836-4df0-b294-4c5af6791f76",
   "metadata": {},
   "outputs": [
    {
     "name": "stdin",
     "output_type": "stream",
     "text": [
      " 30\n"
     ]
    },
    {
     "name": "stdout",
     "output_type": "stream",
     "text": [
      "0.5235987755982988\n"
     ]
    }
   ],
   "source": [
    "import math\n",
    "degree = int(input())\n",
    "print(math.radians(degree))"
   ]
  },
  {
   "cell_type": "markdown",
   "id": "c611056f-9612-451a-a5e3-7c9d54938959",
   "metadata": {},
   "source": [
    "Task 2:"
   ]
  },
  {
   "cell_type": "code",
   "execution_count": 73,
   "id": "1593d3d7-b531-4a9e-881f-cbebdbc78fc6",
   "metadata": {},
   "outputs": [
    {
     "name": "stdin",
     "output_type": "stream",
     "text": [
      " 5\n",
      " 5\n",
      " 6\n"
     ]
    },
    {
     "name": "stdout",
     "output_type": "stream",
     "text": [
      "27.5\n"
     ]
    }
   ],
   "source": [
    "import math\n",
    "height = int(input())\n",
    "base1 = int(input())\n",
    "base2 = int(input())\n",
    "area = (base1 + base2) * height / 2\n",
    "print(area)"
   ]
  },
  {
   "cell_type": "markdown",
   "id": "5e26c831-40c2-48b6-9c27-4172b5262a0e",
   "metadata": {},
   "source": [
    "Task 3:"
   ]
  },
  {
   "cell_type": "code",
   "execution_count": 82,
   "id": "b36ee90a-e69e-4601-8789-17cc2fdf9f8a",
   "metadata": {},
   "outputs": [
    {
     "name": "stdin",
     "output_type": "stream",
     "text": [
      " 4\n",
      " 25\n"
     ]
    },
    {
     "name": "stdout",
     "output_type": "stream",
     "text": [
      "625.0000000000001\n"
     ]
    }
   ],
   "source": [
    "import math\n",
    "n = int(input()) #number of sides\n",
    "a = int(input()) #length of the side\n",
    "cotangent = 1 / math.tan(math.pi / n)\n",
    "area = (n * (a**2) * cotangent) / 4\n",
    "print(area_cel)"
   ]
  },
  {
   "cell_type": "markdown",
   "id": "4010b452-219a-4186-b517-31384bcfeb6e",
   "metadata": {},
   "source": [
    "Task 4:"
   ]
  },
  {
   "cell_type": "code",
   "execution_count": 85,
   "id": "cc40090a-3b86-4a1b-9ba9-6921a305d02d",
   "metadata": {},
   "outputs": [
    {
     "name": "stdin",
     "output_type": "stream",
     "text": [
      " 5\n",
      " 6\n"
     ]
    },
    {
     "name": "stdout",
     "output_type": "stream",
     "text": [
      "30\n"
     ]
    }
   ],
   "source": [
    "a = int(input()) #length of the base\n",
    "h = int(input()) #length of the height\n",
    "area_of_the_parallelogram = a * h\n",
    "print(area_of_the_parallelogram)"
   ]
  },
  {
   "cell_type": "markdown",
   "id": "fd910f92-365b-4ef8-87bc-67b8c0279b62",
   "metadata": {},
   "source": [
    "JSON Task "
   ]
  },
  {
   "cell_type": "code",
   "execution_count": null,
   "id": "f95b845b-0100-498f-9bff-b8220dc42545",
   "metadata": {},
   "outputs": [],
   "source": []
  }
 ],
 "metadata": {
  "kernelspec": {
   "display_name": "Python [conda env:base] *",
   "language": "python",
   "name": "conda-base-py"
  },
  "language_info": {
   "codemirror_mode": {
    "name": "ipython",
    "version": 3
   },
   "file_extension": ".py",
   "mimetype": "text/x-python",
   "name": "python",
   "nbconvert_exporter": "python",
   "pygments_lexer": "ipython3",
   "version": "3.12.7"
  }
 },
 "nbformat": 4,
 "nbformat_minor": 5
}
